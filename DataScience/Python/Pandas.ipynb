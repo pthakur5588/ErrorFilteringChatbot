{
 "cells": [
  {
   "cell_type": "markdown",
   "metadata": {},
   "source": [
    "## Table of Content\n",
    "\n",
    "1. **[Pandas](#pandas)**\n",
    "\n",
    "2. **[Data Structures](#structures)**\n",
    "    \n",
    "3. **[Pandas Series](#series)**\n",
    "    - 3.1 - [Creating a Series](#creatingS)\n",
    "    - 3.2 - [Manipulating Series](#manipulatingS)\n",
    "\n",
    "4. **[Pandas DataFrames](#dataframes)**\n",
    "    - 4.1 - [Creating DataFrames](#creatingDF)\n",
    "    - 4.2 - [Manipulating DataFrames](#manipulatingDF)\n",
    "\n",
    "5. **[Reading Data from Different Sources](#reading_data)**\n"
   ]
  },
  {
   "cell_type": "markdown",
   "metadata": {},
   "source": [
    "<a id=\"pandas\"> </a>\n",
    "## 1. Pandas"
   ]
  },
  {
   "cell_type": "markdown",
   "metadata": {},
   "source": [
    "<table align=\"left\">\n",
    "    <tr>\n",
    "        <td width=\"15%\">\n",
    "            <img src=\"note.png\">\n",
    "        </td>\n",
    "        <td>\n",
    "            <div align=\"left\", style=\"font-size:120%\">\n",
    "                <font color=\"#21618C\">\n",
    "                    <b> Pandas contain data structures and data manipulation tools designed for data cleaning and analysis.\n",
    "<br><br>\n",
    "                        While pandas adopt many coding idioms from NumPy, the biggest difference is that pandas is designed for working with tabular or heterogeneous data. NumPy, by contrast, is best suited for working with homogeneous numerical array data.<br><br>\n",
    "                         The name Pandas is derived from the term “panel data”, an econometrics term for multidimensional structured data sets.\n",
    "                    </b>\n",
    "                </font>\n",
    "            </div>\n",
    "        </td>\n",
    "    </tr>\n",
    "</table>"
   ]
  },
  {
   "cell_type": "markdown",
   "metadata": {},
   "source": [
    "**How to install pandas?**<br>\n",
    "1. You can use-<br>\n",
    "`!pip install pandas`<br>\n",
    "2. You can import it as-<br>\n",
    "import pandas as pd"
   ]
  },
  {
   "cell_type": "markdown",
   "metadata": {},
   "source": [
    "To import the pandas library the following convention is used"
   ]
  },
  {
   "cell_type": "code",
   "execution_count": 119,
   "metadata": {},
   "outputs": [],
   "source": [
    "import pandas as pd"
   ]
  },
  {
   "cell_type": "code",
   "execution_count": 120,
   "metadata": {},
   "outputs": [
    {
     "name": "stdout",
     "output_type": "stream",
     "text": [
      "Requirement already satisfied: pandas in c:\\users\\1149p\\appdata\\local\\packages\\pythonsoftwarefoundation.python.3.11_qbz5n2kfra8p0\\localcache\\local-packages\\python311\\site-packages (2.2.3)\n",
      "Requirement already satisfied: numpy>=1.23.2 in c:\\users\\1149p\\appdata\\local\\packages\\pythonsoftwarefoundation.python.3.11_qbz5n2kfra8p0\\localcache\\local-packages\\python311\\site-packages (from pandas) (2.2.1)\n",
      "Requirement already satisfied: python-dateutil>=2.8.2 in c:\\users\\1149p\\appdata\\local\\packages\\pythonsoftwarefoundation.python.3.11_qbz5n2kfra8p0\\localcache\\local-packages\\python311\\site-packages (from pandas) (2.9.0.post0)\n",
      "Requirement already satisfied: pytz>=2020.1 in c:\\users\\1149p\\appdata\\local\\packages\\pythonsoftwarefoundation.python.3.11_qbz5n2kfra8p0\\localcache\\local-packages\\python311\\site-packages (from pandas) (2024.2)\n",
      "Requirement already satisfied: tzdata>=2022.7 in c:\\users\\1149p\\appdata\\local\\packages\\pythonsoftwarefoundation.python.3.11_qbz5n2kfra8p0\\localcache\\local-packages\\python311\\site-packages (from pandas) (2024.2)\n",
      "Requirement already satisfied: six>=1.5 in c:\\users\\1149p\\appdata\\local\\packages\\pythonsoftwarefoundation.python.3.11_qbz5n2kfra8p0\\localcache\\local-packages\\python311\\site-packages (from python-dateutil>=2.8.2->pandas) (1.17.0)\n",
      "Note: you may need to restart the kernel to use updated packages.\n"
     ]
    },
    {
     "name": "stderr",
     "output_type": "stream",
     "text": [
      "\n",
      "[notice] A new release of pip is available: 24.0 -> 24.3.1\n",
      "[notice] To update, run: C:\\Users\\1149p\\AppData\\Local\\Microsoft\\WindowsApps\\PythonSoftwareFoundation.Python.3.11_qbz5n2kfra8p0\\python.exe -m pip install --upgrade pip\n"
     ]
    }
   ],
   "source": [
    "pip install pandas"
   ]
  },
  {
   "cell_type": "markdown",
   "metadata": {},
   "source": [
    "So from now on we will use `pd.` instead of pandas. "
   ]
  },
  {
   "cell_type": "markdown",
   "metadata": {},
   "source": [
    "<a id=\"structures\"> </a>\n",
    "## 2. Data Structures"
   ]
  },
  {
   "cell_type": "markdown",
   "metadata": {},
   "source": [
    "Pandas has two data structures as follows:<br>\n",
    "1. A Series is 1-dimensional labeled array that can hold data of any type (integer, string, boolean, float, python objects, and so on). It’s axis labels are collectively called an index.<br>\n",
    "2. A DataFrame is 2-dimensional labeled data structure with columns. It supports multiple datatypes.\n",
    "  "
   ]
  },
  {
   "cell_type": "markdown",
   "metadata": {},
   "source": [
    "<a id=\"series\"> </a>\n",
    "## 3. Pandas Series"
   ]
  },
  {
   "cell_type": "markdown",
   "metadata": {},
   "source": [
    "<table align=\"left\">\n",
    "    <tr>\n",
    "        <td width=\"15%\">\n",
    "            <img src=\"note.png\">\n",
    "        </td>\n",
    "        <td>\n",
    "            <div align=\"left\", style=\"font-size:120%\">\n",
    "                <font color=\"#21618C\">\n",
    "                    <b> Pandas Series is a one-dimensional labeled array capable of holding any data type. However, a series is a sequence of homogeneous data types, similar to an array, list, or column in a table.<br><br>\n",
    "                        It will assign a labeled index to each item in the Series. By default, each item will receive an index label from 0 to N, where N is the length of the Series minus one.\n",
    "<br><br>\n",
    "                    </b>\n",
    "                </font>\n",
    "            </div>\n",
    "        </td>\n",
    "    </tr>\n",
    "</table>"
   ]
  },
  {
   "cell_type": "markdown",
   "metadata": {},
   "source": [
    "<a id=\"creatingS\"> </a>\n",
    "### 3.1 Creating a Series"
   ]
  },
  {
   "cell_type": "markdown",
   "metadata": {},
   "source": [
    "**1. To create a numeric series** "
   ]
  },
  {
   "cell_type": "code",
   "execution_count": 121,
   "metadata": {},
   "outputs": [
    {
     "data": {
      "text/plain": [
       "0      1\n",
       "1      6\n",
       "2     11\n",
       "3     16\n",
       "4     21\n",
       "5     26\n",
       "6     31\n",
       "7     36\n",
       "8     41\n",
       "9     46\n",
       "10    51\n",
       "11    56\n",
       "12    61\n",
       "13    66\n",
       "14    71\n",
       "15    76\n",
       "16    81\n",
       "17    86\n",
       "18    91\n",
       "19    96\n",
       "dtype: int64"
      ]
     },
     "execution_count": 121,
     "metadata": {},
     "output_type": "execute_result"
    }
   ],
   "source": [
    "# create a numeric series\n",
    "numbers = range(1,100,5)\n",
    "pd.Series(numbers)"
   ]
  },
  {
   "cell_type": "markdown",
   "metadata": {},
   "source": [
    "The output also gives the data type of the series as `int64`\n",
    "\n",
    "And note that by default, each item will receive an index label from 0 to N, where N is the length of the Series minus one."
   ]
  },
  {
   "cell_type": "markdown",
   "metadata": {},
   "source": [
    "<b>*In python, the row names are called 'index'*</b>"
   ]
  },
  {
   "cell_type": "markdown",
   "metadata": {},
   "source": [
    "**2. To create an object series** "
   ]
  },
  {
   "cell_type": "code",
   "execution_count": 122,
   "metadata": {},
   "outputs": [
    {
     "data": {
      "text/plain": [
       "0     Hi\n",
       "1    How\n",
       "2    are\n",
       "3    you\n",
       "4      ?\n",
       "dtype: object"
      ]
     },
     "execution_count": 122,
     "metadata": {},
     "output_type": "execute_result"
    }
   ],
   "source": [
    "# create a object series\n",
    "string = \"Hi\" , \"How\" ,\"are\", \"you\", \"?\"\n",
    "pd.Series(string)"
   ]
  },
  {
   "cell_type": "markdown",
   "metadata": {},
   "source": [
    "The output gives the data type of the series as `object`"
   ]
  },
  {
   "cell_type": "markdown",
   "metadata": {},
   "source": [
    "**3. To create a series by giving both numeric and string values** "
   ]
  },
  {
   "cell_type": "code",
   "execution_count": 123,
   "metadata": {},
   "outputs": [
    {
     "data": {
      "text/plain": [
       "0               345\n",
       "1            London\n",
       "2              34.5\n",
       "3            -34.45\n",
       "4    Happy Birthday\n",
       "dtype: object"
      ]
     },
     "execution_count": 123,
     "metadata": {},
     "output_type": "execute_result"
    }
   ],
   "source": [
    "# create a Series with an arbitrary list\n",
    "s = pd.Series([345, 'London', 34.5, -34.45, 'Happy Birthday'])\n",
    "s"
   ]
  },
  {
   "cell_type": "markdown",
   "metadata": {},
   "source": [
    "Here the numeric values are treated as object."
   ]
  },
  {
   "cell_type": "markdown",
   "metadata": {},
   "source": [
    "**4. To set index values for a series**"
   ]
  },
  {
   "cell_type": "code",
   "execution_count": 124,
   "metadata": {},
   "outputs": [
    {
     "data": {
      "text/plain": [
       "Maths             60\n",
       "Science           89\n",
       "English           74\n",
       "Social Science    86\n",
       "dtype: int64"
      ]
     },
     "execution_count": 124,
     "metadata": {},
     "output_type": "execute_result"
    }
   ],
   "source": [
    "marks = [60, 89, 74, 86]\n",
    "\n",
    "subject = [\"Maths\", \"Science\", \"English\" , \"Social Science\"]\n",
    "\n",
    "pd.Series(marks, index = subject) \n"
   ]
  },
  {
   "cell_type": "markdown",
   "metadata": {},
   "source": [
    "The index is added using the argument `index=`. The data type of the series continues to be numeric."
   ]
  },
  {
   "cell_type": "markdown",
   "metadata": {},
   "source": [
    "**5. To create a series from a dictionary**"
   ]
  },
  {
   "cell_type": "code",
   "execution_count": 125,
   "metadata": {},
   "outputs": [
    {
     "data": {
      "text/plain": [
       "Maths             60\n",
       "Science           89\n",
       "English           76\n",
       "Social Science    86\n",
       "dtype: int64"
      ]
     },
     "execution_count": 125,
     "metadata": {},
     "output_type": "execute_result"
    }
   ],
   "source": [
    "data = {'Maths': 60, 'Science': 89, 'English': 76, 'Social Science': 86}\n",
    "\n",
    "pd.Series(data)"
   ]
  },
  {
   "cell_type": "markdown",
   "metadata": {},
   "source": [
    "On passing a dict, the index in the resulting Series will have the dict’s keys in sorted order."
   ]
  },
  {
   "cell_type": "markdown",
   "metadata": {},
   "source": [
    "**6. To create a series using library `numpy`**"
   ]
  },
  {
   "cell_type": "code",
   "execution_count": 126,
   "metadata": {},
   "outputs": [
    {
     "data": {
      "text/plain": [
       "array([ 0. ,  2.5,  5. ,  7.5, 10. ])"
      ]
     },
     "execution_count": 126,
     "metadata": {},
     "output_type": "execute_result"
    }
   ],
   "source": [
    "import numpy as np\n",
    "s = np.linspace(0,10, 5)\n",
    "s"
   ]
  },
  {
   "cell_type": "markdown",
   "metadata": {},
   "source": [
    "We see that we obtain an array. We can now convert it to a Series."
   ]
  },
  {
   "cell_type": "code",
   "execution_count": 127,
   "metadata": {},
   "outputs": [
    {
     "data": {
      "text/plain": [
       "0     0.0\n",
       "1     2.5\n",
       "2     5.0\n",
       "3     7.5\n",
       "4    10.0\n",
       "dtype: float64"
      ]
     },
     "execution_count": 127,
     "metadata": {},
     "output_type": "execute_result"
    }
   ],
   "source": [
    "pd.Series(s)"
   ]
  },
  {
   "cell_type": "code",
   "execution_count": 128,
   "metadata": {},
   "outputs": [
    {
     "data": {
      "text/plain": [
       "{'Maths': 60, 'Science': 89, 'English': 76, 'Social Science': 86}"
      ]
     },
     "execution_count": 128,
     "metadata": {},
     "output_type": "execute_result"
    }
   ],
   "source": [
    "data"
   ]
  },
  {
   "cell_type": "code",
   "execution_count": 129,
   "metadata": {},
   "outputs": [
    {
     "name": "stdout",
     "output_type": "stream",
     "text": [
      "Maths             60.0\n",
      "Science           89.0\n",
      "Art and Craft      NaN\n",
      "Social Science    86.0\n",
      "dtype: float64\n"
     ]
    }
   ],
   "source": [
    "subjects = [\"Maths\", \"Science\", \"Art and Craft\" , \"Social Science\"]\n",
    "\n",
    "marks_series = pd.Series(data, index = subjects)\n",
    "\n",
    "print(marks_series)"
   ]
  },
  {
   "cell_type": "markdown",
   "metadata": {},
   "source": [
    "<a id=\"manipulatingS\"> </a>\n",
    "### 3.2 Manipulating Series "
   ]
  },
  {
   "cell_type": "markdown",
   "metadata": {},
   "source": [
    "**1. To check for null values using `.isnull`**"
   ]
  },
  {
   "cell_type": "code",
   "execution_count": 130,
   "metadata": {},
   "outputs": [
    {
     "data": {
      "text/plain": [
       "Maths             False\n",
       "Science           False\n",
       "Art and Craft      True\n",
       "Social Science    False\n",
       "dtype: bool"
      ]
     },
     "execution_count": 130,
     "metadata": {},
     "output_type": "execute_result"
    }
   ],
   "source": [
    "marks_series.isnull()"
   ]
  },
  {
   "cell_type": "markdown",
   "metadata": {},
   "source": [
    "`False` indicates that the value is not null."
   ]
  },
  {
   "cell_type": "markdown",
   "metadata": {},
   "source": [
    "**2. To check for null values using `.notnull`**"
   ]
  },
  {
   "cell_type": "code",
   "execution_count": 131,
   "metadata": {},
   "outputs": [
    {
     "data": {
      "text/plain": [
       "Maths              True\n",
       "Science            True\n",
       "Art and Craft     False\n",
       "Social Science     True\n",
       "dtype: bool"
      ]
     },
     "execution_count": 131,
     "metadata": {},
     "output_type": "execute_result"
    }
   ],
   "source": [
    "marks_series.notnull()"
   ]
  },
  {
   "cell_type": "markdown",
   "metadata": {},
   "source": [
    "` True` indicates that the value is not null."
   ]
  },
  {
   "cell_type": "markdown",
   "metadata": {},
   "source": [
    "**3. To know the subjects in which marks score is more than 75**"
   ]
  },
  {
   "cell_type": "code",
   "execution_count": 132,
   "metadata": {},
   "outputs": [
    {
     "data": {
      "text/plain": [
       "Science           89.0\n",
       "Social Science    86.0\n",
       "dtype: float64"
      ]
     },
     "execution_count": 132,
     "metadata": {},
     "output_type": "execute_result"
    }
   ],
   "source": [
    "marks_series[marks_series > 75]"
   ]
  },
  {
   "cell_type": "markdown",
   "metadata": {},
   "source": [
    "**4. To assign 68 marks to 'Art and Craft'**"
   ]
  },
  {
   "cell_type": "code",
   "execution_count": 133,
   "metadata": {},
   "outputs": [],
   "source": [
    "marks_series[\"Art and Craft\"] = 68"
   ]
  },
  {
   "cell_type": "code",
   "execution_count": 134,
   "metadata": {},
   "outputs": [
    {
     "data": {
      "text/plain": [
       "Maths             60.0\n",
       "Science           89.0\n",
       "Art and Craft     68.0\n",
       "Social Science    86.0\n",
       "dtype: float64"
      ]
     },
     "execution_count": 134,
     "metadata": {},
     "output_type": "execute_result"
    }
   ],
   "source": [
    "marks_series"
   ]
  },
  {
   "cell_type": "markdown",
   "metadata": {},
   "source": [
    "**5. To check whether Maths marks are 73**"
   ]
  },
  {
   "cell_type": "code",
   "execution_count": 135,
   "metadata": {},
   "outputs": [
    {
     "data": {
      "text/plain": [
       "np.False_"
      ]
     },
     "execution_count": 135,
     "metadata": {},
     "output_type": "execute_result"
    }
   ],
   "source": [
    "marks_series.Maths == 73"
   ]
  },
  {
   "cell_type": "code",
   "execution_count": 136,
   "metadata": {},
   "outputs": [
    {
     "data": {
      "text/plain": [
       "np.False_"
      ]
     },
     "execution_count": 136,
     "metadata": {},
     "output_type": "execute_result"
    }
   ],
   "source": [
    "# or you may use\n",
    "\n",
    "marks_series[\"Maths\"] == 73"
   ]
  },
  {
   "cell_type": "markdown",
   "metadata": {},
   "source": [
    "**6. To create a series by generating numpy random numbers**"
   ]
  },
  {
   "cell_type": "code",
   "execution_count": 138,
   "metadata": {},
   "outputs": [
    {
     "data": {
      "text/plain": [
       "0      5.0\n",
       "1      2.0\n",
       "2      1.0\n",
       "3      8.0\n",
       "4     10.0\n",
       "5      4.0\n",
       "6      3.0\n",
       "7      5.0\n",
       "8      6.0\n",
       "9      7.0\n",
       "10     9.0\n",
       "11     7.0\n",
       "12     7.0\n",
       "13     6.0\n",
       "14     6.0\n",
       "dtype: float64"
      ]
     },
     "execution_count": 138,
     "metadata": {},
     "output_type": "execute_result"
    }
   ],
   "source": [
    "import numpy as np\n",
    "num = pd.Series(np.random.random(15)*10).round()\n",
    "num"
   ]
  },
  {
   "cell_type": "markdown",
   "metadata": {},
   "source": [
    "**7. To find the square of the numbers series**"
   ]
  },
  {
   "cell_type": "code",
   "execution_count": 139,
   "metadata": {},
   "outputs": [
    {
     "data": {
      "text/plain": [
       "5.0      25.0\n",
       "2.0       4.0\n",
       "1.0       1.0\n",
       "8.0      64.0\n",
       "10.0    100.0\n",
       "4.0      16.0\n",
       "3.0       9.0\n",
       "5.0      25.0\n",
       "6.0      36.0\n",
       "7.0      49.0\n",
       "9.0      81.0\n",
       "7.0      49.0\n",
       "7.0      49.0\n",
       "6.0      36.0\n",
       "6.0      36.0\n",
       "dtype: float64"
      ]
     },
     "execution_count": 139,
     "metadata": {},
     "output_type": "execute_result"
    }
   ],
   "source": [
    "square = pd.Series(num*num)\n",
    "square.index = [num]\n",
    "square"
   ]
  },
  {
   "cell_type": "markdown",
   "metadata": {},
   "source": [
    "**8. To assign index name and object name**"
   ]
  },
  {
   "cell_type": "code",
   "execution_count": 140,
   "metadata": {},
   "outputs": [
    {
     "data": {
      "text/plain": [
       "5.0      25.0\n",
       "2.0       4.0\n",
       "1.0       1.0\n",
       "8.0      64.0\n",
       "10.0    100.0\n",
       "4.0      16.0\n",
       "3.0       9.0\n",
       "5.0      25.0\n",
       "6.0      36.0\n",
       "7.0      49.0\n",
       "9.0      81.0\n",
       "7.0      49.0\n",
       "7.0      49.0\n",
       "6.0      36.0\n",
       "6.0      36.0\n",
       "Name: Square, dtype: float64"
      ]
     },
     "execution_count": 140,
     "metadata": {},
     "output_type": "execute_result"
    }
   ],
   "source": [
    "square.name = 'Square'\n",
    "square.index.name = 'Number'\n",
    "square"
   ]
  },
  {
   "cell_type": "markdown",
   "metadata": {},
   "source": [
    "**Note:** A Series’s index can be altered in-place by assignment\n",
    "\n",
    "From the output, it is not clear that the index column is labeled, to check whether it is labeled let us print it"
   ]
  },
  {
   "cell_type": "markdown",
   "metadata": {},
   "source": []
  },
  {
   "cell_type": "code",
   "execution_count": 141,
   "metadata": {},
   "outputs": [
    {
     "data": {
      "text/plain": [
       "MultiIndex([( 5.0,),\n",
       "            ( 2.0,),\n",
       "            ( 1.0,),\n",
       "            ( 8.0,),\n",
       "            (10.0,),\n",
       "            ( 4.0,),\n",
       "            ( 3.0,),\n",
       "            ( 5.0,),\n",
       "            ( 6.0,),\n",
       "            ( 7.0,),\n",
       "            ( 9.0,),\n",
       "            ( 7.0,),\n",
       "            ( 7.0,),\n",
       "            ( 6.0,),\n",
       "            ( 6.0,)],\n",
       "           name='Number')"
      ]
     },
     "execution_count": 141,
     "metadata": {},
     "output_type": "execute_result"
    }
   ],
   "source": [
    "square.index"
   ]
  },
  {
   "cell_type": "markdown",
   "metadata": {},
   "source": [
    "From `name='Number'`, it is seen that the column is labeled."
   ]
  },
  {
   "cell_type": "markdown",
   "metadata": {},
   "source": [
    "**9. Add a number 5 to every element of the series**"
   ]
  },
  {
   "cell_type": "code",
   "execution_count": 142,
   "metadata": {},
   "outputs": [
    {
     "data": {
      "text/plain": [
       "5.0      30.0\n",
       "2.0       9.0\n",
       "1.0       6.0\n",
       "8.0      69.0\n",
       "10.0    105.0\n",
       "4.0      21.0\n",
       "3.0      14.0\n",
       "5.0      30.0\n",
       "6.0      41.0\n",
       "7.0      54.0\n",
       "9.0      86.0\n",
       "7.0      54.0\n",
       "7.0      54.0\n",
       "6.0      41.0\n",
       "6.0      41.0\n",
       "Name: Square, dtype: float64"
      ]
     },
     "execution_count": 142,
     "metadata": {},
     "output_type": "execute_result"
    }
   ],
   "source": [
    "square + 5"
   ]
  },
  {
   "cell_type": "markdown",
   "metadata": {},
   "source": [
    "The number 5 has been added to all the variables."
   ]
  },
  {
   "cell_type": "markdown",
   "metadata": {},
   "source": [
    "**10. To extract a value specifying the index**"
   ]
  },
  {
   "cell_type": "code",
   "execution_count": 143,
   "metadata": {},
   "outputs": [
    {
     "data": {
      "text/plain": [
       "5.0      25.0\n",
       "2.0       4.0\n",
       "1.0       1.0\n",
       "8.0      64.0\n",
       "10.0    100.0\n",
       "4.0      16.0\n",
       "3.0       9.0\n",
       "5.0      25.0\n",
       "6.0      36.0\n",
       "7.0      49.0\n",
       "9.0      81.0\n",
       "7.0      49.0\n",
       "7.0      49.0\n",
       "6.0      36.0\n",
       "6.0      36.0\n",
       "Name: Square, dtype: float64"
      ]
     },
     "execution_count": 143,
     "metadata": {},
     "output_type": "execute_result"
    }
   ],
   "source": [
    "square"
   ]
  },
  {
   "cell_type": "code",
   "execution_count": 145,
   "metadata": {},
   "outputs": [
    {
     "data": {
      "text/plain": [
       "6.0    36.0\n",
       "6.0    36.0\n",
       "6.0    36.0\n",
       "Name: Square, dtype: float64"
      ]
     },
     "execution_count": 145,
     "metadata": {},
     "output_type": "execute_result"
    }
   ],
   "source": [
    "square[6]"
   ]
  },
  {
   "cell_type": "markdown",
   "metadata": {},
   "source": [
    "All values with index as '6' are obtained"
   ]
  },
  {
   "cell_type": "markdown",
   "metadata": {},
   "source": [
    "**11. To extract a range of values specifying the location**"
   ]
  },
  {
   "cell_type": "code",
   "execution_count": 146,
   "metadata": {},
   "outputs": [
    {
     "data": {
      "text/plain": [
       "3.0     9.0\n",
       "5.0    25.0\n",
       "6.0    36.0\n",
       "7.0    49.0\n",
       "9.0    81.0\n",
       "7.0    49.0\n",
       "7.0    49.0\n",
       "6.0    36.0\n",
       "Name: Square, dtype: float64"
      ]
     },
     "execution_count": 146,
     "metadata": {},
     "output_type": "execute_result"
    }
   ],
   "source": [
    "square[6:14]"
   ]
  },
  {
   "cell_type": "markdown",
   "metadata": {},
   "source": [
    "**12. Usage of `.iloc`**"
   ]
  },
  {
   "cell_type": "markdown",
   "metadata": {},
   "source": [
    "We use `.iloc` to get the values of the specified index of numbers "
   ]
  },
  {
   "cell_type": "code",
   "execution_count": 147,
   "metadata": {},
   "outputs": [
    {
     "data": {
      "text/plain": [
       "np.float64(64.0)"
      ]
     },
     "execution_count": 147,
     "metadata": {},
     "output_type": "execute_result"
    }
   ],
   "source": [
    "square.iloc[3]"
   ]
  },
  {
   "cell_type": "code",
   "execution_count": 148,
   "metadata": {},
   "outputs": [
    {
     "data": {
      "text/plain": [
       "10.0    100.0\n",
       "4.0      16.0\n",
       "3.0       9.0\n",
       "5.0      25.0\n",
       "6.0      36.0\n",
       "Name: Square, dtype: float64"
      ]
     },
     "execution_count": 148,
     "metadata": {},
     "output_type": "execute_result"
    }
   ],
   "source": [
    "square.iloc[4:9]"
   ]
  },
  {
   "cell_type": "markdown",
   "metadata": {},
   "source": [
    "**13. Sorting a numeric series**"
   ]
  },
  {
   "cell_type": "code",
   "execution_count": 149,
   "metadata": {},
   "outputs": [
    {
     "data": {
      "text/plain": [
       "0    23.0\n",
       "1    45.0\n",
       "2     NaN\n",
       "3    41.0\n",
       "4    23.0\n",
       "5    34.0\n",
       "6    55.0\n",
       "7     NaN\n",
       "8    34.0\n",
       "9    20.0\n",
       "dtype: float64"
      ]
     },
     "execution_count": 149,
     "metadata": {},
     "output_type": "execute_result"
    }
   ],
   "source": [
    "# create a pandas series\n",
    "values = pd.Series([23, 45, np.nan, 41, 23, 34, 55, np.nan, 34, 20])\n",
    "\n",
    "values"
   ]
  },
  {
   "cell_type": "code",
   "execution_count": 151,
   "metadata": {},
   "outputs": [
    {
     "data": {
      "text/plain": [
       "9    20.0\n",
       "0    23.0\n",
       "4    23.0\n",
       "5    34.0\n",
       "8    34.0\n",
       "3    41.0\n",
       "1    45.0\n",
       "6    55.0\n",
       "2     NaN\n",
       "7     NaN\n",
       "dtype: float64"
      ]
     },
     "execution_count": 151,
     "metadata": {},
     "output_type": "execute_result"
    }
   ],
   "source": [
    "# ascending order\n",
    "values.sort_values(ascending = True)"
   ]
  },
  {
   "cell_type": "code",
   "execution_count": 152,
   "metadata": {},
   "outputs": [
    {
     "data": {
      "text/plain": [
       "6    55.0\n",
       "1    45.0\n",
       "3    41.0\n",
       "5    34.0\n",
       "8    34.0\n",
       "0    23.0\n",
       "4    23.0\n",
       "9    20.0\n",
       "2     NaN\n",
       "7     NaN\n",
       "dtype: float64"
      ]
     },
     "execution_count": 152,
     "metadata": {},
     "output_type": "execute_result"
    }
   ],
   "source": [
    "# descending order\n",
    "values.sort_values(ascending = False)"
   ]
  },
  {
   "cell_type": "markdown",
   "metadata": {},
   "source": [
    "**14. Sorting a categorical series**"
   ]
  },
  {
   "cell_type": "code",
   "execution_count": 153,
   "metadata": {},
   "outputs": [
    {
     "data": {
      "text/plain": [
       "0    a\n",
       "1    j\n",
       "2    d\n",
       "3    f\n",
       "4    t\n",
       "5    a\n",
       "dtype: object"
      ]
     },
     "execution_count": 153,
     "metadata": {},
     "output_type": "execute_result"
    }
   ],
   "source": [
    "# create a pandas series\n",
    "string_values = pd.Series([\"a\", \"j\", \"d\", \"f\", \"t\", \"a\"])\n",
    "\n",
    "string_values"
   ]
  },
  {
   "cell_type": "code",
   "execution_count": 154,
   "metadata": {},
   "outputs": [
    {
     "data": {
      "text/plain": [
       "0    a\n",
       "5    a\n",
       "2    d\n",
       "3    f\n",
       "1    j\n",
       "4    t\n",
       "dtype: object"
      ]
     },
     "execution_count": 154,
     "metadata": {},
     "output_type": "execute_result"
    }
   ],
   "source": [
    "# ascending order\n",
    "string_values.sort_values(ascending = True)"
   ]
  },
  {
   "cell_type": "code",
   "execution_count": 155,
   "metadata": {},
   "outputs": [
    {
     "data": {
      "text/plain": [
       "4    t\n",
       "1    j\n",
       "3    f\n",
       "2    d\n",
       "0    a\n",
       "5    a\n",
       "dtype: object"
      ]
     },
     "execution_count": 155,
     "metadata": {},
     "output_type": "execute_result"
    }
   ],
   "source": [
    "# descending order\n",
    "string_values.sort_values(ascending = False)"
   ]
  },
  {
   "cell_type": "markdown",
   "metadata": {},
   "source": [
    "**15. Sorting based on index**"
   ]
  },
  {
   "cell_type": "code",
   "execution_count": 156,
   "metadata": {},
   "outputs": [
    {
     "data": {
      "text/plain": [
       "1.0       1.0\n",
       "2.0       4.0\n",
       "3.0       9.0\n",
       "4.0      16.0\n",
       "5.0      25.0\n",
       "5.0      25.0\n",
       "6.0      36.0\n",
       "6.0      36.0\n",
       "6.0      36.0\n",
       "7.0      49.0\n",
       "7.0      49.0\n",
       "7.0      49.0\n",
       "8.0      64.0\n",
       "9.0      81.0\n",
       "10.0    100.0\n",
       "Name: Square, dtype: float64"
      ]
     },
     "execution_count": 156,
     "metadata": {},
     "output_type": "execute_result"
    }
   ],
   "source": [
    "# recall the square\n",
    "square.sort_index()"
   ]
  },
  {
   "cell_type": "code",
   "execution_count": 157,
   "metadata": {},
   "outputs": [
    {
     "data": {
      "text/plain": [
       "1.0       1.0\n",
       "2.0       4.0\n",
       "3.0       9.0\n",
       "4.0      16.0\n",
       "5.0      25.0\n",
       "5.0      25.0\n",
       "6.0      36.0\n",
       "6.0      36.0\n",
       "6.0      36.0\n",
       "7.0      49.0\n",
       "7.0      49.0\n",
       "7.0      49.0\n",
       "8.0      64.0\n",
       "9.0      81.0\n",
       "10.0    100.0\n",
       "Name: Square, dtype: float64"
      ]
     },
     "execution_count": 157,
     "metadata": {},
     "output_type": "execute_result"
    }
   ],
   "source": [
    "# sort in ascending order based on index\n",
    "square.sort_index(ascending = True)"
   ]
  },
  {
   "cell_type": "code",
   "execution_count": 158,
   "metadata": {},
   "outputs": [
    {
     "data": {
      "text/plain": [
       "10.0    100.0\n",
       "9.0      81.0\n",
       "8.0      64.0\n",
       "7.0      49.0\n",
       "7.0      49.0\n",
       "7.0      49.0\n",
       "6.0      36.0\n",
       "6.0      36.0\n",
       "6.0      36.0\n",
       "5.0      25.0\n",
       "5.0      25.0\n",
       "4.0      16.0\n",
       "3.0       9.0\n",
       "2.0       4.0\n",
       "1.0       1.0\n",
       "Name: Square, dtype: float64"
      ]
     },
     "execution_count": 158,
     "metadata": {},
     "output_type": "execute_result"
    }
   ],
   "source": [
    "# sort in descending order based on index\n",
    "square.sort_index(ascending = False)"
   ]
  },
  {
   "cell_type": "markdown",
   "metadata": {},
   "source": [
    "**16. Rank a Series**"
   ]
  },
  {
   "cell_type": "code",
   "execution_count": 159,
   "metadata": {},
   "outputs": [
    {
     "data": {
      "text/plain": [
       "Maths             1.0\n",
       "Science           4.0\n",
       "Art and Craft     2.0\n",
       "Social Science    3.0\n",
       "dtype: float64"
      ]
     },
     "execution_count": 159,
     "metadata": {},
     "output_type": "execute_result"
    }
   ],
   "source": [
    "# recall the marks_series\n",
    "marks_series.rank( ascending=True, pct=False)"
   ]
  },
  {
   "cell_type": "code",
   "execution_count": 160,
   "metadata": {},
   "outputs": [
    {
     "data": {
      "text/plain": [
       "1.0       1.0\n",
       "2.0       4.0\n",
       "3.0       9.0\n",
       "4.0      16.0\n",
       "5.0      25.0\n",
       "5.0      25.0\n",
       "6.0      36.0\n",
       "6.0      36.0\n",
       "6.0      36.0\n",
       "7.0      49.0\n",
       "7.0      49.0\n",
       "7.0      49.0\n",
       "8.0      64.0\n",
       "9.0      81.0\n",
       "10.0    100.0\n",
       "Name: Square, dtype: float64"
      ]
     },
     "execution_count": 160,
     "metadata": {},
     "output_type": "execute_result"
    },
    {
     "ename": "",
     "evalue": "",
     "output_type": "error",
     "traceback": [
      "\u001b[1;31mThe Kernel crashed while executing code in the current cell or a previous cell. \n",
      "\u001b[1;31mPlease review the code in the cell(s) to identify a possible cause of the failure. \n",
      "\u001b[1;31mClick <a href='https://aka.ms/vscodeJupyterKernelCrash'>here</a> for more info. \n",
      "\u001b[1;31mView Jupyter <a href='command:jupyter.viewOutput'>log</a> for further details."
     ]
    }
   ],
   "source": [
    "# recall the square series\n",
    "square.sort_index(ascending = True)"
   ]
  },
  {
   "cell_type": "markdown",
   "metadata": {},
   "source": [
    "<a id=\"dataframes\"> </a>\n",
    "## 4. Pandas DataFrames"
   ]
  },
  {
   "cell_type": "markdown",
   "metadata": {},
   "source": [
    "<table align=\"left\">\n",
    "    <tr>\n",
    "        <td width=\"15%\">\n",
    "            <img src=\"note.png\">\n",
    "        </td>\n",
    "        <td>\n",
    "            <div align=\"left\", style=\"font-size:120%\">\n",
    "                <font color=\"#21618C\">\n",
    "                    <b> A DataFrame is a tabular representation of data containing an ordered collection of columns, each of which can be a different type (numeric, string, boolean, and so on). <br><br>\n",
    "                        The DataFrame has both a row and column index; it can be thought of as a dict of Series all sharing the same index. In a data frame, the data is stored as one or more two-dimensional blocks rather than a list, dict, or some other collection of one-dimensional arrays. \n",
    "<br><br>\n",
    "                        While a DataFrame is physically two-dimensional, it can be used to represent higher dimensional data in a tabular format using hierarchical indexing\n",
    "                    </b>\n",
    "                </font>\n",
    "            </div>\n",
    "        </td>\n",
    "    </tr>\n",
    "</table>"
   ]
  },
  {
   "cell_type": "markdown",
   "metadata": {},
   "source": [
    "<a id=\"creatingDF\"> </a>\n",
    "### 4.1 Creating DataFrames"
   ]
  },
  {
   "cell_type": "markdown",
   "metadata": {},
   "source": [
    "**1. Creating a data frame a dictionary**"
   ]
  },
  {
   "cell_type": "code",
   "execution_count": 46,
   "metadata": {},
   "outputs": [
    {
     "name": "stdout",
     "output_type": "stream",
     "text": [
      "    Subject  Marks  CGPA\n",
      "0     Maths     45   2.5\n",
      "1   History     65   3.0\n",
      "2   Science     78   3.5\n",
      "3   English     65   2.0\n",
      "4  Georaphy     80   4.0\n",
      "5       Art     78   4.0\n"
     ]
    }
   ],
   "source": [
    "data = {'Subject': ['Maths', 'History', 'Science', 'English', 'Georaphy', 'Art'],\n",
    "        'Marks': (45, 65, 78, 65, 80, 78),\n",
    "        'CGPA': [2.5, 3.0, 3.5, 2.0, 4.0, 4.0]}\n",
    "\n",
    "df = pd.DataFrame(data)\n",
    "print(df)"
   ]
  },
  {
   "cell_type": "markdown",
   "metadata": {},
   "source": [
    "**Note:** Like Series, the resulting DataFrame is assigned index automatically. And the 'Marks' values are in a tuple. "
   ]
  },
  {
   "cell_type": "markdown",
   "metadata": {},
   "source": [
    "**2. Another way to create dataframe from dictionary**"
   ]
  },
  {
   "cell_type": "code",
   "execution_count": 47,
   "metadata": {},
   "outputs": [
    {
     "name": "stdout",
     "output_type": "stream",
     "text": [
      "    Subject  Marks  CGPA\n",
      "0     Maths     45   2.5\n",
      "1   History     65   3.0\n",
      "2   Science     78   3.5\n",
      "3   English     65   2.0\n",
      "4  Georaphy     80   4.0\n",
      "5       Art     78   4.0\n"
     ]
    }
   ],
   "source": [
    "data = [{'Subject': 'Maths', 'Marks': 45, 'CGPA':2.5},\n",
    "        {'Subject':'History', 'Marks':65, 'CGPA':3.0},\n",
    "        {'Subject':'Science', 'Marks':78, 'CGPA':3.5},\n",
    "        {'Subject':'English', 'Marks':65, 'CGPA':2.0},\n",
    "        {'Subject':'Georaphy', 'Marks':80, 'CGPA':4.0},\n",
    "        {'Subject':'Art', 'Marks':78, 'CGPA':4.0}]\n",
    "\n",
    "df = pd.DataFrame(data)\n",
    "print(df)"
   ]
  },
  {
   "cell_type": "markdown",
   "metadata": {},
   "source": [
    "**3. To create dataframe from series**"
   ]
  },
  {
   "cell_type": "code",
   "execution_count": 48,
   "metadata": {},
   "outputs": [],
   "source": [
    "Subject = pd.Series(['Maths', 'History', 'Science', 'English', 'Georaphy', 'Art'])\n",
    "Marks = pd.Series([45, 65, 78, 65, 80, 78])\n",
    "CGPA = pd.Series([2.5, 3.0, 3.5, 2.0, 4.0, 4.0])"
   ]
  },
  {
   "cell_type": "code",
   "execution_count": 49,
   "metadata": {},
   "outputs": [
    {
     "data": {
      "text/html": [
       "<div>\n",
       "<style scoped>\n",
       "    .dataframe tbody tr th:only-of-type {\n",
       "        vertical-align: middle;\n",
       "    }\n",
       "\n",
       "    .dataframe tbody tr th {\n",
       "        vertical-align: top;\n",
       "    }\n",
       "\n",
       "    .dataframe thead th {\n",
       "        text-align: right;\n",
       "    }\n",
       "</style>\n",
       "<table border=\"1\" class=\"dataframe\">\n",
       "  <thead>\n",
       "    <tr style=\"text-align: right;\">\n",
       "      <th></th>\n",
       "      <th>0</th>\n",
       "      <th>1</th>\n",
       "      <th>2</th>\n",
       "      <th>3</th>\n",
       "      <th>4</th>\n",
       "      <th>5</th>\n",
       "    </tr>\n",
       "  </thead>\n",
       "  <tbody>\n",
       "    <tr>\n",
       "      <th>Subject</th>\n",
       "      <td>Maths</td>\n",
       "      <td>History</td>\n",
       "      <td>Science</td>\n",
       "      <td>English</td>\n",
       "      <td>Georaphy</td>\n",
       "      <td>Art</td>\n",
       "    </tr>\n",
       "    <tr>\n",
       "      <th>Marks</th>\n",
       "      <td>45</td>\n",
       "      <td>65</td>\n",
       "      <td>78</td>\n",
       "      <td>65</td>\n",
       "      <td>80</td>\n",
       "      <td>78</td>\n",
       "    </tr>\n",
       "    <tr>\n",
       "      <th>CGPA</th>\n",
       "      <td>2.5</td>\n",
       "      <td>3.0</td>\n",
       "      <td>3.5</td>\n",
       "      <td>2.0</td>\n",
       "      <td>4.0</td>\n",
       "      <td>4.0</td>\n",
       "    </tr>\n",
       "  </tbody>\n",
       "</table>\n",
       "</div>"
      ],
      "text/plain": [
       "             0        1        2        3         4    5\n",
       "Subject  Maths  History  Science  English  Georaphy  Art\n",
       "Marks       45       65       78       65        80   78\n",
       "CGPA       2.5      3.0      3.5      2.0       4.0  4.0"
      ]
     },
     "execution_count": 49,
     "metadata": {},
     "output_type": "execute_result"
    }
   ],
   "source": [
    "pd.DataFrame([Subject,Marks,CGPA], index = ['Subject','Marks','CGPA'])"
   ]
  },
  {
   "cell_type": "markdown",
   "metadata": {},
   "source": [
    "However to want a vertical dataframe so we use `.T`. The 'T' stands for transpose."
   ]
  },
  {
   "cell_type": "code",
   "execution_count": 50,
   "metadata": {},
   "outputs": [
    {
     "data": {
      "text/html": [
       "<div>\n",
       "<style scoped>\n",
       "    .dataframe tbody tr th:only-of-type {\n",
       "        vertical-align: middle;\n",
       "    }\n",
       "\n",
       "    .dataframe tbody tr th {\n",
       "        vertical-align: top;\n",
       "    }\n",
       "\n",
       "    .dataframe thead th {\n",
       "        text-align: right;\n",
       "    }\n",
       "</style>\n",
       "<table border=\"1\" class=\"dataframe\">\n",
       "  <thead>\n",
       "    <tr style=\"text-align: right;\">\n",
       "      <th></th>\n",
       "      <th>Subject</th>\n",
       "      <th>Marks</th>\n",
       "      <th>CGPA</th>\n",
       "    </tr>\n",
       "  </thead>\n",
       "  <tbody>\n",
       "    <tr>\n",
       "      <th>0</th>\n",
       "      <td>Maths</td>\n",
       "      <td>45</td>\n",
       "      <td>2.5</td>\n",
       "    </tr>\n",
       "    <tr>\n",
       "      <th>1</th>\n",
       "      <td>History</td>\n",
       "      <td>65</td>\n",
       "      <td>3.0</td>\n",
       "    </tr>\n",
       "    <tr>\n",
       "      <th>2</th>\n",
       "      <td>Science</td>\n",
       "      <td>78</td>\n",
       "      <td>3.5</td>\n",
       "    </tr>\n",
       "    <tr>\n",
       "      <th>3</th>\n",
       "      <td>English</td>\n",
       "      <td>65</td>\n",
       "      <td>2.0</td>\n",
       "    </tr>\n",
       "    <tr>\n",
       "      <th>4</th>\n",
       "      <td>Georaphy</td>\n",
       "      <td>80</td>\n",
       "      <td>4.0</td>\n",
       "    </tr>\n",
       "    <tr>\n",
       "      <th>5</th>\n",
       "      <td>Art</td>\n",
       "      <td>78</td>\n",
       "      <td>4.0</td>\n",
       "    </tr>\n",
       "  </tbody>\n",
       "</table>\n",
       "</div>"
      ],
      "text/plain": [
       "    Subject Marks CGPA\n",
       "0     Maths    45  2.5\n",
       "1   History    65  3.0\n",
       "2   Science    78  3.5\n",
       "3   English    65  2.0\n",
       "4  Georaphy    80  4.0\n",
       "5       Art    78  4.0"
      ]
     },
     "execution_count": 50,
     "metadata": {},
     "output_type": "execute_result"
    }
   ],
   "source": [
    "pd.DataFrame([Subject,Marks,CGPA], index = ['Subject','Marks','CGPA']).T"
   ]
  },
  {
   "cell_type": "markdown",
   "metadata": {},
   "source": [
    "**Remark:** Assign a name to the data frame and then use `.T` to transpose it."
   ]
  },
  {
   "cell_type": "markdown",
   "metadata": {},
   "source": [
    "**4. To create dataframe from lists**"
   ]
  },
  {
   "cell_type": "code",
   "execution_count": 51,
   "metadata": {},
   "outputs": [],
   "source": [
    "Subject = ['Maths', 'History', 'Science', 'English', 'Georaphy', 'Art']\n",
    "Marks = [45, 65, 78, 65, 80, 78]\n",
    "CGPA = [2.5, 3.0, 3.5, 2.0, 4.0, 4.0]"
   ]
  },
  {
   "cell_type": "code",
   "execution_count": 52,
   "metadata": {},
   "outputs": [
    {
     "data": {
      "text/html": [
       "<div>\n",
       "<style scoped>\n",
       "    .dataframe tbody tr th:only-of-type {\n",
       "        vertical-align: middle;\n",
       "    }\n",
       "\n",
       "    .dataframe tbody tr th {\n",
       "        vertical-align: top;\n",
       "    }\n",
       "\n",
       "    .dataframe thead th {\n",
       "        text-align: right;\n",
       "    }\n",
       "</style>\n",
       "<table border=\"1\" class=\"dataframe\">\n",
       "  <thead>\n",
       "    <tr style=\"text-align: right;\">\n",
       "      <th></th>\n",
       "      <th>0</th>\n",
       "      <th>1</th>\n",
       "      <th>2</th>\n",
       "      <th>3</th>\n",
       "      <th>4</th>\n",
       "      <th>5</th>\n",
       "    </tr>\n",
       "  </thead>\n",
       "  <tbody>\n",
       "    <tr>\n",
       "      <th>Subject</th>\n",
       "      <td>Maths</td>\n",
       "      <td>History</td>\n",
       "      <td>Science</td>\n",
       "      <td>English</td>\n",
       "      <td>Georaphy</td>\n",
       "      <td>Art</td>\n",
       "    </tr>\n",
       "    <tr>\n",
       "      <th>Marks</th>\n",
       "      <td>45</td>\n",
       "      <td>65</td>\n",
       "      <td>78</td>\n",
       "      <td>65</td>\n",
       "      <td>80</td>\n",
       "      <td>78</td>\n",
       "    </tr>\n",
       "    <tr>\n",
       "      <th>CGPA</th>\n",
       "      <td>2.5</td>\n",
       "      <td>3.0</td>\n",
       "      <td>3.5</td>\n",
       "      <td>2.0</td>\n",
       "      <td>4.0</td>\n",
       "      <td>4.0</td>\n",
       "    </tr>\n",
       "  </tbody>\n",
       "</table>\n",
       "</div>"
      ],
      "text/plain": [
       "             0        1        2        3         4    5\n",
       "Subject  Maths  History  Science  English  Georaphy  Art\n",
       "Marks       45       65       78       65        80   78\n",
       "CGPA       2.5      3.0      3.5      2.0       4.0  4.0"
      ]
     },
     "execution_count": 52,
     "metadata": {},
     "output_type": "execute_result"
    }
   ],
   "source": [
    "pd.DataFrame([Subject,Marks,CGPA], index = ['Subject','Marks','CGPA'])"
   ]
  },
  {
   "cell_type": "markdown",
   "metadata": {},
   "source": [
    "**5. To read data from csv file**"
   ]
  },
  {
   "cell_type": "code",
   "execution_count": 53,
   "metadata": {},
   "outputs": [],
   "source": [
    "data = pd.read_csv(\"example.csv\")"
   ]
  },
  {
   "cell_type": "code",
   "execution_count": 54,
   "metadata": {},
   "outputs": [
    {
     "data": {
      "text/plain": [
       "pandas.core.frame.DataFrame"
      ]
     },
     "execution_count": 54,
     "metadata": {},
     "output_type": "execute_result"
    }
   ],
   "source": [
    "type(data)"
   ]
  },
  {
   "cell_type": "markdown",
   "metadata": {},
   "source": [
    "On checking the data type, we notice it is read as pandas data frame."
   ]
  },
  {
   "cell_type": "code",
   "execution_count": 55,
   "metadata": {
    "scrolled": false
   },
   "outputs": [
    {
     "name": "stdout",
     "output_type": "stream",
     "text": [
      "    Age  Weight (in kg)  Height (in m)\n",
      "0    45              60           1.35\n",
      "1    12              43           1.21\n",
      "2    54              78           1.50\n",
      "3    26              65           1.21\n",
      "4    68              50           1.32\n",
      "5    21              43           1.52\n",
      "6    10              32           1.65\n",
      "7    57              34           1.61\n",
      "8    75              23           1.24\n",
      "9    32              21           1.52\n",
      "10   23              53           1.50\n",
      "11   34              65           1.76\n",
      "12   55              89           1.65\n",
      "13   23              45           1.75\n",
      "14   56              76           1.69\n",
      "15   67              78           1.85\n",
      "16   26              65           1.21\n",
      "17   56              74           1.69\n",
      "18   67              78           1.85\n",
      "19   26              65           1.21\n",
      "20   68              50           1.32\n",
      "21   56              76           1.69\n",
      "22   67              78           1.85\n"
     ]
    }
   ],
   "source": [
    "print(data)"
   ]
  },
  {
   "cell_type": "markdown",
   "metadata": {},
   "source": [
    "**6. To print head of the data**"
   ]
  },
  {
   "cell_type": "code",
   "execution_count": 56,
   "metadata": {},
   "outputs": [
    {
     "data": {
      "text/html": [
       "<div>\n",
       "<style scoped>\n",
       "    .dataframe tbody tr th:only-of-type {\n",
       "        vertical-align: middle;\n",
       "    }\n",
       "\n",
       "    .dataframe tbody tr th {\n",
       "        vertical-align: top;\n",
       "    }\n",
       "\n",
       "    .dataframe thead th {\n",
       "        text-align: right;\n",
       "    }\n",
       "</style>\n",
       "<table border=\"1\" class=\"dataframe\">\n",
       "  <thead>\n",
       "    <tr style=\"text-align: right;\">\n",
       "      <th></th>\n",
       "      <th>Age</th>\n",
       "      <th>Weight (in kg)</th>\n",
       "      <th>Height (in m)</th>\n",
       "    </tr>\n",
       "  </thead>\n",
       "  <tbody>\n",
       "    <tr>\n",
       "      <th>0</th>\n",
       "      <td>45</td>\n",
       "      <td>60</td>\n",
       "      <td>1.35</td>\n",
       "    </tr>\n",
       "    <tr>\n",
       "      <th>1</th>\n",
       "      <td>12</td>\n",
       "      <td>43</td>\n",
       "      <td>1.21</td>\n",
       "    </tr>\n",
       "    <tr>\n",
       "      <th>2</th>\n",
       "      <td>54</td>\n",
       "      <td>78</td>\n",
       "      <td>1.50</td>\n",
       "    </tr>\n",
       "    <tr>\n",
       "      <th>3</th>\n",
       "      <td>26</td>\n",
       "      <td>65</td>\n",
       "      <td>1.21</td>\n",
       "    </tr>\n",
       "    <tr>\n",
       "      <th>4</th>\n",
       "      <td>68</td>\n",
       "      <td>50</td>\n",
       "      <td>1.32</td>\n",
       "    </tr>\n",
       "  </tbody>\n",
       "</table>\n",
       "</div>"
      ],
      "text/plain": [
       "   Age  Weight (in kg)  Height (in m)\n",
       "0   45              60           1.35\n",
       "1   12              43           1.21\n",
       "2   54              78           1.50\n",
       "3   26              65           1.21\n",
       "4   68              50           1.32"
      ]
     },
     "execution_count": 56,
     "metadata": {},
     "output_type": "execute_result"
    }
   ],
   "source": [
    "data.head()"
   ]
  },
  {
   "cell_type": "markdown",
   "metadata": {},
   "source": [
    "By default, the `.head()` will display **first** five rows. However, we can set the desired number of rows to be displayed.\n",
    "\n",
    "Say we want to see the first 9 rows, we write the number 9 in the parentheses."
   ]
  },
  {
   "cell_type": "code",
   "execution_count": 57,
   "metadata": {},
   "outputs": [
    {
     "data": {
      "text/html": [
       "<div>\n",
       "<style scoped>\n",
       "    .dataframe tbody tr th:only-of-type {\n",
       "        vertical-align: middle;\n",
       "    }\n",
       "\n",
       "    .dataframe tbody tr th {\n",
       "        vertical-align: top;\n",
       "    }\n",
       "\n",
       "    .dataframe thead th {\n",
       "        text-align: right;\n",
       "    }\n",
       "</style>\n",
       "<table border=\"1\" class=\"dataframe\">\n",
       "  <thead>\n",
       "    <tr style=\"text-align: right;\">\n",
       "      <th></th>\n",
       "      <th>Age</th>\n",
       "      <th>Weight (in kg)</th>\n",
       "      <th>Height (in m)</th>\n",
       "    </tr>\n",
       "  </thead>\n",
       "  <tbody>\n",
       "    <tr>\n",
       "      <th>0</th>\n",
       "      <td>45</td>\n",
       "      <td>60</td>\n",
       "      <td>1.35</td>\n",
       "    </tr>\n",
       "    <tr>\n",
       "      <th>1</th>\n",
       "      <td>12</td>\n",
       "      <td>43</td>\n",
       "      <td>1.21</td>\n",
       "    </tr>\n",
       "    <tr>\n",
       "      <th>2</th>\n",
       "      <td>54</td>\n",
       "      <td>78</td>\n",
       "      <td>1.50</td>\n",
       "    </tr>\n",
       "    <tr>\n",
       "      <th>3</th>\n",
       "      <td>26</td>\n",
       "      <td>65</td>\n",
       "      <td>1.21</td>\n",
       "    </tr>\n",
       "    <tr>\n",
       "      <th>4</th>\n",
       "      <td>68</td>\n",
       "      <td>50</td>\n",
       "      <td>1.32</td>\n",
       "    </tr>\n",
       "    <tr>\n",
       "      <th>5</th>\n",
       "      <td>21</td>\n",
       "      <td>43</td>\n",
       "      <td>1.52</td>\n",
       "    </tr>\n",
       "    <tr>\n",
       "      <th>6</th>\n",
       "      <td>10</td>\n",
       "      <td>32</td>\n",
       "      <td>1.65</td>\n",
       "    </tr>\n",
       "    <tr>\n",
       "      <th>7</th>\n",
       "      <td>57</td>\n",
       "      <td>34</td>\n",
       "      <td>1.61</td>\n",
       "    </tr>\n",
       "    <tr>\n",
       "      <th>8</th>\n",
       "      <td>75</td>\n",
       "      <td>23</td>\n",
       "      <td>1.24</td>\n",
       "    </tr>\n",
       "  </tbody>\n",
       "</table>\n",
       "</div>"
      ],
      "text/plain": [
       "   Age  Weight (in kg)  Height (in m)\n",
       "0   45              60           1.35\n",
       "1   12              43           1.21\n",
       "2   54              78           1.50\n",
       "3   26              65           1.21\n",
       "4   68              50           1.32\n",
       "5   21              43           1.52\n",
       "6   10              32           1.65\n",
       "7   57              34           1.61\n",
       "8   75              23           1.24"
      ]
     },
     "execution_count": 57,
     "metadata": {},
     "output_type": "execute_result"
    }
   ],
   "source": [
    "data.head(9)"
   ]
  },
  {
   "cell_type": "markdown",
   "metadata": {},
   "source": [
    "**7. To print tail of the data**"
   ]
  },
  {
   "cell_type": "code",
   "execution_count": 58,
   "metadata": {},
   "outputs": [
    {
     "data": {
      "text/html": [
       "<div>\n",
       "<style scoped>\n",
       "    .dataframe tbody tr th:only-of-type {\n",
       "        vertical-align: middle;\n",
       "    }\n",
       "\n",
       "    .dataframe tbody tr th {\n",
       "        vertical-align: top;\n",
       "    }\n",
       "\n",
       "    .dataframe thead th {\n",
       "        text-align: right;\n",
       "    }\n",
       "</style>\n",
       "<table border=\"1\" class=\"dataframe\">\n",
       "  <thead>\n",
       "    <tr style=\"text-align: right;\">\n",
       "      <th></th>\n",
       "      <th>Age</th>\n",
       "      <th>Weight (in kg)</th>\n",
       "      <th>Height (in m)</th>\n",
       "    </tr>\n",
       "  </thead>\n",
       "  <tbody>\n",
       "    <tr>\n",
       "      <th>18</th>\n",
       "      <td>67</td>\n",
       "      <td>78</td>\n",
       "      <td>1.85</td>\n",
       "    </tr>\n",
       "    <tr>\n",
       "      <th>19</th>\n",
       "      <td>26</td>\n",
       "      <td>65</td>\n",
       "      <td>1.21</td>\n",
       "    </tr>\n",
       "    <tr>\n",
       "      <th>20</th>\n",
       "      <td>68</td>\n",
       "      <td>50</td>\n",
       "      <td>1.32</td>\n",
       "    </tr>\n",
       "    <tr>\n",
       "      <th>21</th>\n",
       "      <td>56</td>\n",
       "      <td>76</td>\n",
       "      <td>1.69</td>\n",
       "    </tr>\n",
       "    <tr>\n",
       "      <th>22</th>\n",
       "      <td>67</td>\n",
       "      <td>78</td>\n",
       "      <td>1.85</td>\n",
       "    </tr>\n",
       "  </tbody>\n",
       "</table>\n",
       "</div>"
      ],
      "text/plain": [
       "    Age  Weight (in kg)  Height (in m)\n",
       "18   67              78           1.85\n",
       "19   26              65           1.21\n",
       "20   68              50           1.32\n",
       "21   56              76           1.69\n",
       "22   67              78           1.85"
      ]
     },
     "execution_count": 58,
     "metadata": {},
     "output_type": "execute_result"
    }
   ],
   "source": [
    "data.tail()"
   ]
  },
  {
   "cell_type": "markdown",
   "metadata": {},
   "source": [
    "By default, the `.tail()` will display **last** five rows. However, we can set the desired number of rows to be displayed.\n",
    "\n",
    "Say we want to see the last 14 rows, we write the number 14 in the parentheses."
   ]
  },
  {
   "cell_type": "code",
   "execution_count": 59,
   "metadata": {},
   "outputs": [
    {
     "data": {
      "text/html": [
       "<div>\n",
       "<style scoped>\n",
       "    .dataframe tbody tr th:only-of-type {\n",
       "        vertical-align: middle;\n",
       "    }\n",
       "\n",
       "    .dataframe tbody tr th {\n",
       "        vertical-align: top;\n",
       "    }\n",
       "\n",
       "    .dataframe thead th {\n",
       "        text-align: right;\n",
       "    }\n",
       "</style>\n",
       "<table border=\"1\" class=\"dataframe\">\n",
       "  <thead>\n",
       "    <tr style=\"text-align: right;\">\n",
       "      <th></th>\n",
       "      <th>Age</th>\n",
       "      <th>Weight (in kg)</th>\n",
       "      <th>Height (in m)</th>\n",
       "    </tr>\n",
       "  </thead>\n",
       "  <tbody>\n",
       "    <tr>\n",
       "      <th>9</th>\n",
       "      <td>32</td>\n",
       "      <td>21</td>\n",
       "      <td>1.52</td>\n",
       "    </tr>\n",
       "    <tr>\n",
       "      <th>10</th>\n",
       "      <td>23</td>\n",
       "      <td>53</td>\n",
       "      <td>1.50</td>\n",
       "    </tr>\n",
       "    <tr>\n",
       "      <th>11</th>\n",
       "      <td>34</td>\n",
       "      <td>65</td>\n",
       "      <td>1.76</td>\n",
       "    </tr>\n",
       "    <tr>\n",
       "      <th>12</th>\n",
       "      <td>55</td>\n",
       "      <td>89</td>\n",
       "      <td>1.65</td>\n",
       "    </tr>\n",
       "    <tr>\n",
       "      <th>13</th>\n",
       "      <td>23</td>\n",
       "      <td>45</td>\n",
       "      <td>1.75</td>\n",
       "    </tr>\n",
       "    <tr>\n",
       "      <th>14</th>\n",
       "      <td>56</td>\n",
       "      <td>76</td>\n",
       "      <td>1.69</td>\n",
       "    </tr>\n",
       "    <tr>\n",
       "      <th>15</th>\n",
       "      <td>67</td>\n",
       "      <td>78</td>\n",
       "      <td>1.85</td>\n",
       "    </tr>\n",
       "    <tr>\n",
       "      <th>16</th>\n",
       "      <td>26</td>\n",
       "      <td>65</td>\n",
       "      <td>1.21</td>\n",
       "    </tr>\n",
       "    <tr>\n",
       "      <th>17</th>\n",
       "      <td>56</td>\n",
       "      <td>74</td>\n",
       "      <td>1.69</td>\n",
       "    </tr>\n",
       "    <tr>\n",
       "      <th>18</th>\n",
       "      <td>67</td>\n",
       "      <td>78</td>\n",
       "      <td>1.85</td>\n",
       "    </tr>\n",
       "    <tr>\n",
       "      <th>19</th>\n",
       "      <td>26</td>\n",
       "      <td>65</td>\n",
       "      <td>1.21</td>\n",
       "    </tr>\n",
       "    <tr>\n",
       "      <th>20</th>\n",
       "      <td>68</td>\n",
       "      <td>50</td>\n",
       "      <td>1.32</td>\n",
       "    </tr>\n",
       "    <tr>\n",
       "      <th>21</th>\n",
       "      <td>56</td>\n",
       "      <td>76</td>\n",
       "      <td>1.69</td>\n",
       "    </tr>\n",
       "    <tr>\n",
       "      <th>22</th>\n",
       "      <td>67</td>\n",
       "      <td>78</td>\n",
       "      <td>1.85</td>\n",
       "    </tr>\n",
       "  </tbody>\n",
       "</table>\n",
       "</div>"
      ],
      "text/plain": [
       "    Age  Weight (in kg)  Height (in m)\n",
       "9    32              21           1.52\n",
       "10   23              53           1.50\n",
       "11   34              65           1.76\n",
       "12   55              89           1.65\n",
       "13   23              45           1.75\n",
       "14   56              76           1.69\n",
       "15   67              78           1.85\n",
       "16   26              65           1.21\n",
       "17   56              74           1.69\n",
       "18   67              78           1.85\n",
       "19   26              65           1.21\n",
       "20   68              50           1.32\n",
       "21   56              76           1.69\n",
       "22   67              78           1.85"
      ]
     },
     "execution_count": 59,
     "metadata": {},
     "output_type": "execute_result"
    }
   ],
   "source": [
    "data.tail(14)"
   ]
  },
  {
   "cell_type": "markdown",
   "metadata": {},
   "source": [
    "**8. To obtain the dimension of the data**"
   ]
  },
  {
   "cell_type": "code",
   "execution_count": 60,
   "metadata": {},
   "outputs": [
    {
     "data": {
      "text/plain": [
       "(23, 3)"
      ]
     },
     "execution_count": 60,
     "metadata": {},
     "output_type": "execute_result"
    }
   ],
   "source": [
    "data.shape"
   ]
  },
  {
   "cell_type": "markdown",
   "metadata": {},
   "source": [
    "**9. To know the data types of a data frame**"
   ]
  },
  {
   "cell_type": "code",
   "execution_count": 61,
   "metadata": {},
   "outputs": [
    {
     "data": {
      "text/plain": [
       "Age                 int64\n",
       "Weight (in kg)      int64\n",
       "Height (in m)     float64\n",
       "dtype: object"
      ]
     },
     "execution_count": 61,
     "metadata": {},
     "output_type": "execute_result"
    }
   ],
   "source": [
    "data.dtypes"
   ]
  },
  {
   "cell_type": "markdown",
   "metadata": {},
   "source": [
    "We see the data type of each variable."
   ]
  },
  {
   "cell_type": "markdown",
   "metadata": {},
   "source": [
    "**10. To know some information of the data**"
   ]
  },
  {
   "cell_type": "code",
   "execution_count": 62,
   "metadata": {},
   "outputs": [
    {
     "name": "stdout",
     "output_type": "stream",
     "text": [
      "<class 'pandas.core.frame.DataFrame'>\n",
      "RangeIndex: 23 entries, 0 to 22\n",
      "Data columns (total 3 columns):\n",
      " #   Column          Non-Null Count  Dtype  \n",
      "---  ------          --------------  -----  \n",
      " 0   Age             23 non-null     int64  \n",
      " 1   Weight (in kg)  23 non-null     int64  \n",
      " 2   Height (in m)   23 non-null     float64\n",
      "dtypes: float64(1), int64(2)\n",
      "memory usage: 684.0 bytes\n"
     ]
    }
   ],
   "source": [
    "data.info()"
   ]
  },
  {
   "cell_type": "markdown",
   "metadata": {},
   "source": [
    "We see this output gives the number of rows present in the data `RangeIndex: 23 entries, 0 to 22` There are 23 rows numbered from 0 to 22. And there are a total of three columns - `Data columns (total 3 columns)`. \n",
    "\n",
    "Consider `Age 23 non-null int64` indicates that the column named 'Age' has 23 non-null observations having the data type 'int64'\n",
    "\n",
    "And finally the memory used to save this dataframe is 680 bytes."
   ]
  },
  {
   "cell_type": "markdown",
   "metadata": {},
   "source": [
    "**11. To check the data type of column in the data frame**"
   ]
  },
  {
   "cell_type": "code",
   "execution_count": 63,
   "metadata": {},
   "outputs": [
    {
     "data": {
      "text/plain": [
       "pandas.core.series.Series"
      ]
     },
     "execution_count": 63,
     "metadata": {},
     "output_type": "execute_result"
    }
   ],
   "source": [
    "type(data.Age)"
   ]
  },
  {
   "cell_type": "code",
   "execution_count": 64,
   "metadata": {},
   "outputs": [
    {
     "data": {
      "text/plain": [
       "pandas.core.series.Series"
      ]
     },
     "execution_count": 64,
     "metadata": {},
     "output_type": "execute_result"
    }
   ],
   "source": [
    "type(data[\"Weight (in kg)\"])"
   ]
  },
  {
   "cell_type": "code",
   "execution_count": 65,
   "metadata": {},
   "outputs": [
    {
     "data": {
      "text/plain": [
       "pandas.core.series.Series"
      ]
     },
     "execution_count": 65,
     "metadata": {},
     "output_type": "execute_result"
    }
   ],
   "source": [
    "type(data[\"Height (in m)\"])"
   ]
  },
  {
   "cell_type": "markdown",
   "metadata": {},
   "source": [
    "**Note that every column of the data frame is a pandas Series.**"
   ]
  },
  {
   "cell_type": "markdown",
   "metadata": {},
   "source": [
    "<a id=\"manipulatingDF\"> </a>\n",
    "### 4.2  Manipulating DataFrames "
   ]
  },
  {
   "cell_type": "markdown",
   "metadata": {},
   "source": [
    "### Add new column and rows"
   ]
  },
  {
   "cell_type": "markdown",
   "metadata": {},
   "source": [
    "<table align=\"left\">\n",
    "    <tr>\n",
    "        <td width=\"8%\">\n",
    "            <img src=\"caution.png\">\n",
    "        </td>\n",
    "        <td>\n",
    "            <div align=\"left\", style=\"font-size:120%\">\n",
    "                <font color=\"#21618C\">\n",
    "                    <b> CAUTION:<br>\n",
    "                        1. DataFrame[column] works for any column name, but DataFrame.column only works when the column name is a valid Python variable name.<br>\n",
    "                        2. New columns cannot be created with the ` data.BMI ` syntax.\n",
    "                    </b>\n",
    "                </font>\n",
    "            </div>\n",
    "        </td>\n",
    "    </tr>\n",
    "</table>"
   ]
  },
  {
   "cell_type": "markdown",
   "metadata": {},
   "source": [
    "**1. Adding a new column to the data set**"
   ]
  },
  {
   "cell_type": "code",
   "execution_count": 66,
   "metadata": {},
   "outputs": [],
   "source": [
    "data[\"BMI\"] = data[\"Weight (in kg)\"] / data[\"Height (in m)\"]**2"
   ]
  },
  {
   "cell_type": "code",
   "execution_count": 67,
   "metadata": {
    "scrolled": true
   },
   "outputs": [
    {
     "data": {
      "text/html": [
       "<div>\n",
       "<style scoped>\n",
       "    .dataframe tbody tr th:only-of-type {\n",
       "        vertical-align: middle;\n",
       "    }\n",
       "\n",
       "    .dataframe tbody tr th {\n",
       "        vertical-align: top;\n",
       "    }\n",
       "\n",
       "    .dataframe thead th {\n",
       "        text-align: right;\n",
       "    }\n",
       "</style>\n",
       "<table border=\"1\" class=\"dataframe\">\n",
       "  <thead>\n",
       "    <tr style=\"text-align: right;\">\n",
       "      <th></th>\n",
       "      <th>Age</th>\n",
       "      <th>Weight (in kg)</th>\n",
       "      <th>Height (in m)</th>\n",
       "      <th>BMI</th>\n",
       "    </tr>\n",
       "  </thead>\n",
       "  <tbody>\n",
       "    <tr>\n",
       "      <th>0</th>\n",
       "      <td>45</td>\n",
       "      <td>60</td>\n",
       "      <td>1.35</td>\n",
       "      <td>32.921811</td>\n",
       "    </tr>\n",
       "    <tr>\n",
       "      <th>1</th>\n",
       "      <td>12</td>\n",
       "      <td>43</td>\n",
       "      <td>1.21</td>\n",
       "      <td>29.369579</td>\n",
       "    </tr>\n",
       "    <tr>\n",
       "      <th>2</th>\n",
       "      <td>54</td>\n",
       "      <td>78</td>\n",
       "      <td>1.50</td>\n",
       "      <td>34.666667</td>\n",
       "    </tr>\n",
       "    <tr>\n",
       "      <th>3</th>\n",
       "      <td>26</td>\n",
       "      <td>65</td>\n",
       "      <td>1.21</td>\n",
       "      <td>44.395875</td>\n",
       "    </tr>\n",
       "    <tr>\n",
       "      <th>4</th>\n",
       "      <td>68</td>\n",
       "      <td>50</td>\n",
       "      <td>1.32</td>\n",
       "      <td>28.696051</td>\n",
       "    </tr>\n",
       "    <tr>\n",
       "      <th>5</th>\n",
       "      <td>21</td>\n",
       "      <td>43</td>\n",
       "      <td>1.52</td>\n",
       "      <td>18.611496</td>\n",
       "    </tr>\n",
       "    <tr>\n",
       "      <th>6</th>\n",
       "      <td>10</td>\n",
       "      <td>32</td>\n",
       "      <td>1.65</td>\n",
       "      <td>11.753903</td>\n",
       "    </tr>\n",
       "    <tr>\n",
       "      <th>7</th>\n",
       "      <td>57</td>\n",
       "      <td>34</td>\n",
       "      <td>1.61</td>\n",
       "      <td>13.116778</td>\n",
       "    </tr>\n",
       "    <tr>\n",
       "      <th>8</th>\n",
       "      <td>75</td>\n",
       "      <td>23</td>\n",
       "      <td>1.24</td>\n",
       "      <td>14.958377</td>\n",
       "    </tr>\n",
       "    <tr>\n",
       "      <th>9</th>\n",
       "      <td>32</td>\n",
       "      <td>21</td>\n",
       "      <td>1.52</td>\n",
       "      <td>9.089335</td>\n",
       "    </tr>\n",
       "    <tr>\n",
       "      <th>10</th>\n",
       "      <td>23</td>\n",
       "      <td>53</td>\n",
       "      <td>1.50</td>\n",
       "      <td>23.555556</td>\n",
       "    </tr>\n",
       "    <tr>\n",
       "      <th>11</th>\n",
       "      <td>34</td>\n",
       "      <td>65</td>\n",
       "      <td>1.76</td>\n",
       "      <td>20.983988</td>\n",
       "    </tr>\n",
       "    <tr>\n",
       "      <th>12</th>\n",
       "      <td>55</td>\n",
       "      <td>89</td>\n",
       "      <td>1.65</td>\n",
       "      <td>32.690542</td>\n",
       "    </tr>\n",
       "    <tr>\n",
       "      <th>13</th>\n",
       "      <td>23</td>\n",
       "      <td>45</td>\n",
       "      <td>1.75</td>\n",
       "      <td>14.693878</td>\n",
       "    </tr>\n",
       "    <tr>\n",
       "      <th>14</th>\n",
       "      <td>56</td>\n",
       "      <td>76</td>\n",
       "      <td>1.69</td>\n",
       "      <td>26.609713</td>\n",
       "    </tr>\n",
       "    <tr>\n",
       "      <th>15</th>\n",
       "      <td>67</td>\n",
       "      <td>78</td>\n",
       "      <td>1.85</td>\n",
       "      <td>22.790358</td>\n",
       "    </tr>\n",
       "    <tr>\n",
       "      <th>16</th>\n",
       "      <td>26</td>\n",
       "      <td>65</td>\n",
       "      <td>1.21</td>\n",
       "      <td>44.395875</td>\n",
       "    </tr>\n",
       "    <tr>\n",
       "      <th>17</th>\n",
       "      <td>56</td>\n",
       "      <td>74</td>\n",
       "      <td>1.69</td>\n",
       "      <td>25.909457</td>\n",
       "    </tr>\n",
       "    <tr>\n",
       "      <th>18</th>\n",
       "      <td>67</td>\n",
       "      <td>78</td>\n",
       "      <td>1.85</td>\n",
       "      <td>22.790358</td>\n",
       "    </tr>\n",
       "    <tr>\n",
       "      <th>19</th>\n",
       "      <td>26</td>\n",
       "      <td>65</td>\n",
       "      <td>1.21</td>\n",
       "      <td>44.395875</td>\n",
       "    </tr>\n",
       "    <tr>\n",
       "      <th>20</th>\n",
       "      <td>68</td>\n",
       "      <td>50</td>\n",
       "      <td>1.32</td>\n",
       "      <td>28.696051</td>\n",
       "    </tr>\n",
       "    <tr>\n",
       "      <th>21</th>\n",
       "      <td>56</td>\n",
       "      <td>76</td>\n",
       "      <td>1.69</td>\n",
       "      <td>26.609713</td>\n",
       "    </tr>\n",
       "    <tr>\n",
       "      <th>22</th>\n",
       "      <td>67</td>\n",
       "      <td>78</td>\n",
       "      <td>1.85</td>\n",
       "      <td>22.790358</td>\n",
       "    </tr>\n",
       "  </tbody>\n",
       "</table>\n",
       "</div>"
      ],
      "text/plain": [
       "    Age  Weight (in kg)  Height (in m)        BMI\n",
       "0    45              60           1.35  32.921811\n",
       "1    12              43           1.21  29.369579\n",
       "2    54              78           1.50  34.666667\n",
       "3    26              65           1.21  44.395875\n",
       "4    68              50           1.32  28.696051\n",
       "5    21              43           1.52  18.611496\n",
       "6    10              32           1.65  11.753903\n",
       "7    57              34           1.61  13.116778\n",
       "8    75              23           1.24  14.958377\n",
       "9    32              21           1.52   9.089335\n",
       "10   23              53           1.50  23.555556\n",
       "11   34              65           1.76  20.983988\n",
       "12   55              89           1.65  32.690542\n",
       "13   23              45           1.75  14.693878\n",
       "14   56              76           1.69  26.609713\n",
       "15   67              78           1.85  22.790358\n",
       "16   26              65           1.21  44.395875\n",
       "17   56              74           1.69  25.909457\n",
       "18   67              78           1.85  22.790358\n",
       "19   26              65           1.21  44.395875\n",
       "20   68              50           1.32  28.696051\n",
       "21   56              76           1.69  26.609713\n",
       "22   67              78           1.85  22.790358"
      ]
     },
     "execution_count": 67,
     "metadata": {},
     "output_type": "execute_result"
    }
   ],
   "source": [
    "data"
   ]
  },
  {
   "cell_type": "code",
   "execution_count": 68,
   "metadata": {},
   "outputs": [
    {
     "data": {
      "text/plain": [
       "(23, 4)"
      ]
     },
     "execution_count": 68,
     "metadata": {},
     "output_type": "execute_result"
    }
   ],
   "source": [
    "data.shape"
   ]
  },
  {
   "cell_type": "markdown",
   "metadata": {},
   "source": [
    "**2. Adding a new row to the data set**"
   ]
  },
  {
   "cell_type": "markdown",
   "metadata": {},
   "source": [
    "A new row can be added using the function copy()"
   ]
  },
  {
   "cell_type": "code",
   "execution_count": 69,
   "metadata": {},
   "outputs": [],
   "source": [
    "data_copy = data.copy()\n",
    "data_copy.loc[23] = [45, 85, 1.8, 26.3]"
   ]
  },
  {
   "cell_type": "code",
   "execution_count": 70,
   "metadata": {},
   "outputs": [
    {
     "data": {
      "text/html": [
       "<div>\n",
       "<style scoped>\n",
       "    .dataframe tbody tr th:only-of-type {\n",
       "        vertical-align: middle;\n",
       "    }\n",
       "\n",
       "    .dataframe tbody tr th {\n",
       "        vertical-align: top;\n",
       "    }\n",
       "\n",
       "    .dataframe thead th {\n",
       "        text-align: right;\n",
       "    }\n",
       "</style>\n",
       "<table border=\"1\" class=\"dataframe\">\n",
       "  <thead>\n",
       "    <tr style=\"text-align: right;\">\n",
       "      <th></th>\n",
       "      <th>Age</th>\n",
       "      <th>Weight (in kg)</th>\n",
       "      <th>Height (in m)</th>\n",
       "      <th>BMI</th>\n",
       "    </tr>\n",
       "  </thead>\n",
       "  <tbody>\n",
       "    <tr>\n",
       "      <th>0</th>\n",
       "      <td>45.0</td>\n",
       "      <td>60.0</td>\n",
       "      <td>1.35</td>\n",
       "      <td>32.921811</td>\n",
       "    </tr>\n",
       "    <tr>\n",
       "      <th>1</th>\n",
       "      <td>12.0</td>\n",
       "      <td>43.0</td>\n",
       "      <td>1.21</td>\n",
       "      <td>29.369579</td>\n",
       "    </tr>\n",
       "    <tr>\n",
       "      <th>2</th>\n",
       "      <td>54.0</td>\n",
       "      <td>78.0</td>\n",
       "      <td>1.50</td>\n",
       "      <td>34.666667</td>\n",
       "    </tr>\n",
       "    <tr>\n",
       "      <th>3</th>\n",
       "      <td>26.0</td>\n",
       "      <td>65.0</td>\n",
       "      <td>1.21</td>\n",
       "      <td>44.395875</td>\n",
       "    </tr>\n",
       "    <tr>\n",
       "      <th>4</th>\n",
       "      <td>68.0</td>\n",
       "      <td>50.0</td>\n",
       "      <td>1.32</td>\n",
       "      <td>28.696051</td>\n",
       "    </tr>\n",
       "    <tr>\n",
       "      <th>5</th>\n",
       "      <td>21.0</td>\n",
       "      <td>43.0</td>\n",
       "      <td>1.52</td>\n",
       "      <td>18.611496</td>\n",
       "    </tr>\n",
       "    <tr>\n",
       "      <th>6</th>\n",
       "      <td>10.0</td>\n",
       "      <td>32.0</td>\n",
       "      <td>1.65</td>\n",
       "      <td>11.753903</td>\n",
       "    </tr>\n",
       "    <tr>\n",
       "      <th>7</th>\n",
       "      <td>57.0</td>\n",
       "      <td>34.0</td>\n",
       "      <td>1.61</td>\n",
       "      <td>13.116778</td>\n",
       "    </tr>\n",
       "    <tr>\n",
       "      <th>8</th>\n",
       "      <td>75.0</td>\n",
       "      <td>23.0</td>\n",
       "      <td>1.24</td>\n",
       "      <td>14.958377</td>\n",
       "    </tr>\n",
       "    <tr>\n",
       "      <th>9</th>\n",
       "      <td>32.0</td>\n",
       "      <td>21.0</td>\n",
       "      <td>1.52</td>\n",
       "      <td>9.089335</td>\n",
       "    </tr>\n",
       "    <tr>\n",
       "      <th>10</th>\n",
       "      <td>23.0</td>\n",
       "      <td>53.0</td>\n",
       "      <td>1.50</td>\n",
       "      <td>23.555556</td>\n",
       "    </tr>\n",
       "    <tr>\n",
       "      <th>11</th>\n",
       "      <td>34.0</td>\n",
       "      <td>65.0</td>\n",
       "      <td>1.76</td>\n",
       "      <td>20.983988</td>\n",
       "    </tr>\n",
       "    <tr>\n",
       "      <th>12</th>\n",
       "      <td>55.0</td>\n",
       "      <td>89.0</td>\n",
       "      <td>1.65</td>\n",
       "      <td>32.690542</td>\n",
       "    </tr>\n",
       "    <tr>\n",
       "      <th>13</th>\n",
       "      <td>23.0</td>\n",
       "      <td>45.0</td>\n",
       "      <td>1.75</td>\n",
       "      <td>14.693878</td>\n",
       "    </tr>\n",
       "    <tr>\n",
       "      <th>14</th>\n",
       "      <td>56.0</td>\n",
       "      <td>76.0</td>\n",
       "      <td>1.69</td>\n",
       "      <td>26.609713</td>\n",
       "    </tr>\n",
       "    <tr>\n",
       "      <th>15</th>\n",
       "      <td>67.0</td>\n",
       "      <td>78.0</td>\n",
       "      <td>1.85</td>\n",
       "      <td>22.790358</td>\n",
       "    </tr>\n",
       "    <tr>\n",
       "      <th>16</th>\n",
       "      <td>26.0</td>\n",
       "      <td>65.0</td>\n",
       "      <td>1.21</td>\n",
       "      <td>44.395875</td>\n",
       "    </tr>\n",
       "    <tr>\n",
       "      <th>17</th>\n",
       "      <td>56.0</td>\n",
       "      <td>74.0</td>\n",
       "      <td>1.69</td>\n",
       "      <td>25.909457</td>\n",
       "    </tr>\n",
       "    <tr>\n",
       "      <th>18</th>\n",
       "      <td>67.0</td>\n",
       "      <td>78.0</td>\n",
       "      <td>1.85</td>\n",
       "      <td>22.790358</td>\n",
       "    </tr>\n",
       "    <tr>\n",
       "      <th>19</th>\n",
       "      <td>26.0</td>\n",
       "      <td>65.0</td>\n",
       "      <td>1.21</td>\n",
       "      <td>44.395875</td>\n",
       "    </tr>\n",
       "    <tr>\n",
       "      <th>20</th>\n",
       "      <td>68.0</td>\n",
       "      <td>50.0</td>\n",
       "      <td>1.32</td>\n",
       "      <td>28.696051</td>\n",
       "    </tr>\n",
       "    <tr>\n",
       "      <th>21</th>\n",
       "      <td>56.0</td>\n",
       "      <td>76.0</td>\n",
       "      <td>1.69</td>\n",
       "      <td>26.609713</td>\n",
       "    </tr>\n",
       "    <tr>\n",
       "      <th>22</th>\n",
       "      <td>67.0</td>\n",
       "      <td>78.0</td>\n",
       "      <td>1.85</td>\n",
       "      <td>22.790358</td>\n",
       "    </tr>\n",
       "    <tr>\n",
       "      <th>23</th>\n",
       "      <td>45.0</td>\n",
       "      <td>85.0</td>\n",
       "      <td>1.80</td>\n",
       "      <td>26.300000</td>\n",
       "    </tr>\n",
       "  </tbody>\n",
       "</table>\n",
       "</div>"
      ],
      "text/plain": [
       "     Age  Weight (in kg)  Height (in m)        BMI\n",
       "0   45.0            60.0           1.35  32.921811\n",
       "1   12.0            43.0           1.21  29.369579\n",
       "2   54.0            78.0           1.50  34.666667\n",
       "3   26.0            65.0           1.21  44.395875\n",
       "4   68.0            50.0           1.32  28.696051\n",
       "5   21.0            43.0           1.52  18.611496\n",
       "6   10.0            32.0           1.65  11.753903\n",
       "7   57.0            34.0           1.61  13.116778\n",
       "8   75.0            23.0           1.24  14.958377\n",
       "9   32.0            21.0           1.52   9.089335\n",
       "10  23.0            53.0           1.50  23.555556\n",
       "11  34.0            65.0           1.76  20.983988\n",
       "12  55.0            89.0           1.65  32.690542\n",
       "13  23.0            45.0           1.75  14.693878\n",
       "14  56.0            76.0           1.69  26.609713\n",
       "15  67.0            78.0           1.85  22.790358\n",
       "16  26.0            65.0           1.21  44.395875\n",
       "17  56.0            74.0           1.69  25.909457\n",
       "18  67.0            78.0           1.85  22.790358\n",
       "19  26.0            65.0           1.21  44.395875\n",
       "20  68.0            50.0           1.32  28.696051\n",
       "21  56.0            76.0           1.69  26.609713\n",
       "22  67.0            78.0           1.85  22.790358\n",
       "23  45.0            85.0           1.80  26.300000"
      ]
     },
     "execution_count": 70,
     "metadata": {},
     "output_type": "execute_result"
    }
   ],
   "source": [
    "data_copy"
   ]
  },
  {
   "cell_type": "markdown",
   "metadata": {},
   "source": [
    "We see that a new column number 23 has be added to the data."
   ]
  },
  {
   "cell_type": "markdown",
   "metadata": {},
   "source": [
    "**3. Indexing a dataframe using `.iloc`**\n",
    "\n",
    "`DataFrame.iloc[]` method is used when the index label of a data frame is something other than numeric series of 0, 1, 2, 3….n or in case the user doesn’t know the index label. "
   ]
  },
  {
   "cell_type": "markdown",
   "metadata": {},
   "source": [
    "We shall work on the BMI data set.\n",
    "\n",
    "#### Select the 2nd row"
   ]
  },
  {
   "cell_type": "code",
   "execution_count": 71,
   "metadata": {},
   "outputs": [
    {
     "data": {
      "text/plain": [
       "Age               54.000000\n",
       "Weight (in kg)    78.000000\n",
       "Height (in m)      1.500000\n",
       "BMI               34.666667\n",
       "Name: 2, dtype: float64"
      ]
     },
     "execution_count": 71,
     "metadata": {},
     "output_type": "execute_result"
    }
   ],
   "source": [
    "data.iloc[2]"
   ]
  },
  {
   "cell_type": "markdown",
   "metadata": {},
   "source": [
    "#### Select 4th, 7th and 10th rows"
   ]
  },
  {
   "cell_type": "code",
   "execution_count": 72,
   "metadata": {},
   "outputs": [
    {
     "data": {
      "text/html": [
       "<div>\n",
       "<style scoped>\n",
       "    .dataframe tbody tr th:only-of-type {\n",
       "        vertical-align: middle;\n",
       "    }\n",
       "\n",
       "    .dataframe tbody tr th {\n",
       "        vertical-align: top;\n",
       "    }\n",
       "\n",
       "    .dataframe thead th {\n",
       "        text-align: right;\n",
       "    }\n",
       "</style>\n",
       "<table border=\"1\" class=\"dataframe\">\n",
       "  <thead>\n",
       "    <tr style=\"text-align: right;\">\n",
       "      <th></th>\n",
       "      <th>Age</th>\n",
       "      <th>Weight (in kg)</th>\n",
       "      <th>Height (in m)</th>\n",
       "      <th>BMI</th>\n",
       "    </tr>\n",
       "  </thead>\n",
       "  <tbody>\n",
       "    <tr>\n",
       "      <th>4</th>\n",
       "      <td>68</td>\n",
       "      <td>50</td>\n",
       "      <td>1.32</td>\n",
       "      <td>28.696051</td>\n",
       "    </tr>\n",
       "    <tr>\n",
       "      <th>7</th>\n",
       "      <td>57</td>\n",
       "      <td>34</td>\n",
       "      <td>1.61</td>\n",
       "      <td>13.116778</td>\n",
       "    </tr>\n",
       "    <tr>\n",
       "      <th>10</th>\n",
       "      <td>23</td>\n",
       "      <td>53</td>\n",
       "      <td>1.50</td>\n",
       "      <td>23.555556</td>\n",
       "    </tr>\n",
       "  </tbody>\n",
       "</table>\n",
       "</div>"
      ],
      "text/plain": [
       "    Age  Weight (in kg)  Height (in m)        BMI\n",
       "4    68              50           1.32  28.696051\n",
       "7    57              34           1.61  13.116778\n",
       "10   23              53           1.50  23.555556"
      ]
     },
     "execution_count": 72,
     "metadata": {},
     "output_type": "execute_result"
    }
   ],
   "source": [
    "data.iloc[[4,7,10]]"
   ]
  },
  {
   "cell_type": "markdown",
   "metadata": {},
   "source": [
    "We use two square brackets since we are passing a list of row numbers to be accessed."
   ]
  },
  {
   "cell_type": "markdown",
   "metadata": {},
   "source": [
    "#### Select 12th to 17th rows"
   ]
  },
  {
   "cell_type": "code",
   "execution_count": 73,
   "metadata": {},
   "outputs": [
    {
     "data": {
      "text/html": [
       "<div>\n",
       "<style scoped>\n",
       "    .dataframe tbody tr th:only-of-type {\n",
       "        vertical-align: middle;\n",
       "    }\n",
       "\n",
       "    .dataframe tbody tr th {\n",
       "        vertical-align: top;\n",
       "    }\n",
       "\n",
       "    .dataframe thead th {\n",
       "        text-align: right;\n",
       "    }\n",
       "</style>\n",
       "<table border=\"1\" class=\"dataframe\">\n",
       "  <thead>\n",
       "    <tr style=\"text-align: right;\">\n",
       "      <th></th>\n",
       "      <th>Age</th>\n",
       "      <th>Weight (in kg)</th>\n",
       "      <th>Height (in m)</th>\n",
       "      <th>BMI</th>\n",
       "    </tr>\n",
       "  </thead>\n",
       "  <tbody>\n",
       "    <tr>\n",
       "      <th>12</th>\n",
       "      <td>55</td>\n",
       "      <td>89</td>\n",
       "      <td>1.65</td>\n",
       "      <td>32.690542</td>\n",
       "    </tr>\n",
       "    <tr>\n",
       "      <th>13</th>\n",
       "      <td>23</td>\n",
       "      <td>45</td>\n",
       "      <td>1.75</td>\n",
       "      <td>14.693878</td>\n",
       "    </tr>\n",
       "    <tr>\n",
       "      <th>14</th>\n",
       "      <td>56</td>\n",
       "      <td>76</td>\n",
       "      <td>1.69</td>\n",
       "      <td>26.609713</td>\n",
       "    </tr>\n",
       "    <tr>\n",
       "      <th>15</th>\n",
       "      <td>67</td>\n",
       "      <td>78</td>\n",
       "      <td>1.85</td>\n",
       "      <td>22.790358</td>\n",
       "    </tr>\n",
       "    <tr>\n",
       "      <th>16</th>\n",
       "      <td>26</td>\n",
       "      <td>65</td>\n",
       "      <td>1.21</td>\n",
       "      <td>44.395875</td>\n",
       "    </tr>\n",
       "  </tbody>\n",
       "</table>\n",
       "</div>"
      ],
      "text/plain": [
       "    Age  Weight (in kg)  Height (in m)        BMI\n",
       "12   55              89           1.65  32.690542\n",
       "13   23              45           1.75  14.693878\n",
       "14   56              76           1.69  26.609713\n",
       "15   67              78           1.85  22.790358\n",
       "16   26              65           1.21  44.395875"
      ]
     },
     "execution_count": 73,
     "metadata": {},
     "output_type": "execute_result"
    }
   ],
   "source": [
    "data.iloc[12:17]"
   ]
  },
  {
   "cell_type": "markdown",
   "metadata": {},
   "source": [
    "#### Select the 1st column"
   ]
  },
  {
   "cell_type": "code",
   "execution_count": 74,
   "metadata": {},
   "outputs": [
    {
     "data": {
      "text/plain": [
       "0     60\n",
       "1     43\n",
       "2     78\n",
       "3     65\n",
       "4     50\n",
       "5     43\n",
       "6     32\n",
       "7     34\n",
       "8     23\n",
       "9     21\n",
       "10    53\n",
       "11    65\n",
       "12    89\n",
       "13    45\n",
       "14    76\n",
       "15    78\n",
       "16    65\n",
       "17    74\n",
       "18    78\n",
       "19    65\n",
       "20    50\n",
       "21    76\n",
       "22    78\n",
       "Name: Weight (in kg), dtype: int64"
      ]
     },
     "execution_count": 74,
     "metadata": {},
     "output_type": "execute_result"
    }
   ],
   "source": [
    "data.iloc[:, 1]"
   ]
  },
  {
   "cell_type": "markdown",
   "metadata": {},
   "source": [
    "#### Select the last column"
   ]
  },
  {
   "cell_type": "code",
   "execution_count": 75,
   "metadata": {},
   "outputs": [
    {
     "data": {
      "text/plain": [
       "0     32.921811\n",
       "1     29.369579\n",
       "2     34.666667\n",
       "3     44.395875\n",
       "4     28.696051\n",
       "5     18.611496\n",
       "6     11.753903\n",
       "7     13.116778\n",
       "8     14.958377\n",
       "9      9.089335\n",
       "10    23.555556\n",
       "11    20.983988\n",
       "12    32.690542\n",
       "13    14.693878\n",
       "14    26.609713\n",
       "15    22.790358\n",
       "16    44.395875\n",
       "17    25.909457\n",
       "18    22.790358\n",
       "19    44.395875\n",
       "20    28.696051\n",
       "21    26.609713\n",
       "22    22.790358\n",
       "Name: BMI, dtype: float64"
      ]
     },
     "execution_count": 75,
     "metadata": {},
     "output_type": "execute_result"
    }
   ],
   "source": [
    "data.iloc[:,-1]"
   ]
  },
  {
   "cell_type": "markdown",
   "metadata": {},
   "source": [
    "To select the last column we use -1, to select the second last column we use -2"
   ]
  },
  {
   "cell_type": "markdown",
   "metadata": {},
   "source": [
    "#### Select the first two columns"
   ]
  },
  {
   "cell_type": "code",
   "execution_count": 76,
   "metadata": {},
   "outputs": [
    {
     "data": {
      "text/html": [
       "<div>\n",
       "<style scoped>\n",
       "    .dataframe tbody tr th:only-of-type {\n",
       "        vertical-align: middle;\n",
       "    }\n",
       "\n",
       "    .dataframe tbody tr th {\n",
       "        vertical-align: top;\n",
       "    }\n",
       "\n",
       "    .dataframe thead th {\n",
       "        text-align: right;\n",
       "    }\n",
       "</style>\n",
       "<table border=\"1\" class=\"dataframe\">\n",
       "  <thead>\n",
       "    <tr style=\"text-align: right;\">\n",
       "      <th></th>\n",
       "      <th>Age</th>\n",
       "      <th>Weight (in kg)</th>\n",
       "    </tr>\n",
       "  </thead>\n",
       "  <tbody>\n",
       "    <tr>\n",
       "      <th>0</th>\n",
       "      <td>45</td>\n",
       "      <td>60</td>\n",
       "    </tr>\n",
       "    <tr>\n",
       "      <th>1</th>\n",
       "      <td>12</td>\n",
       "      <td>43</td>\n",
       "    </tr>\n",
       "    <tr>\n",
       "      <th>2</th>\n",
       "      <td>54</td>\n",
       "      <td>78</td>\n",
       "    </tr>\n",
       "    <tr>\n",
       "      <th>3</th>\n",
       "      <td>26</td>\n",
       "      <td>65</td>\n",
       "    </tr>\n",
       "    <tr>\n",
       "      <th>4</th>\n",
       "      <td>68</td>\n",
       "      <td>50</td>\n",
       "    </tr>\n",
       "    <tr>\n",
       "      <th>5</th>\n",
       "      <td>21</td>\n",
       "      <td>43</td>\n",
       "    </tr>\n",
       "    <tr>\n",
       "      <th>6</th>\n",
       "      <td>10</td>\n",
       "      <td>32</td>\n",
       "    </tr>\n",
       "    <tr>\n",
       "      <th>7</th>\n",
       "      <td>57</td>\n",
       "      <td>34</td>\n",
       "    </tr>\n",
       "    <tr>\n",
       "      <th>8</th>\n",
       "      <td>75</td>\n",
       "      <td>23</td>\n",
       "    </tr>\n",
       "    <tr>\n",
       "      <th>9</th>\n",
       "      <td>32</td>\n",
       "      <td>21</td>\n",
       "    </tr>\n",
       "    <tr>\n",
       "      <th>10</th>\n",
       "      <td>23</td>\n",
       "      <td>53</td>\n",
       "    </tr>\n",
       "    <tr>\n",
       "      <th>11</th>\n",
       "      <td>34</td>\n",
       "      <td>65</td>\n",
       "    </tr>\n",
       "    <tr>\n",
       "      <th>12</th>\n",
       "      <td>55</td>\n",
       "      <td>89</td>\n",
       "    </tr>\n",
       "    <tr>\n",
       "      <th>13</th>\n",
       "      <td>23</td>\n",
       "      <td>45</td>\n",
       "    </tr>\n",
       "    <tr>\n",
       "      <th>14</th>\n",
       "      <td>56</td>\n",
       "      <td>76</td>\n",
       "    </tr>\n",
       "    <tr>\n",
       "      <th>15</th>\n",
       "      <td>67</td>\n",
       "      <td>78</td>\n",
       "    </tr>\n",
       "    <tr>\n",
       "      <th>16</th>\n",
       "      <td>26</td>\n",
       "      <td>65</td>\n",
       "    </tr>\n",
       "    <tr>\n",
       "      <th>17</th>\n",
       "      <td>56</td>\n",
       "      <td>74</td>\n",
       "    </tr>\n",
       "    <tr>\n",
       "      <th>18</th>\n",
       "      <td>67</td>\n",
       "      <td>78</td>\n",
       "    </tr>\n",
       "    <tr>\n",
       "      <th>19</th>\n",
       "      <td>26</td>\n",
       "      <td>65</td>\n",
       "    </tr>\n",
       "    <tr>\n",
       "      <th>20</th>\n",
       "      <td>68</td>\n",
       "      <td>50</td>\n",
       "    </tr>\n",
       "    <tr>\n",
       "      <th>21</th>\n",
       "      <td>56</td>\n",
       "      <td>76</td>\n",
       "    </tr>\n",
       "    <tr>\n",
       "      <th>22</th>\n",
       "      <td>67</td>\n",
       "      <td>78</td>\n",
       "    </tr>\n",
       "  </tbody>\n",
       "</table>\n",
       "</div>"
      ],
      "text/plain": [
       "    Age  Weight (in kg)\n",
       "0    45              60\n",
       "1    12              43\n",
       "2    54              78\n",
       "3    26              65\n",
       "4    68              50\n",
       "5    21              43\n",
       "6    10              32\n",
       "7    57              34\n",
       "8    75              23\n",
       "9    32              21\n",
       "10   23              53\n",
       "11   34              65\n",
       "12   55              89\n",
       "13   23              45\n",
       "14   56              76\n",
       "15   67              78\n",
       "16   26              65\n",
       "17   56              74\n",
       "18   67              78\n",
       "19   26              65\n",
       "20   68              50\n",
       "21   56              76\n",
       "22   67              78"
      ]
     },
     "execution_count": 76,
     "metadata": {},
     "output_type": "execute_result"
    }
   ],
   "source": [
    "data.iloc[:,0:2]"
   ]
  },
  {
   "cell_type": "markdown",
   "metadata": {},
   "source": [
    "#### Select the first two columns and 5 to 10 rows"
   ]
  },
  {
   "cell_type": "code",
   "execution_count": 77,
   "metadata": {},
   "outputs": [
    {
     "data": {
      "text/html": [
       "<div>\n",
       "<style scoped>\n",
       "    .dataframe tbody tr th:only-of-type {\n",
       "        vertical-align: middle;\n",
       "    }\n",
       "\n",
       "    .dataframe tbody tr th {\n",
       "        vertical-align: top;\n",
       "    }\n",
       "\n",
       "    .dataframe thead th {\n",
       "        text-align: right;\n",
       "    }\n",
       "</style>\n",
       "<table border=\"1\" class=\"dataframe\">\n",
       "  <thead>\n",
       "    <tr style=\"text-align: right;\">\n",
       "      <th></th>\n",
       "      <th>Age</th>\n",
       "      <th>Weight (in kg)</th>\n",
       "    </tr>\n",
       "  </thead>\n",
       "  <tbody>\n",
       "    <tr>\n",
       "      <th>5</th>\n",
       "      <td>21</td>\n",
       "      <td>43</td>\n",
       "    </tr>\n",
       "    <tr>\n",
       "      <th>6</th>\n",
       "      <td>10</td>\n",
       "      <td>32</td>\n",
       "    </tr>\n",
       "    <tr>\n",
       "      <th>7</th>\n",
       "      <td>57</td>\n",
       "      <td>34</td>\n",
       "    </tr>\n",
       "    <tr>\n",
       "      <th>8</th>\n",
       "      <td>75</td>\n",
       "      <td>23</td>\n",
       "    </tr>\n",
       "    <tr>\n",
       "      <th>9</th>\n",
       "      <td>32</td>\n",
       "      <td>21</td>\n",
       "    </tr>\n",
       "    <tr>\n",
       "      <th>10</th>\n",
       "      <td>23</td>\n",
       "      <td>53</td>\n",
       "    </tr>\n",
       "  </tbody>\n",
       "</table>\n",
       "</div>"
      ],
      "text/plain": [
       "    Age  Weight (in kg)\n",
       "5    21              43\n",
       "6    10              32\n",
       "7    57              34\n",
       "8    75              23\n",
       "9    32              21\n",
       "10   23              53"
      ]
     },
     "execution_count": 77,
     "metadata": {},
     "output_type": "execute_result"
    }
   ],
   "source": [
    "data.iloc[5:11, 0:2]"
   ]
  },
  {
   "cell_type": "markdown",
   "metadata": {},
   "source": [
    "**4. Indexing a dataframe using `.loc`**\n",
    "\n",
    "`DataFrame.loc[]` method is a method that takes only index labels and returns row or dataframe if the index label exists in the caller data frame. <br>\n",
    "`DataFrame.loc[Row_names, column_names]` is used to select or index rows or columns based on their name."
   ]
  },
  {
   "cell_type": "markdown",
   "metadata": {},
   "source": [
    "#### Select 1 to 5 rows and 2nd and 4th columns"
   ]
  },
  {
   "cell_type": "code",
   "execution_count": 78,
   "metadata": {},
   "outputs": [
    {
     "data": {
      "text/html": [
       "<div>\n",
       "<style scoped>\n",
       "    .dataframe tbody tr th:only-of-type {\n",
       "        vertical-align: middle;\n",
       "    }\n",
       "\n",
       "    .dataframe tbody tr th {\n",
       "        vertical-align: top;\n",
       "    }\n",
       "\n",
       "    .dataframe thead th {\n",
       "        text-align: right;\n",
       "    }\n",
       "</style>\n",
       "<table border=\"1\" class=\"dataframe\">\n",
       "  <thead>\n",
       "    <tr style=\"text-align: right;\">\n",
       "      <th></th>\n",
       "      <th>Weight (in kg)</th>\n",
       "      <th>BMI</th>\n",
       "    </tr>\n",
       "  </thead>\n",
       "  <tbody>\n",
       "    <tr>\n",
       "      <th>1</th>\n",
       "      <td>43</td>\n",
       "      <td>29.369579</td>\n",
       "    </tr>\n",
       "    <tr>\n",
       "      <th>2</th>\n",
       "      <td>78</td>\n",
       "      <td>34.666667</td>\n",
       "    </tr>\n",
       "    <tr>\n",
       "      <th>3</th>\n",
       "      <td>65</td>\n",
       "      <td>44.395875</td>\n",
       "    </tr>\n",
       "    <tr>\n",
       "      <th>4</th>\n",
       "      <td>50</td>\n",
       "      <td>28.696051</td>\n",
       "    </tr>\n",
       "    <tr>\n",
       "      <th>5</th>\n",
       "      <td>43</td>\n",
       "      <td>18.611496</td>\n",
       "    </tr>\n",
       "  </tbody>\n",
       "</table>\n",
       "</div>"
      ],
      "text/plain": [
       "   Weight (in kg)        BMI\n",
       "1              43  29.369579\n",
       "2              78  34.666667\n",
       "3              65  44.395875\n",
       "4              50  28.696051\n",
       "5              43  18.611496"
      ]
     },
     "execution_count": 78,
     "metadata": {},
     "output_type": "execute_result"
    }
   ],
   "source": [
    "data.loc[1:5,[\"Weight (in kg)\",\"BMI\"]]"
   ]
  },
  {
   "cell_type": "markdown",
   "metadata": {},
   "source": [
    "**Note:** the row names are numbers "
   ]
  },
  {
   "cell_type": "markdown",
   "metadata": {},
   "source": [
    "**5. Selecting columns by specifying column names**"
   ]
  },
  {
   "cell_type": "markdown",
   "metadata": {},
   "source": [
    "#### Select the column 'Age'"
   ]
  },
  {
   "cell_type": "code",
   "execution_count": 79,
   "metadata": {},
   "outputs": [
    {
     "data": {
      "text/plain": [
       "0     45\n",
       "1     12\n",
       "2     54\n",
       "3     26\n",
       "4     68\n",
       "5     21\n",
       "6     10\n",
       "7     57\n",
       "8     75\n",
       "9     32\n",
       "10    23\n",
       "11    34\n",
       "12    55\n",
       "13    23\n",
       "14    56\n",
       "15    67\n",
       "16    26\n",
       "17    56\n",
       "18    67\n",
       "19    26\n",
       "20    68\n",
       "21    56\n",
       "22    67\n",
       "Name: Age, dtype: int64"
      ]
     },
     "execution_count": 79,
     "metadata": {},
     "output_type": "execute_result"
    }
   ],
   "source": [
    "data.Age"
   ]
  },
  {
   "cell_type": "markdown",
   "metadata": {},
   "source": [
    "**Remark:** Using this method we can select only one column."
   ]
  },
  {
   "cell_type": "code",
   "execution_count": 80,
   "metadata": {},
   "outputs": [
    {
     "data": {
      "text/plain": [
       "0     45\n",
       "1     12\n",
       "2     54\n",
       "3     26\n",
       "4     68\n",
       "5     21\n",
       "6     10\n",
       "7     57\n",
       "8     75\n",
       "9     32\n",
       "10    23\n",
       "11    34\n",
       "12    55\n",
       "13    23\n",
       "14    56\n",
       "15    67\n",
       "16    26\n",
       "17    56\n",
       "18    67\n",
       "19    26\n",
       "20    68\n",
       "21    56\n",
       "22    67\n",
       "Name: Age, dtype: int64"
      ]
     },
     "execution_count": 80,
     "metadata": {},
     "output_type": "execute_result"
    }
   ],
   "source": [
    "# OR\n",
    "data[\"Age\"]"
   ]
  },
  {
   "cell_type": "markdown",
   "metadata": {},
   "source": [
    "#### Select the column 'Age' and 'BMI'"
   ]
  },
  {
   "cell_type": "code",
   "execution_count": 81,
   "metadata": {},
   "outputs": [
    {
     "data": {
      "text/html": [
       "<div>\n",
       "<style scoped>\n",
       "    .dataframe tbody tr th:only-of-type {\n",
       "        vertical-align: middle;\n",
       "    }\n",
       "\n",
       "    .dataframe tbody tr th {\n",
       "        vertical-align: top;\n",
       "    }\n",
       "\n",
       "    .dataframe thead th {\n",
       "        text-align: right;\n",
       "    }\n",
       "</style>\n",
       "<table border=\"1\" class=\"dataframe\">\n",
       "  <thead>\n",
       "    <tr style=\"text-align: right;\">\n",
       "      <th></th>\n",
       "      <th>Age</th>\n",
       "      <th>BMI</th>\n",
       "    </tr>\n",
       "  </thead>\n",
       "  <tbody>\n",
       "    <tr>\n",
       "      <th>0</th>\n",
       "      <td>45</td>\n",
       "      <td>32.921811</td>\n",
       "    </tr>\n",
       "    <tr>\n",
       "      <th>1</th>\n",
       "      <td>12</td>\n",
       "      <td>29.369579</td>\n",
       "    </tr>\n",
       "    <tr>\n",
       "      <th>2</th>\n",
       "      <td>54</td>\n",
       "      <td>34.666667</td>\n",
       "    </tr>\n",
       "    <tr>\n",
       "      <th>3</th>\n",
       "      <td>26</td>\n",
       "      <td>44.395875</td>\n",
       "    </tr>\n",
       "    <tr>\n",
       "      <th>4</th>\n",
       "      <td>68</td>\n",
       "      <td>28.696051</td>\n",
       "    </tr>\n",
       "    <tr>\n",
       "      <th>5</th>\n",
       "      <td>21</td>\n",
       "      <td>18.611496</td>\n",
       "    </tr>\n",
       "    <tr>\n",
       "      <th>6</th>\n",
       "      <td>10</td>\n",
       "      <td>11.753903</td>\n",
       "    </tr>\n",
       "    <tr>\n",
       "      <th>7</th>\n",
       "      <td>57</td>\n",
       "      <td>13.116778</td>\n",
       "    </tr>\n",
       "    <tr>\n",
       "      <th>8</th>\n",
       "      <td>75</td>\n",
       "      <td>14.958377</td>\n",
       "    </tr>\n",
       "    <tr>\n",
       "      <th>9</th>\n",
       "      <td>32</td>\n",
       "      <td>9.089335</td>\n",
       "    </tr>\n",
       "    <tr>\n",
       "      <th>10</th>\n",
       "      <td>23</td>\n",
       "      <td>23.555556</td>\n",
       "    </tr>\n",
       "    <tr>\n",
       "      <th>11</th>\n",
       "      <td>34</td>\n",
       "      <td>20.983988</td>\n",
       "    </tr>\n",
       "    <tr>\n",
       "      <th>12</th>\n",
       "      <td>55</td>\n",
       "      <td>32.690542</td>\n",
       "    </tr>\n",
       "    <tr>\n",
       "      <th>13</th>\n",
       "      <td>23</td>\n",
       "      <td>14.693878</td>\n",
       "    </tr>\n",
       "    <tr>\n",
       "      <th>14</th>\n",
       "      <td>56</td>\n",
       "      <td>26.609713</td>\n",
       "    </tr>\n",
       "    <tr>\n",
       "      <th>15</th>\n",
       "      <td>67</td>\n",
       "      <td>22.790358</td>\n",
       "    </tr>\n",
       "    <tr>\n",
       "      <th>16</th>\n",
       "      <td>26</td>\n",
       "      <td>44.395875</td>\n",
       "    </tr>\n",
       "    <tr>\n",
       "      <th>17</th>\n",
       "      <td>56</td>\n",
       "      <td>25.909457</td>\n",
       "    </tr>\n",
       "    <tr>\n",
       "      <th>18</th>\n",
       "      <td>67</td>\n",
       "      <td>22.790358</td>\n",
       "    </tr>\n",
       "    <tr>\n",
       "      <th>19</th>\n",
       "      <td>26</td>\n",
       "      <td>44.395875</td>\n",
       "    </tr>\n",
       "    <tr>\n",
       "      <th>20</th>\n",
       "      <td>68</td>\n",
       "      <td>28.696051</td>\n",
       "    </tr>\n",
       "    <tr>\n",
       "      <th>21</th>\n",
       "      <td>56</td>\n",
       "      <td>26.609713</td>\n",
       "    </tr>\n",
       "    <tr>\n",
       "      <th>22</th>\n",
       "      <td>67</td>\n",
       "      <td>22.790358</td>\n",
       "    </tr>\n",
       "  </tbody>\n",
       "</table>\n",
       "</div>"
      ],
      "text/plain": [
       "    Age        BMI\n",
       "0    45  32.921811\n",
       "1    12  29.369579\n",
       "2    54  34.666667\n",
       "3    26  44.395875\n",
       "4    68  28.696051\n",
       "5    21  18.611496\n",
       "6    10  11.753903\n",
       "7    57  13.116778\n",
       "8    75  14.958377\n",
       "9    32   9.089335\n",
       "10   23  23.555556\n",
       "11   34  20.983988\n",
       "12   55  32.690542\n",
       "13   23  14.693878\n",
       "14   56  26.609713\n",
       "15   67  22.790358\n",
       "16   26  44.395875\n",
       "17   56  25.909457\n",
       "18   67  22.790358\n",
       "19   26  44.395875\n",
       "20   68  28.696051\n",
       "21   56  26.609713\n",
       "22   67  22.790358"
      ]
     },
     "execution_count": 81,
     "metadata": {},
     "output_type": "execute_result"
    }
   ],
   "source": [
    "data[[\"Age\",\"BMI\"]]"
   ]
  },
  {
   "cell_type": "markdown",
   "metadata": {},
   "source": [
    "**6. Sort the data frame on the basis of values in a column **"
   ]
  },
  {
   "cell_type": "markdown",
   "metadata": {},
   "source": [
    "Each column of a pandas DataFrame is treated as a pandas Series. The `.sort_values()` in DataFrames works similar to the `pandas.Series`"
   ]
  },
  {
   "cell_type": "code",
   "execution_count": 82,
   "metadata": {},
   "outputs": [
    {
     "data": {
      "text/html": [
       "<div>\n",
       "<style scoped>\n",
       "    .dataframe tbody tr th:only-of-type {\n",
       "        vertical-align: middle;\n",
       "    }\n",
       "\n",
       "    .dataframe tbody tr th {\n",
       "        vertical-align: top;\n",
       "    }\n",
       "\n",
       "    .dataframe thead th {\n",
       "        text-align: right;\n",
       "    }\n",
       "</style>\n",
       "<table border=\"1\" class=\"dataframe\">\n",
       "  <thead>\n",
       "    <tr style=\"text-align: right;\">\n",
       "      <th></th>\n",
       "      <th>Age</th>\n",
       "      <th>Weight (in kg)</th>\n",
       "      <th>Height (in m)</th>\n",
       "      <th>BMI</th>\n",
       "    </tr>\n",
       "  </thead>\n",
       "  <tbody>\n",
       "    <tr>\n",
       "      <th>0</th>\n",
       "      <td>45</td>\n",
       "      <td>60</td>\n",
       "      <td>1.35</td>\n",
       "      <td>32.921811</td>\n",
       "    </tr>\n",
       "    <tr>\n",
       "      <th>1</th>\n",
       "      <td>12</td>\n",
       "      <td>43</td>\n",
       "      <td>1.21</td>\n",
       "      <td>29.369579</td>\n",
       "    </tr>\n",
       "    <tr>\n",
       "      <th>2</th>\n",
       "      <td>54</td>\n",
       "      <td>78</td>\n",
       "      <td>1.50</td>\n",
       "      <td>34.666667</td>\n",
       "    </tr>\n",
       "    <tr>\n",
       "      <th>3</th>\n",
       "      <td>26</td>\n",
       "      <td>65</td>\n",
       "      <td>1.21</td>\n",
       "      <td>44.395875</td>\n",
       "    </tr>\n",
       "    <tr>\n",
       "      <th>4</th>\n",
       "      <td>68</td>\n",
       "      <td>50</td>\n",
       "      <td>1.32</td>\n",
       "      <td>28.696051</td>\n",
       "    </tr>\n",
       "  </tbody>\n",
       "</table>\n",
       "</div>"
      ],
      "text/plain": [
       "   Age  Weight (in kg)  Height (in m)        BMI\n",
       "0   45              60           1.35  32.921811\n",
       "1   12              43           1.21  29.369579\n",
       "2   54              78           1.50  34.666667\n",
       "3   26              65           1.21  44.395875\n",
       "4   68              50           1.32  28.696051"
      ]
     },
     "execution_count": 82,
     "metadata": {},
     "output_type": "execute_result"
    }
   ],
   "source": [
    "# print head() of 'data'\n",
    "data.head()"
   ]
  },
  {
   "cell_type": "code",
   "execution_count": 83,
   "metadata": {},
   "outputs": [
    {
     "data": {
      "text/html": [
       "<div>\n",
       "<style scoped>\n",
       "    .dataframe tbody tr th:only-of-type {\n",
       "        vertical-align: middle;\n",
       "    }\n",
       "\n",
       "    .dataframe tbody tr th {\n",
       "        vertical-align: top;\n",
       "    }\n",
       "\n",
       "    .dataframe thead th {\n",
       "        text-align: right;\n",
       "    }\n",
       "</style>\n",
       "<table border=\"1\" class=\"dataframe\">\n",
       "  <thead>\n",
       "    <tr style=\"text-align: right;\">\n",
       "      <th></th>\n",
       "      <th>Age</th>\n",
       "      <th>Weight (in kg)</th>\n",
       "      <th>Height (in m)</th>\n",
       "      <th>BMI</th>\n",
       "    </tr>\n",
       "  </thead>\n",
       "  <tbody>\n",
       "    <tr>\n",
       "      <th>6</th>\n",
       "      <td>10</td>\n",
       "      <td>32</td>\n",
       "      <td>1.65</td>\n",
       "      <td>11.753903</td>\n",
       "    </tr>\n",
       "    <tr>\n",
       "      <th>1</th>\n",
       "      <td>12</td>\n",
       "      <td>43</td>\n",
       "      <td>1.21</td>\n",
       "      <td>29.369579</td>\n",
       "    </tr>\n",
       "    <tr>\n",
       "      <th>5</th>\n",
       "      <td>21</td>\n",
       "      <td>43</td>\n",
       "      <td>1.52</td>\n",
       "      <td>18.611496</td>\n",
       "    </tr>\n",
       "    <tr>\n",
       "      <th>10</th>\n",
       "      <td>23</td>\n",
       "      <td>53</td>\n",
       "      <td>1.50</td>\n",
       "      <td>23.555556</td>\n",
       "    </tr>\n",
       "    <tr>\n",
       "      <th>13</th>\n",
       "      <td>23</td>\n",
       "      <td>45</td>\n",
       "      <td>1.75</td>\n",
       "      <td>14.693878</td>\n",
       "    </tr>\n",
       "    <tr>\n",
       "      <th>3</th>\n",
       "      <td>26</td>\n",
       "      <td>65</td>\n",
       "      <td>1.21</td>\n",
       "      <td>44.395875</td>\n",
       "    </tr>\n",
       "    <tr>\n",
       "      <th>19</th>\n",
       "      <td>26</td>\n",
       "      <td>65</td>\n",
       "      <td>1.21</td>\n",
       "      <td>44.395875</td>\n",
       "    </tr>\n",
       "    <tr>\n",
       "      <th>16</th>\n",
       "      <td>26</td>\n",
       "      <td>65</td>\n",
       "      <td>1.21</td>\n",
       "      <td>44.395875</td>\n",
       "    </tr>\n",
       "    <tr>\n",
       "      <th>9</th>\n",
       "      <td>32</td>\n",
       "      <td>21</td>\n",
       "      <td>1.52</td>\n",
       "      <td>9.089335</td>\n",
       "    </tr>\n",
       "    <tr>\n",
       "      <th>11</th>\n",
       "      <td>34</td>\n",
       "      <td>65</td>\n",
       "      <td>1.76</td>\n",
       "      <td>20.983988</td>\n",
       "    </tr>\n",
       "    <tr>\n",
       "      <th>0</th>\n",
       "      <td>45</td>\n",
       "      <td>60</td>\n",
       "      <td>1.35</td>\n",
       "      <td>32.921811</td>\n",
       "    </tr>\n",
       "    <tr>\n",
       "      <th>2</th>\n",
       "      <td>54</td>\n",
       "      <td>78</td>\n",
       "      <td>1.50</td>\n",
       "      <td>34.666667</td>\n",
       "    </tr>\n",
       "    <tr>\n",
       "      <th>12</th>\n",
       "      <td>55</td>\n",
       "      <td>89</td>\n",
       "      <td>1.65</td>\n",
       "      <td>32.690542</td>\n",
       "    </tr>\n",
       "    <tr>\n",
       "      <th>17</th>\n",
       "      <td>56</td>\n",
       "      <td>74</td>\n",
       "      <td>1.69</td>\n",
       "      <td>25.909457</td>\n",
       "    </tr>\n",
       "    <tr>\n",
       "      <th>21</th>\n",
       "      <td>56</td>\n",
       "      <td>76</td>\n",
       "      <td>1.69</td>\n",
       "      <td>26.609713</td>\n",
       "    </tr>\n",
       "    <tr>\n",
       "      <th>14</th>\n",
       "      <td>56</td>\n",
       "      <td>76</td>\n",
       "      <td>1.69</td>\n",
       "      <td>26.609713</td>\n",
       "    </tr>\n",
       "    <tr>\n",
       "      <th>7</th>\n",
       "      <td>57</td>\n",
       "      <td>34</td>\n",
       "      <td>1.61</td>\n",
       "      <td>13.116778</td>\n",
       "    </tr>\n",
       "    <tr>\n",
       "      <th>18</th>\n",
       "      <td>67</td>\n",
       "      <td>78</td>\n",
       "      <td>1.85</td>\n",
       "      <td>22.790358</td>\n",
       "    </tr>\n",
       "    <tr>\n",
       "      <th>15</th>\n",
       "      <td>67</td>\n",
       "      <td>78</td>\n",
       "      <td>1.85</td>\n",
       "      <td>22.790358</td>\n",
       "    </tr>\n",
       "    <tr>\n",
       "      <th>22</th>\n",
       "      <td>67</td>\n",
       "      <td>78</td>\n",
       "      <td>1.85</td>\n",
       "      <td>22.790358</td>\n",
       "    </tr>\n",
       "    <tr>\n",
       "      <th>20</th>\n",
       "      <td>68</td>\n",
       "      <td>50</td>\n",
       "      <td>1.32</td>\n",
       "      <td>28.696051</td>\n",
       "    </tr>\n",
       "    <tr>\n",
       "      <th>4</th>\n",
       "      <td>68</td>\n",
       "      <td>50</td>\n",
       "      <td>1.32</td>\n",
       "      <td>28.696051</td>\n",
       "    </tr>\n",
       "    <tr>\n",
       "      <th>8</th>\n",
       "      <td>75</td>\n",
       "      <td>23</td>\n",
       "      <td>1.24</td>\n",
       "      <td>14.958377</td>\n",
       "    </tr>\n",
       "  </tbody>\n",
       "</table>\n",
       "</div>"
      ],
      "text/plain": [
       "    Age  Weight (in kg)  Height (in m)        BMI\n",
       "6    10              32           1.65  11.753903\n",
       "1    12              43           1.21  29.369579\n",
       "5    21              43           1.52  18.611496\n",
       "10   23              53           1.50  23.555556\n",
       "13   23              45           1.75  14.693878\n",
       "3    26              65           1.21  44.395875\n",
       "19   26              65           1.21  44.395875\n",
       "16   26              65           1.21  44.395875\n",
       "9    32              21           1.52   9.089335\n",
       "11   34              65           1.76  20.983988\n",
       "0    45              60           1.35  32.921811\n",
       "2    54              78           1.50  34.666667\n",
       "12   55              89           1.65  32.690542\n",
       "17   56              74           1.69  25.909457\n",
       "21   56              76           1.69  26.609713\n",
       "14   56              76           1.69  26.609713\n",
       "7    57              34           1.61  13.116778\n",
       "18   67              78           1.85  22.790358\n",
       "15   67              78           1.85  22.790358\n",
       "22   67              78           1.85  22.790358\n",
       "20   68              50           1.32  28.696051\n",
       "4    68              50           1.32  28.696051\n",
       "8    75              23           1.24  14.958377"
      ]
     },
     "execution_count": 83,
     "metadata": {},
     "output_type": "execute_result"
    }
   ],
   "source": [
    "# sort the data frame on basis of 'Age' values\n",
    "# by default the values will get sorted in ascending order\n",
    "data.sort_values('Age')\n",
    "\n",
    "#Note: 'ascending = False' will sort the data frame in descending order"
   ]
  },
  {
   "cell_type": "markdown",
   "metadata": {},
   "source": [
    "**7. Rank the dataframe**"
   ]
  },
  {
   "cell_type": "code",
   "execution_count": 84,
   "metadata": {},
   "outputs": [
    {
     "data": {
      "text/html": [
       "<div>\n",
       "<style scoped>\n",
       "    .dataframe tbody tr th:only-of-type {\n",
       "        vertical-align: middle;\n",
       "    }\n",
       "\n",
       "    .dataframe tbody tr th {\n",
       "        vertical-align: top;\n",
       "    }\n",
       "\n",
       "    .dataframe thead th {\n",
       "        text-align: right;\n",
       "    }\n",
       "</style>\n",
       "<table border=\"1\" class=\"dataframe\">\n",
       "  <thead>\n",
       "    <tr style=\"text-align: right;\">\n",
       "      <th></th>\n",
       "      <th>Age</th>\n",
       "      <th>Weight (in kg)</th>\n",
       "      <th>Height (in m)</th>\n",
       "      <th>BMI</th>\n",
       "      <th>BMI_ranked</th>\n",
       "    </tr>\n",
       "  </thead>\n",
       "  <tbody>\n",
       "    <tr>\n",
       "      <th>0</th>\n",
       "      <td>45</td>\n",
       "      <td>60</td>\n",
       "      <td>1.35</td>\n",
       "      <td>32.921811</td>\n",
       "      <td>5.0</td>\n",
       "    </tr>\n",
       "    <tr>\n",
       "      <th>1</th>\n",
       "      <td>12</td>\n",
       "      <td>43</td>\n",
       "      <td>1.21</td>\n",
       "      <td>29.369579</td>\n",
       "      <td>7.0</td>\n",
       "    </tr>\n",
       "    <tr>\n",
       "      <th>2</th>\n",
       "      <td>54</td>\n",
       "      <td>78</td>\n",
       "      <td>1.50</td>\n",
       "      <td>34.666667</td>\n",
       "      <td>4.0</td>\n",
       "    </tr>\n",
       "    <tr>\n",
       "      <th>3</th>\n",
       "      <td>26</td>\n",
       "      <td>65</td>\n",
       "      <td>1.21</td>\n",
       "      <td>44.395875</td>\n",
       "      <td>1.0</td>\n",
       "    </tr>\n",
       "    <tr>\n",
       "      <th>4</th>\n",
       "      <td>68</td>\n",
       "      <td>50</td>\n",
       "      <td>1.32</td>\n",
       "      <td>28.696051</td>\n",
       "      <td>8.0</td>\n",
       "    </tr>\n",
       "    <tr>\n",
       "      <th>5</th>\n",
       "      <td>21</td>\n",
       "      <td>43</td>\n",
       "      <td>1.52</td>\n",
       "      <td>18.611496</td>\n",
       "      <td>18.0</td>\n",
       "    </tr>\n",
       "    <tr>\n",
       "      <th>6</th>\n",
       "      <td>10</td>\n",
       "      <td>32</td>\n",
       "      <td>1.65</td>\n",
       "      <td>11.753903</td>\n",
       "      <td>22.0</td>\n",
       "    </tr>\n",
       "    <tr>\n",
       "      <th>7</th>\n",
       "      <td>57</td>\n",
       "      <td>34</td>\n",
       "      <td>1.61</td>\n",
       "      <td>13.116778</td>\n",
       "      <td>21.0</td>\n",
       "    </tr>\n",
       "    <tr>\n",
       "      <th>8</th>\n",
       "      <td>75</td>\n",
       "      <td>23</td>\n",
       "      <td>1.24</td>\n",
       "      <td>14.958377</td>\n",
       "      <td>19.0</td>\n",
       "    </tr>\n",
       "    <tr>\n",
       "      <th>9</th>\n",
       "      <td>32</td>\n",
       "      <td>21</td>\n",
       "      <td>1.52</td>\n",
       "      <td>9.089335</td>\n",
       "      <td>23.0</td>\n",
       "    </tr>\n",
       "    <tr>\n",
       "      <th>10</th>\n",
       "      <td>23</td>\n",
       "      <td>53</td>\n",
       "      <td>1.50</td>\n",
       "      <td>23.555556</td>\n",
       "      <td>13.0</td>\n",
       "    </tr>\n",
       "    <tr>\n",
       "      <th>11</th>\n",
       "      <td>34</td>\n",
       "      <td>65</td>\n",
       "      <td>1.76</td>\n",
       "      <td>20.983988</td>\n",
       "      <td>17.0</td>\n",
       "    </tr>\n",
       "    <tr>\n",
       "      <th>12</th>\n",
       "      <td>55</td>\n",
       "      <td>89</td>\n",
       "      <td>1.65</td>\n",
       "      <td>32.690542</td>\n",
       "      <td>6.0</td>\n",
       "    </tr>\n",
       "    <tr>\n",
       "      <th>13</th>\n",
       "      <td>23</td>\n",
       "      <td>45</td>\n",
       "      <td>1.75</td>\n",
       "      <td>14.693878</td>\n",
       "      <td>20.0</td>\n",
       "    </tr>\n",
       "    <tr>\n",
       "      <th>14</th>\n",
       "      <td>56</td>\n",
       "      <td>76</td>\n",
       "      <td>1.69</td>\n",
       "      <td>26.609713</td>\n",
       "      <td>10.0</td>\n",
       "    </tr>\n",
       "    <tr>\n",
       "      <th>15</th>\n",
       "      <td>67</td>\n",
       "      <td>78</td>\n",
       "      <td>1.85</td>\n",
       "      <td>22.790358</td>\n",
       "      <td>14.0</td>\n",
       "    </tr>\n",
       "    <tr>\n",
       "      <th>16</th>\n",
       "      <td>26</td>\n",
       "      <td>65</td>\n",
       "      <td>1.21</td>\n",
       "      <td>44.395875</td>\n",
       "      <td>1.0</td>\n",
       "    </tr>\n",
       "    <tr>\n",
       "      <th>17</th>\n",
       "      <td>56</td>\n",
       "      <td>74</td>\n",
       "      <td>1.69</td>\n",
       "      <td>25.909457</td>\n",
       "      <td>12.0</td>\n",
       "    </tr>\n",
       "    <tr>\n",
       "      <th>18</th>\n",
       "      <td>67</td>\n",
       "      <td>78</td>\n",
       "      <td>1.85</td>\n",
       "      <td>22.790358</td>\n",
       "      <td>14.0</td>\n",
       "    </tr>\n",
       "    <tr>\n",
       "      <th>19</th>\n",
       "      <td>26</td>\n",
       "      <td>65</td>\n",
       "      <td>1.21</td>\n",
       "      <td>44.395875</td>\n",
       "      <td>1.0</td>\n",
       "    </tr>\n",
       "    <tr>\n",
       "      <th>20</th>\n",
       "      <td>68</td>\n",
       "      <td>50</td>\n",
       "      <td>1.32</td>\n",
       "      <td>28.696051</td>\n",
       "      <td>8.0</td>\n",
       "    </tr>\n",
       "    <tr>\n",
       "      <th>21</th>\n",
       "      <td>56</td>\n",
       "      <td>76</td>\n",
       "      <td>1.69</td>\n",
       "      <td>26.609713</td>\n",
       "      <td>10.0</td>\n",
       "    </tr>\n",
       "    <tr>\n",
       "      <th>22</th>\n",
       "      <td>67</td>\n",
       "      <td>78</td>\n",
       "      <td>1.85</td>\n",
       "      <td>22.790358</td>\n",
       "      <td>14.0</td>\n",
       "    </tr>\n",
       "  </tbody>\n",
       "</table>\n",
       "</div>"
      ],
      "text/plain": [
       "    Age  Weight (in kg)  Height (in m)        BMI  BMI_ranked\n",
       "0    45              60           1.35  32.921811         5.0\n",
       "1    12              43           1.21  29.369579         7.0\n",
       "2    54              78           1.50  34.666667         4.0\n",
       "3    26              65           1.21  44.395875         1.0\n",
       "4    68              50           1.32  28.696051         8.0\n",
       "5    21              43           1.52  18.611496        18.0\n",
       "6    10              32           1.65  11.753903        22.0\n",
       "7    57              34           1.61  13.116778        21.0\n",
       "8    75              23           1.24  14.958377        19.0\n",
       "9    32              21           1.52   9.089335        23.0\n",
       "10   23              53           1.50  23.555556        13.0\n",
       "11   34              65           1.76  20.983988        17.0\n",
       "12   55              89           1.65  32.690542         6.0\n",
       "13   23              45           1.75  14.693878        20.0\n",
       "14   56              76           1.69  26.609713        10.0\n",
       "15   67              78           1.85  22.790358        14.0\n",
       "16   26              65           1.21  44.395875         1.0\n",
       "17   56              74           1.69  25.909457        12.0\n",
       "18   67              78           1.85  22.790358        14.0\n",
       "19   26              65           1.21  44.395875         1.0\n",
       "20   68              50           1.32  28.696051         8.0\n",
       "21   56              76           1.69  26.609713        10.0\n",
       "22   67              78           1.85  22.790358        14.0"
      ]
     },
     "execution_count": 84,
     "metadata": {},
     "output_type": "execute_result"
    }
   ],
   "source": [
    "\n",
    "# rank the data frame 'data' in descending order based on 'BMI'\n",
    "# 'method = min' assigns the minimum rank to highest equal value of 'BMI' \n",
    "data['BMI_ranked'] = data['BMI'].rank(ascending = 0, method  = 'min')\n",
    "data"
   ]
  },
  {
   "cell_type": "markdown",
   "metadata": {},
   "source": [
    "\n",
    "From the above data frame, we can see that 'BMI = 44.395875' is repeating thrice; thus the method = 'min' will assign the minimum rank (=1) to all the three values of BMI. The rank '4' will be assigned to the second largest value of BMI and so on. Thus, there is no rank equal to 2 and 3."
   ]
  },
  {
   "cell_type": "code",
   "execution_count": 85,
   "metadata": {},
   "outputs": [
    {
     "data": {
      "text/html": [
       "<div>\n",
       "<style scoped>\n",
       "    .dataframe tbody tr th:only-of-type {\n",
       "        vertical-align: middle;\n",
       "    }\n",
       "\n",
       "    .dataframe tbody tr th {\n",
       "        vertical-align: top;\n",
       "    }\n",
       "\n",
       "    .dataframe thead th {\n",
       "        text-align: right;\n",
       "    }\n",
       "</style>\n",
       "<table border=\"1\" class=\"dataframe\">\n",
       "  <thead>\n",
       "    <tr style=\"text-align: right;\">\n",
       "      <th></th>\n",
       "      <th>Age</th>\n",
       "      <th>Weight (in kg)</th>\n",
       "      <th>Height (in m)</th>\n",
       "      <th>BMI</th>\n",
       "      <th>BMI_ranked</th>\n",
       "      <th>BMI_densed_rank</th>\n",
       "    </tr>\n",
       "  </thead>\n",
       "  <tbody>\n",
       "    <tr>\n",
       "      <th>0</th>\n",
       "      <td>45</td>\n",
       "      <td>60</td>\n",
       "      <td>1.35</td>\n",
       "      <td>32.921811</td>\n",
       "      <td>5.0</td>\n",
       "      <td>15.0</td>\n",
       "    </tr>\n",
       "    <tr>\n",
       "      <th>1</th>\n",
       "      <td>12</td>\n",
       "      <td>43</td>\n",
       "      <td>1.21</td>\n",
       "      <td>29.369579</td>\n",
       "      <td>7.0</td>\n",
       "      <td>13.0</td>\n",
       "    </tr>\n",
       "    <tr>\n",
       "      <th>2</th>\n",
       "      <td>54</td>\n",
       "      <td>78</td>\n",
       "      <td>1.50</td>\n",
       "      <td>34.666667</td>\n",
       "      <td>4.0</td>\n",
       "      <td>16.0</td>\n",
       "    </tr>\n",
       "    <tr>\n",
       "      <th>3</th>\n",
       "      <td>26</td>\n",
       "      <td>65</td>\n",
       "      <td>1.21</td>\n",
       "      <td>44.395875</td>\n",
       "      <td>1.0</td>\n",
       "      <td>17.0</td>\n",
       "    </tr>\n",
       "    <tr>\n",
       "      <th>4</th>\n",
       "      <td>68</td>\n",
       "      <td>50</td>\n",
       "      <td>1.32</td>\n",
       "      <td>28.696051</td>\n",
       "      <td>8.0</td>\n",
       "      <td>12.0</td>\n",
       "    </tr>\n",
       "    <tr>\n",
       "      <th>5</th>\n",
       "      <td>21</td>\n",
       "      <td>43</td>\n",
       "      <td>1.52</td>\n",
       "      <td>18.611496</td>\n",
       "      <td>18.0</td>\n",
       "      <td>6.0</td>\n",
       "    </tr>\n",
       "    <tr>\n",
       "      <th>6</th>\n",
       "      <td>10</td>\n",
       "      <td>32</td>\n",
       "      <td>1.65</td>\n",
       "      <td>11.753903</td>\n",
       "      <td>22.0</td>\n",
       "      <td>2.0</td>\n",
       "    </tr>\n",
       "    <tr>\n",
       "      <th>7</th>\n",
       "      <td>57</td>\n",
       "      <td>34</td>\n",
       "      <td>1.61</td>\n",
       "      <td>13.116778</td>\n",
       "      <td>21.0</td>\n",
       "      <td>3.0</td>\n",
       "    </tr>\n",
       "    <tr>\n",
       "      <th>8</th>\n",
       "      <td>75</td>\n",
       "      <td>23</td>\n",
       "      <td>1.24</td>\n",
       "      <td>14.958377</td>\n",
       "      <td>19.0</td>\n",
       "      <td>5.0</td>\n",
       "    </tr>\n",
       "    <tr>\n",
       "      <th>9</th>\n",
       "      <td>32</td>\n",
       "      <td>21</td>\n",
       "      <td>1.52</td>\n",
       "      <td>9.089335</td>\n",
       "      <td>23.0</td>\n",
       "      <td>1.0</td>\n",
       "    </tr>\n",
       "    <tr>\n",
       "      <th>10</th>\n",
       "      <td>23</td>\n",
       "      <td>53</td>\n",
       "      <td>1.50</td>\n",
       "      <td>23.555556</td>\n",
       "      <td>13.0</td>\n",
       "      <td>9.0</td>\n",
       "    </tr>\n",
       "    <tr>\n",
       "      <th>11</th>\n",
       "      <td>34</td>\n",
       "      <td>65</td>\n",
       "      <td>1.76</td>\n",
       "      <td>20.983988</td>\n",
       "      <td>17.0</td>\n",
       "      <td>7.0</td>\n",
       "    </tr>\n",
       "    <tr>\n",
       "      <th>12</th>\n",
       "      <td>55</td>\n",
       "      <td>89</td>\n",
       "      <td>1.65</td>\n",
       "      <td>32.690542</td>\n",
       "      <td>6.0</td>\n",
       "      <td>14.0</td>\n",
       "    </tr>\n",
       "    <tr>\n",
       "      <th>13</th>\n",
       "      <td>23</td>\n",
       "      <td>45</td>\n",
       "      <td>1.75</td>\n",
       "      <td>14.693878</td>\n",
       "      <td>20.0</td>\n",
       "      <td>4.0</td>\n",
       "    </tr>\n",
       "    <tr>\n",
       "      <th>14</th>\n",
       "      <td>56</td>\n",
       "      <td>76</td>\n",
       "      <td>1.69</td>\n",
       "      <td>26.609713</td>\n",
       "      <td>10.0</td>\n",
       "      <td>11.0</td>\n",
       "    </tr>\n",
       "    <tr>\n",
       "      <th>15</th>\n",
       "      <td>67</td>\n",
       "      <td>78</td>\n",
       "      <td>1.85</td>\n",
       "      <td>22.790358</td>\n",
       "      <td>14.0</td>\n",
       "      <td>8.0</td>\n",
       "    </tr>\n",
       "    <tr>\n",
       "      <th>16</th>\n",
       "      <td>26</td>\n",
       "      <td>65</td>\n",
       "      <td>1.21</td>\n",
       "      <td>44.395875</td>\n",
       "      <td>1.0</td>\n",
       "      <td>17.0</td>\n",
       "    </tr>\n",
       "    <tr>\n",
       "      <th>17</th>\n",
       "      <td>56</td>\n",
       "      <td>74</td>\n",
       "      <td>1.69</td>\n",
       "      <td>25.909457</td>\n",
       "      <td>12.0</td>\n",
       "      <td>10.0</td>\n",
       "    </tr>\n",
       "    <tr>\n",
       "      <th>18</th>\n",
       "      <td>67</td>\n",
       "      <td>78</td>\n",
       "      <td>1.85</td>\n",
       "      <td>22.790358</td>\n",
       "      <td>14.0</td>\n",
       "      <td>8.0</td>\n",
       "    </tr>\n",
       "    <tr>\n",
       "      <th>19</th>\n",
       "      <td>26</td>\n",
       "      <td>65</td>\n",
       "      <td>1.21</td>\n",
       "      <td>44.395875</td>\n",
       "      <td>1.0</td>\n",
       "      <td>17.0</td>\n",
       "    </tr>\n",
       "    <tr>\n",
       "      <th>20</th>\n",
       "      <td>68</td>\n",
       "      <td>50</td>\n",
       "      <td>1.32</td>\n",
       "      <td>28.696051</td>\n",
       "      <td>8.0</td>\n",
       "      <td>12.0</td>\n",
       "    </tr>\n",
       "    <tr>\n",
       "      <th>21</th>\n",
       "      <td>56</td>\n",
       "      <td>76</td>\n",
       "      <td>1.69</td>\n",
       "      <td>26.609713</td>\n",
       "      <td>10.0</td>\n",
       "      <td>11.0</td>\n",
       "    </tr>\n",
       "    <tr>\n",
       "      <th>22</th>\n",
       "      <td>67</td>\n",
       "      <td>78</td>\n",
       "      <td>1.85</td>\n",
       "      <td>22.790358</td>\n",
       "      <td>14.0</td>\n",
       "      <td>8.0</td>\n",
       "    </tr>\n",
       "  </tbody>\n",
       "</table>\n",
       "</div>"
      ],
      "text/plain": [
       "    Age  Weight (in kg)  Height (in m)        BMI  BMI_ranked  BMI_densed_rank\n",
       "0    45              60           1.35  32.921811         5.0             15.0\n",
       "1    12              43           1.21  29.369579         7.0             13.0\n",
       "2    54              78           1.50  34.666667         4.0             16.0\n",
       "3    26              65           1.21  44.395875         1.0             17.0\n",
       "4    68              50           1.32  28.696051         8.0             12.0\n",
       "5    21              43           1.52  18.611496        18.0              6.0\n",
       "6    10              32           1.65  11.753903        22.0              2.0\n",
       "7    57              34           1.61  13.116778        21.0              3.0\n",
       "8    75              23           1.24  14.958377        19.0              5.0\n",
       "9    32              21           1.52   9.089335        23.0              1.0\n",
       "10   23              53           1.50  23.555556        13.0              9.0\n",
       "11   34              65           1.76  20.983988        17.0              7.0\n",
       "12   55              89           1.65  32.690542         6.0             14.0\n",
       "13   23              45           1.75  14.693878        20.0              4.0\n",
       "14   56              76           1.69  26.609713        10.0             11.0\n",
       "15   67              78           1.85  22.790358        14.0              8.0\n",
       "16   26              65           1.21  44.395875         1.0             17.0\n",
       "17   56              74           1.69  25.909457        12.0             10.0\n",
       "18   67              78           1.85  22.790358        14.0              8.0\n",
       "19   26              65           1.21  44.395875         1.0             17.0\n",
       "20   68              50           1.32  28.696051         8.0             12.0\n",
       "21   56              76           1.69  26.609713        10.0             11.0\n",
       "22   67              78           1.85  22.790358        14.0              8.0"
      ]
     },
     "execution_count": 85,
     "metadata": {},
     "output_type": "execute_result"
    }
   ],
   "source": [
    "# method = 'dense' assigns same rank to all the same BMI values\n",
    "data['BMI_densed_rank'] = data['BMI'].rank(method = 'dense')\n",
    "data"
   ]
  },
  {
   "cell_type": "markdown",
   "metadata": {},
   "source": [
    "Here, dense method assigns minimum rank (=1) to minimum value (=9.089335) of the BMI. Rank 2 will be assigned to BMI value greater than min=9.089335 and so on. Thus, no rank is skipped in the dense method."
   ]
  },
  {
   "cell_type": "markdown",
   "metadata": {},
   "source": [
    "**8. To check for missing values**"
   ]
  },
  {
   "cell_type": "markdown",
   "metadata": {},
   "source": [
    "We shall import a new dataset."
   ]
  },
  {
   "cell_type": "code",
   "execution_count": 86,
   "metadata": {},
   "outputs": [
    {
     "data": {
      "text/html": [
       "<div>\n",
       "<style scoped>\n",
       "    .dataframe tbody tr th:only-of-type {\n",
       "        vertical-align: middle;\n",
       "    }\n",
       "\n",
       "    .dataframe tbody tr th {\n",
       "        vertical-align: top;\n",
       "    }\n",
       "\n",
       "    .dataframe thead th {\n",
       "        text-align: right;\n",
       "    }\n",
       "</style>\n",
       "<table border=\"1\" class=\"dataframe\">\n",
       "  <thead>\n",
       "    <tr style=\"text-align: right;\">\n",
       "      <th></th>\n",
       "      <th>Age</th>\n",
       "      <th>Weight (in kg)</th>\n",
       "      <th>Height (in m)</th>\n",
       "    </tr>\n",
       "  </thead>\n",
       "  <tbody>\n",
       "    <tr>\n",
       "      <th>0</th>\n",
       "      <td>45.0</td>\n",
       "      <td>60.0</td>\n",
       "      <td>1.35</td>\n",
       "    </tr>\n",
       "    <tr>\n",
       "      <th>1</th>\n",
       "      <td>12.0</td>\n",
       "      <td>43.0</td>\n",
       "      <td>1.21</td>\n",
       "    </tr>\n",
       "    <tr>\n",
       "      <th>2</th>\n",
       "      <td>54.0</td>\n",
       "      <td>78.0</td>\n",
       "      <td>1.50</td>\n",
       "    </tr>\n",
       "    <tr>\n",
       "      <th>3</th>\n",
       "      <td>26.0</td>\n",
       "      <td>65.0</td>\n",
       "      <td>1.21</td>\n",
       "    </tr>\n",
       "    <tr>\n",
       "      <th>4</th>\n",
       "      <td>68.0</td>\n",
       "      <td>50.0</td>\n",
       "      <td>1.32</td>\n",
       "    </tr>\n",
       "    <tr>\n",
       "      <th>5</th>\n",
       "      <td>21.0</td>\n",
       "      <td>NaN</td>\n",
       "      <td>1.52</td>\n",
       "    </tr>\n",
       "    <tr>\n",
       "      <th>6</th>\n",
       "      <td>10.0</td>\n",
       "      <td>32.0</td>\n",
       "      <td>1.65</td>\n",
       "    </tr>\n",
       "    <tr>\n",
       "      <th>7</th>\n",
       "      <td>57.0</td>\n",
       "      <td>34.0</td>\n",
       "      <td>1.61</td>\n",
       "    </tr>\n",
       "    <tr>\n",
       "      <th>8</th>\n",
       "      <td>75.0</td>\n",
       "      <td>23.0</td>\n",
       "      <td>1.24</td>\n",
       "    </tr>\n",
       "    <tr>\n",
       "      <th>9</th>\n",
       "      <td>32.0</td>\n",
       "      <td>21.0</td>\n",
       "      <td>1.52</td>\n",
       "    </tr>\n",
       "    <tr>\n",
       "      <th>10</th>\n",
       "      <td>23.0</td>\n",
       "      <td>NaN</td>\n",
       "      <td>1.50</td>\n",
       "    </tr>\n",
       "    <tr>\n",
       "      <th>11</th>\n",
       "      <td>34.0</td>\n",
       "      <td>65.0</td>\n",
       "      <td>1.76</td>\n",
       "    </tr>\n",
       "    <tr>\n",
       "      <th>12</th>\n",
       "      <td>55.0</td>\n",
       "      <td>89.0</td>\n",
       "      <td>1.65</td>\n",
       "    </tr>\n",
       "    <tr>\n",
       "      <th>13</th>\n",
       "      <td>23.0</td>\n",
       "      <td>45.0</td>\n",
       "      <td>1.75</td>\n",
       "    </tr>\n",
       "    <tr>\n",
       "      <th>14</th>\n",
       "      <td>56.0</td>\n",
       "      <td>76.0</td>\n",
       "      <td>1.69</td>\n",
       "    </tr>\n",
       "    <tr>\n",
       "      <th>15</th>\n",
       "      <td>67.0</td>\n",
       "      <td>78.0</td>\n",
       "      <td>1.85</td>\n",
       "    </tr>\n",
       "    <tr>\n",
       "      <th>16</th>\n",
       "      <td>26.0</td>\n",
       "      <td>65.0</td>\n",
       "      <td>1.21</td>\n",
       "    </tr>\n",
       "    <tr>\n",
       "      <th>17</th>\n",
       "      <td>56.0</td>\n",
       "      <td>74.0</td>\n",
       "      <td>1.69</td>\n",
       "    </tr>\n",
       "    <tr>\n",
       "      <th>18</th>\n",
       "      <td>67.0</td>\n",
       "      <td>78.0</td>\n",
       "      <td>NaN</td>\n",
       "    </tr>\n",
       "    <tr>\n",
       "      <th>19</th>\n",
       "      <td>26.0</td>\n",
       "      <td>65.0</td>\n",
       "      <td>1.21</td>\n",
       "    </tr>\n",
       "    <tr>\n",
       "      <th>20</th>\n",
       "      <td>68.0</td>\n",
       "      <td>50.0</td>\n",
       "      <td>1.32</td>\n",
       "    </tr>\n",
       "    <tr>\n",
       "      <th>21</th>\n",
       "      <td>NaN</td>\n",
       "      <td>76.0</td>\n",
       "      <td>1.69</td>\n",
       "    </tr>\n",
       "    <tr>\n",
       "      <th>22</th>\n",
       "      <td>67.0</td>\n",
       "      <td>78.0</td>\n",
       "      <td>1.85</td>\n",
       "    </tr>\n",
       "  </tbody>\n",
       "</table>\n",
       "</div>"
      ],
      "text/plain": [
       "     Age  Weight (in kg)  Height (in m)\n",
       "0   45.0            60.0           1.35\n",
       "1   12.0            43.0           1.21\n",
       "2   54.0            78.0           1.50\n",
       "3   26.0            65.0           1.21\n",
       "4   68.0            50.0           1.32\n",
       "5   21.0             NaN           1.52\n",
       "6   10.0            32.0           1.65\n",
       "7   57.0            34.0           1.61\n",
       "8   75.0            23.0           1.24\n",
       "9   32.0            21.0           1.52\n",
       "10  23.0             NaN           1.50\n",
       "11  34.0            65.0           1.76\n",
       "12  55.0            89.0           1.65\n",
       "13  23.0            45.0           1.75\n",
       "14  56.0            76.0           1.69\n",
       "15  67.0            78.0           1.85\n",
       "16  26.0            65.0           1.21\n",
       "17  56.0            74.0           1.69\n",
       "18  67.0            78.0            NaN\n",
       "19  26.0            65.0           1.21\n",
       "20  68.0            50.0           1.32\n",
       "21   NaN            76.0           1.69\n",
       "22  67.0            78.0           1.85"
      ]
     },
     "execution_count": 86,
     "metadata": {},
     "output_type": "execute_result"
    }
   ],
   "source": [
    "missing_data = pd.read_csv(\"example_missingdata.csv\")\n",
    "missing_data"
   ]
  },
  {
   "cell_type": "code",
   "execution_count": 87,
   "metadata": {},
   "outputs": [
    {
     "data": {
      "text/plain": [
       "Age               1\n",
       "Weight (in kg)    2\n",
       "Height (in m)     1\n",
       "dtype: int64"
      ]
     },
     "execution_count": 87,
     "metadata": {},
     "output_type": "execute_result"
    }
   ],
   "source": [
    "missing_data.isnull().sum()"
   ]
  },
  {
   "cell_type": "markdown",
   "metadata": {},
   "source": [
    "The function `.isnull` check whether the data is missing. The `sum()` sums the number of 'True' values in the column. The final output gives the number of missing values in each column.\n",
    "\n",
    "Here, we see there are 2 missing values in the 'weight' column and one missing value in other columns."
   ]
  },
  {
   "cell_type": "markdown",
   "metadata": {},
   "source": [
    "<a id=\"reading_data\"> </a>\n",
    "## 5.  Reading Data from Different Sources"
   ]
  },
  {
   "cell_type": "markdown",
   "metadata": {},
   "source": [
    "**1. Read a `.xlsx` file**"
   ]
  },
  {
   "cell_type": "code",
   "execution_count": 91,
   "metadata": {
    "scrolled": true
   },
   "outputs": [
    {
     "data": {
      "text/html": [
       "<div>\n",
       "<style scoped>\n",
       "    .dataframe tbody tr th:only-of-type {\n",
       "        vertical-align: middle;\n",
       "    }\n",
       "\n",
       "    .dataframe tbody tr th {\n",
       "        vertical-align: top;\n",
       "    }\n",
       "\n",
       "    .dataframe thead th {\n",
       "        text-align: right;\n",
       "    }\n",
       "</style>\n",
       "<table border=\"1\" class=\"dataframe\">\n",
       "  <thead>\n",
       "    <tr style=\"text-align: right;\">\n",
       "      <th></th>\n",
       "      <th>Age</th>\n",
       "      <th>Gender</th>\n",
       "      <th>Salary</th>\n",
       "    </tr>\n",
       "  </thead>\n",
       "  <tbody>\n",
       "    <tr>\n",
       "      <th>0</th>\n",
       "      <td>45</td>\n",
       "      <td>Male</td>\n",
       "      <td>40000</td>\n",
       "    </tr>\n",
       "    <tr>\n",
       "      <th>1</th>\n",
       "      <td>12</td>\n",
       "      <td>Male</td>\n",
       "      <td>0</td>\n",
       "    </tr>\n",
       "    <tr>\n",
       "      <th>2</th>\n",
       "      <td>54</td>\n",
       "      <td>Female</td>\n",
       "      <td>150000</td>\n",
       "    </tr>\n",
       "    <tr>\n",
       "      <th>3</th>\n",
       "      <td>26</td>\n",
       "      <td>Male</td>\n",
       "      <td>30000</td>\n",
       "    </tr>\n",
       "    <tr>\n",
       "      <th>4</th>\n",
       "      <td>64</td>\n",
       "      <td>Female</td>\n",
       "      <td>15000</td>\n",
       "    </tr>\n",
       "    <tr>\n",
       "      <th>5</th>\n",
       "      <td>21</td>\n",
       "      <td>Female</td>\n",
       "      <td>25600</td>\n",
       "    </tr>\n",
       "  </tbody>\n",
       "</table>\n",
       "</div>"
      ],
      "text/plain": [
       "   Age  Gender  Salary\n",
       "0   45    Male   40000\n",
       "1   12    Male       0\n",
       "2   54  Female  150000\n",
       "3   26    Male   30000\n",
       "4   64  Female   15000\n",
       "5   21  Female   25600"
      ]
     },
     "execution_count": 91,
     "metadata": {},
     "output_type": "execute_result"
    }
   ],
   "source": [
    "pd.read_excel('example.xlsx')"
   ]
  },
  {
   "cell_type": "markdown",
   "metadata": {},
   "source": [
    "**2. Read a `.zip` file**"
   ]
  },
  {
   "cell_type": "code",
   "execution_count": 93,
   "metadata": {},
   "outputs": [
    {
     "name": "stdout",
     "output_type": "stream",
     "text": [
      "   Age  Weight (in kg)  Height (in m)\n",
      "0   45              60           1.35\n",
      "1   12              43           1.21\n",
      "2   54              78           1.50\n",
      "3   26              65           1.21\n",
      "4   68              50           1.32\n"
     ]
    }
   ],
   "source": [
    "import zipfile\n",
    "with zipfile.ZipFile('data.zip') as z:\n",
    "    with z.open('example.csv') as f:\n",
    "        file = pd.read_csv(f)\n",
    "        print(file.head())"
   ]
  },
  {
   "cell_type": "markdown",
   "metadata": {},
   "source": [
    "**3. Read a `.html` file**"
   ]
  },
  {
   "cell_type": "code",
   "execution_count": 104,
   "metadata": {},
   "outputs": [
    {
     "data": {
      "text/plain": [
       "[   2\n",
       " 1   \n",
       " 3  4]"
      ]
     },
     "execution_count": 104,
     "metadata": {},
     "output_type": "execute_result"
    }
   ],
   "source": [
    "import pandas as pd\n",
    "df = pd.read_html('document.html', header=1, index_col=0)\n",
    "df"
   ]
  },
  {
   "cell_type": "code",
   "execution_count": 100,
   "metadata": {},
   "outputs": [
    {
     "name": "stdout",
     "output_type": "stream",
     "text": [
      "Collecting beautifulsoup4\n",
      "  Downloading beautifulsoup4-4.12.3-py3-none-any.whl.metadata (3.8 kB)\n",
      "Collecting soupsieve>1.2 (from beautifulsoup4)\n",
      "  Downloading soupsieve-2.6-py3-none-any.whl.metadata (4.6 kB)\n",
      "Downloading beautifulsoup4-4.12.3-py3-none-any.whl (147 kB)\n",
      "   ---------------------------------------- 0.0/147.9 kB ? eta -:--:--\n",
      "   ---------------------------------------- 0.0/147.9 kB ? eta -:--:--\n",
      "   ---------------------------------------- 0.0/147.9 kB ? eta -:--:--\n",
      "   -- ------------------------------------- 10.2/147.9 kB ? eta -:--:--\n",
      "   -- ------------------------------------- 10.2/147.9 kB ? eta -:--:--\n",
      "   -- ------------------------------------- 10.2/147.9 kB ? eta -:--:--\n",
      "   -------- ------------------------------ 30.7/147.9 kB 146.3 kB/s eta 0:00:01\n",
      "   ------------- ------------------------- 51.2/147.9 kB 187.9 kB/s eta 0:00:01\n",
      "   ------------------ -------------------- 71.7/147.9 kB 218.6 kB/s eta 0:00:01\n",
      "   ------------------ -------------------- 71.7/147.9 kB 218.6 kB/s eta 0:00:01\n",
      "   ------------------------ -------------- 92.2/147.9 kB 238.8 kB/s eta 0:00:01\n",
      "   -------------------------- ----------- 102.4/147.9 kB 245.8 kB/s eta 0:00:01\n",
      "   ------------------------------- ------ 122.9/147.9 kB 248.7 kB/s eta 0:00:01\n",
      "   ------------------------------------ - 143.4/147.9 kB 258.5 kB/s eta 0:00:01\n",
      "   -------------------------------------- 147.9/147.9 kB 252.2 kB/s eta 0:00:00\n",
      "Downloading soupsieve-2.6-py3-none-any.whl (36 kB)\n",
      "Installing collected packages: soupsieve, beautifulsoup4\n",
      "Successfully installed beautifulsoup4-4.12.3 soupsieve-2.6\n",
      "Note: you may need to restart the kernel to use updated packages.\n"
     ]
    },
    {
     "name": "stderr",
     "output_type": "stream",
     "text": [
      "\n",
      "[notice] A new release of pip is available: 24.0 -> 24.3.1\n",
      "[notice] To update, run: C:\\Users\\1149p\\AppData\\Local\\Microsoft\\WindowsApps\\PythonSoftwareFoundation.Python.3.11_qbz5n2kfra8p0\\python.exe -m pip install --upgrade pip\n"
     ]
    }
   ],
   "source": [
    "pip install beautifulsoup4"
   ]
  },
  {
   "cell_type": "code",
   "execution_count": 96,
   "metadata": {},
   "outputs": [
    {
     "name": "stdout",
     "output_type": "stream",
     "text": [
      "Collecting lxml\n",
      "  Downloading lxml-5.3.0-cp311-cp311-win_amd64.whl.metadata (3.9 kB)\n",
      "Downloading lxml-5.3.0-cp311-cp311-win_amd64.whl (3.8 MB)\n",
      "   ---------------------------------------- 0.0/3.8 MB ? eta -:--:--\n",
      "   ---------------------------------------- 0.0/3.8 MB ? eta -:--:--\n",
      "   ---------------------------------------- 0.0/3.8 MB ? eta -:--:--\n",
      "   ---------------------------------------- 0.0/3.8 MB 640.0 kB/s eta 0:00:06\n",
      "   ---------------------------------------- 0.0/3.8 MB 640.0 kB/s eta 0:00:06\n",
      "   ---------------------------------------- 0.0/3.8 MB 279.3 kB/s eta 0:00:14\n",
      "   ---------------------------------------- 0.0/3.8 MB 279.3 kB/s eta 0:00:14\n",
      "   ---------------------------------------- 0.0/3.8 MB 279.3 kB/s eta 0:00:14\n",
      "    --------------------------------------- 0.1/3.8 MB 348.6 kB/s eta 0:00:11\n",
      "   - -------------------------------------- 0.1/3.8 MB 327.2 kB/s eta 0:00:12\n",
      "   - -------------------------------------- 0.1/3.8 MB 327.2 kB/s eta 0:00:12\n",
      "   - -------------------------------------- 0.1/3.8 MB 327.1 kB/s eta 0:00:12\n",
      "   - -------------------------------------- 0.1/3.8 MB 327.1 kB/s eta 0:00:12\n",
      "   - -------------------------------------- 0.2/3.8 MB 295.6 kB/s eta 0:00:13\n",
      "   - -------------------------------------- 0.2/3.8 MB 295.6 kB/s eta 0:00:13\n",
      "   - -------------------------------------- 0.2/3.8 MB 295.6 kB/s eta 0:00:13\n",
      "   - -------------------------------------- 0.2/3.8 MB 295.6 kB/s eta 0:00:13\n",
      "   - -------------------------------------- 0.2/3.8 MB 243.8 kB/s eta 0:00:15\n",
      "   - -------------------------------------- 0.2/3.8 MB 243.8 kB/s eta 0:00:15\n",
      "   - -------------------------------------- 0.2/3.8 MB 243.8 kB/s eta 0:00:15\n",
      "   - -------------------------------------- 0.2/3.8 MB 243.8 kB/s eta 0:00:15\n",
      "   -- ------------------------------------- 0.2/3.8 MB 214.3 kB/s eta 0:00:17\n",
      "   -- ------------------------------------- 0.2/3.8 MB 214.3 kB/s eta 0:00:17\n",
      "   -- ------------------------------------- 0.2/3.8 MB 214.3 kB/s eta 0:00:17\n",
      "   -- ------------------------------------- 0.2/3.8 MB 214.3 kB/s eta 0:00:17\n",
      "   -- ------------------------------------- 0.2/3.8 MB 185.8 kB/s eta 0:00:20\n",
      "   -- ------------------------------------- 0.2/3.8 MB 185.8 kB/s eta 0:00:20\n",
      "   -- ------------------------------------- 0.2/3.8 MB 185.8 kB/s eta 0:00:20\n",
      "   -- ------------------------------------- 0.2/3.8 MB 185.8 kB/s eta 0:00:20\n",
      "   -- ------------------------------------- 0.2/3.8 MB 169.9 kB/s eta 0:00:22\n",
      "   -- ------------------------------------- 0.2/3.8 MB 169.9 kB/s eta 0:00:22\n",
      "   -- ------------------------------------- 0.2/3.8 MB 169.9 kB/s eta 0:00:22\n",
      "   -- ------------------------------------- 0.2/3.8 MB 169.9 kB/s eta 0:00:22\n",
      "   -- ------------------------------------- 0.2/3.8 MB 169.9 kB/s eta 0:00:22\n",
      "   -- ------------------------------------- 0.2/3.8 MB 151.7 kB/s eta 0:00:24\n",
      "   -- ------------------------------------- 0.2/3.8 MB 151.7 kB/s eta 0:00:24\n",
      "   -- ------------------------------------- 0.2/3.8 MB 151.7 kB/s eta 0:00:24\n",
      "   -- ------------------------------------- 0.2/3.8 MB 151.7 kB/s eta 0:00:24\n",
      "   -- ------------------------------------- 0.3/3.8 MB 147.0 kB/s eta 0:00:25\n",
      "   -- ------------------------------------- 0.3/3.8 MB 147.0 kB/s eta 0:00:25\n",
      "   -- ------------------------------------- 0.3/3.8 MB 147.0 kB/s eta 0:00:25\n",
      "   -- ------------------------------------- 0.3/3.8 MB 147.0 kB/s eta 0:00:25\n",
      "   -- ------------------------------------- 0.3/3.8 MB 142.0 kB/s eta 0:00:25\n",
      "   -- ------------------------------------- 0.3/3.8 MB 142.0 kB/s eta 0:00:25\n",
      "   -- ------------------------------------- 0.3/3.8 MB 142.0 kB/s eta 0:00:25\n",
      "   -- ------------------------------------- 0.3/3.8 MB 142.0 kB/s eta 0:00:25\n",
      "   --- ------------------------------------ 0.3/3.8 MB 132.0 kB/s eta 0:00:27\n",
      "   --- ------------------------------------ 0.3/3.8 MB 132.0 kB/s eta 0:00:27\n",
      "   --- ------------------------------------ 0.3/3.8 MB 132.0 kB/s eta 0:00:27\n",
      "   --- ------------------------------------ 0.3/3.8 MB 132.0 kB/s eta 0:00:27\n",
      "   --- ------------------------------------ 0.3/3.8 MB 132.0 kB/s eta 0:00:27\n",
      "   --- ------------------------------------ 0.3/3.8 MB 128.4 kB/s eta 0:00:28\n",
      "   --- ------------------------------------ 0.3/3.8 MB 128.4 kB/s eta 0:00:28\n",
      "   --- ------------------------------------ 0.3/3.8 MB 126.8 kB/s eta 0:00:28\n",
      "   --- ------------------------------------ 0.3/3.8 MB 126.8 kB/s eta 0:00:28\n",
      "   --- ------------------------------------ 0.3/3.8 MB 126.8 kB/s eta 0:00:28\n",
      "   --- ------------------------------------ 0.3/3.8 MB 126.8 kB/s eta 0:00:28\n",
      "   --- ------------------------------------ 0.3/3.8 MB 125.5 kB/s eta 0:00:28\n",
      "   --- ------------------------------------ 0.3/3.8 MB 125.5 kB/s eta 0:00:28\n",
      "   --- ------------------------------------ 0.3/3.8 MB 125.5 kB/s eta 0:00:28\n",
      "   --- ------------------------------------ 0.3/3.8 MB 125.5 kB/s eta 0:00:28\n",
      "   --- ------------------------------------ 0.3/3.8 MB 125.5 kB/s eta 0:00:28\n",
      "   --- ------------------------------------ 0.4/3.8 MB 123.1 kB/s eta 0:00:29\n",
      "   --- ------------------------------------ 0.4/3.8 MB 123.1 kB/s eta 0:00:29\n",
      "   --- ------------------------------------ 0.4/3.8 MB 123.1 kB/s eta 0:00:29\n",
      "   --- ------------------------------------ 0.4/3.8 MB 120.1 kB/s eta 0:00:29\n",
      "   --- ------------------------------------ 0.4/3.8 MB 120.1 kB/s eta 0:00:29\n",
      "   --- ------------------------------------ 0.4/3.8 MB 120.1 kB/s eta 0:00:29\n",
      "   --- ------------------------------------ 0.4/3.8 MB 120.1 kB/s eta 0:00:29\n",
      "   ---- ----------------------------------- 0.4/3.8 MB 117.7 kB/s eta 0:00:30\n",
      "   ---- ----------------------------------- 0.4/3.8 MB 117.7 kB/s eta 0:00:30\n",
      "   ---- ----------------------------------- 0.4/3.8 MB 117.7 kB/s eta 0:00:30\n",
      "   ---- ----------------------------------- 0.4/3.8 MB 117.7 kB/s eta 0:00:30\n",
      "   ---- ----------------------------------- 0.4/3.8 MB 117.7 kB/s eta 0:00:30\n",
      "   ---- ----------------------------------- 0.4/3.8 MB 117.7 kB/s eta 0:00:30\n",
      "   ---- ----------------------------------- 0.4/3.8 MB 111.7 kB/s eta 0:00:31\n",
      "   ---- ----------------------------------- 0.4/3.8 MB 111.7 kB/s eta 0:00:31\n",
      "   ---- ----------------------------------- 0.4/3.8 MB 111.7 kB/s eta 0:00:31\n",
      "   ---- ----------------------------------- 0.4/3.8 MB 111.7 kB/s eta 0:00:31\n",
      "   ---- ----------------------------------- 0.4/3.8 MB 111.7 kB/s eta 0:00:31\n",
      "   ---- ----------------------------------- 0.4/3.8 MB 111.7 kB/s eta 0:00:31\n",
      "   ---- ----------------------------------- 0.4/3.8 MB 111.7 kB/s eta 0:00:31\n",
      "   ---- ----------------------------------- 0.4/3.8 MB 111.7 kB/s eta 0:00:31\n",
      "   ---- ----------------------------------- 0.4/3.8 MB 104.8 kB/s eta 0:00:33\n",
      "   ---- ----------------------------------- 0.4/3.8 MB 104.8 kB/s eta 0:00:33\n",
      "   ---- ----------------------------------- 0.4/3.8 MB 104.8 kB/s eta 0:00:33\n",
      "   ---- ----------------------------------- 0.4/3.8 MB 104.8 kB/s eta 0:00:33\n",
      "   ---- ----------------------------------- 0.4/3.8 MB 105.1 kB/s eta 0:00:33\n",
      "   ---- ----------------------------------- 0.4/3.8 MB 105.1 kB/s eta 0:00:33\n",
      "   ---- ----------------------------------- 0.4/3.8 MB 105.1 kB/s eta 0:00:33\n",
      "   ---- ----------------------------------- 0.4/3.8 MB 105.1 kB/s eta 0:00:33\n",
      "   ---- ----------------------------------- 0.4/3.8 MB 105.1 kB/s eta 0:00:33\n",
      "   ---- ----------------------------------- 0.5/3.8 MB 102.1 kB/s eta 0:00:33\n",
      "   ---- ----------------------------------- 0.5/3.8 MB 102.1 kB/s eta 0:00:33\n",
      "   ---- ----------------------------------- 0.5/3.8 MB 102.1 kB/s eta 0:00:33\n",
      "   ---- ----------------------------------- 0.5/3.8 MB 102.7 kB/s eta 0:00:33\n",
      "   ---- ----------------------------------- 0.5/3.8 MB 102.7 kB/s eta 0:00:33\n",
      "   ---- ----------------------------------- 0.5/3.8 MB 102.7 kB/s eta 0:00:33\n",
      "   ----- ---------------------------------- 0.5/3.8 MB 102.2 kB/s eta 0:00:33\n",
      "   ----- ---------------------------------- 0.5/3.8 MB 102.2 kB/s eta 0:00:33\n",
      "   ----- ---------------------------------- 0.5/3.8 MB 104.5 kB/s eta 0:00:32\n",
      "   ----- ---------------------------------- 0.5/3.8 MB 104.5 kB/s eta 0:00:32\n",
      "   ----- ---------------------------------- 0.5/3.8 MB 106.4 kB/s eta 0:00:31\n",
      "   ----- ---------------------------------- 0.5/3.8 MB 106.4 kB/s eta 0:00:31\n",
      "   ----- ---------------------------------- 0.5/3.8 MB 106.4 kB/s eta 0:00:31\n",
      "   ----- ---------------------------------- 0.5/3.8 MB 106.4 kB/s eta 0:00:31\n",
      "   ----- ---------------------------------- 0.6/3.8 MB 108.2 kB/s eta 0:00:31\n",
      "   ----- ---------------------------------- 0.6/3.8 MB 108.2 kB/s eta 0:00:31\n",
      "   ----- ---------------------------------- 0.6/3.8 MB 108.2 kB/s eta 0:00:31\n",
      "   ----- ---------------------------------- 0.6/3.8 MB 108.2 kB/s eta 0:00:31\n",
      "   ----- ---------------------------------- 0.6/3.8 MB 108.2 kB/s eta 0:00:31\n",
      "   ----- ---------------------------------- 0.6/3.8 MB 108.2 kB/s eta 0:00:31\n",
      "   ------ --------------------------------- 0.6/3.8 MB 107.6 kB/s eta 0:00:31\n",
      "   ------ --------------------------------- 0.6/3.8 MB 110.5 kB/s eta 0:00:30\n",
      "   ------ --------------------------------- 0.6/3.8 MB 110.5 kB/s eta 0:00:30\n",
      "   ------ --------------------------------- 0.6/3.8 MB 110.5 kB/s eta 0:00:30\n",
      "   ------ --------------------------------- 0.6/3.8 MB 110.5 kB/s eta 0:00:30\n",
      "   ------ --------------------------------- 0.6/3.8 MB 110.5 kB/s eta 0:00:30\n",
      "   ------ --------------------------------- 0.6/3.8 MB 107.7 kB/s eta 0:00:30\n",
      "   ------ --------------------------------- 0.6/3.8 MB 107.7 kB/s eta 0:00:30\n",
      "   ------ --------------------------------- 0.6/3.8 MB 107.7 kB/s eta 0:00:30\n",
      "   ------ --------------------------------- 0.6/3.8 MB 107.7 kB/s eta 0:00:30\n",
      "   ------ --------------------------------- 0.6/3.8 MB 107.7 kB/s eta 0:00:30\n",
      "   ------ --------------------------------- 0.6/3.8 MB 106.6 kB/s eta 0:00:30\n",
      "   ------ --------------------------------- 0.6/3.8 MB 106.6 kB/s eta 0:00:30\n",
      "   ------ --------------------------------- 0.6/3.8 MB 106.6 kB/s eta 0:00:30\n",
      "   ------ --------------------------------- 0.6/3.8 MB 106.6 kB/s eta 0:00:30\n",
      "   ------ --------------------------------- 0.6/3.8 MB 106.6 kB/s eta 0:00:30\n",
      "   ------ --------------------------------- 0.6/3.8 MB 104.5 kB/s eta 0:00:31\n",
      "   ------ --------------------------------- 0.6/3.8 MB 104.5 kB/s eta 0:00:31\n",
      "   ------ --------------------------------- 0.6/3.8 MB 104.5 kB/s eta 0:00:31\n",
      "   ------ --------------------------------- 0.6/3.8 MB 104.5 kB/s eta 0:00:31\n",
      "   ------ --------------------------------- 0.6/3.8 MB 104.5 kB/s eta 0:00:31\n",
      "   ------ --------------------------------- 0.6/3.8 MB 104.5 kB/s eta 0:00:31\n",
      "   ------ --------------------------------- 0.6/3.8 MB 104.5 kB/s eta 0:00:31\n",
      "   ------ --------------------------------- 0.7/3.8 MB 101.8 kB/s eta 0:00:31\n",
      "   ------ --------------------------------- 0.7/3.8 MB 101.8 kB/s eta 0:00:31\n",
      "   ------ --------------------------------- 0.7/3.8 MB 101.8 kB/s eta 0:00:31\n",
      "   ------ --------------------------------- 0.7/3.8 MB 101.8 kB/s eta 0:00:31\n",
      "   ------ --------------------------------- 0.7/3.8 MB 101.8 kB/s eta 0:00:31\n",
      "   ------ --------------------------------- 0.7/3.8 MB 101.8 kB/s eta 0:00:31\n",
      "   ------ --------------------------------- 0.7/3.8 MB 101.8 kB/s eta 0:00:31\n",
      "   ------- -------------------------------- 0.7/3.8 MB 100.1 kB/s eta 0:00:32\n",
      "   ------- -------------------------------- 0.7/3.8 MB 100.1 kB/s eta 0:00:32\n",
      "   ------- -------------------------------- 0.7/3.8 MB 100.1 kB/s eta 0:00:32\n",
      "   ------- -------------------------------- 0.7/3.8 MB 100.1 kB/s eta 0:00:32\n",
      "   ------- -------------------------------- 0.7/3.8 MB 98.9 kB/s eta 0:00:32\n",
      "   ------- -------------------------------- 0.7/3.8 MB 98.9 kB/s eta 0:00:32\n",
      "   ------- -------------------------------- 0.7/3.8 MB 98.9 kB/s eta 0:00:32\n",
      "   ------- -------------------------------- 0.7/3.8 MB 99.6 kB/s eta 0:00:32\n",
      "   ------- -------------------------------- 0.7/3.8 MB 99.6 kB/s eta 0:00:32\n",
      "   ------- -------------------------------- 0.7/3.8 MB 99.9 kB/s eta 0:00:31\n",
      "   ------- -------------------------------- 0.7/3.8 MB 99.9 kB/s eta 0:00:31\n",
      "   ------- -------------------------------- 0.7/3.8 MB 99.9 kB/s eta 0:00:31\n",
      "   ------- -------------------------------- 0.7/3.8 MB 101.0 kB/s eta 0:00:31\n",
      "   ------- -------------------------------- 0.7/3.8 MB 101.0 kB/s eta 0:00:31\n",
      "   -------- ------------------------------- 0.8/3.8 MB 102.5 kB/s eta 0:00:30\n",
      "   -------- ------------------------------- 0.8/3.8 MB 103.0 kB/s eta 0:00:30\n",
      "   -------- ------------------------------- 0.8/3.8 MB 103.0 kB/s eta 0:00:30\n",
      "   -------- ------------------------------- 0.8/3.8 MB 104.9 kB/s eta 0:00:29\n",
      "   -------- ------------------------------- 0.8/3.8 MB 105.2 kB/s eta 0:00:29\n",
      "   -------- ------------------------------- 0.8/3.8 MB 105.2 kB/s eta 0:00:29\n",
      "   -------- ------------------------------- 0.8/3.8 MB 106.6 kB/s eta 0:00:29\n",
      "   -------- ------------------------------- 0.8/3.8 MB 106.6 kB/s eta 0:00:29\n",
      "   -------- ------------------------------- 0.8/3.8 MB 108.3 kB/s eta 0:00:28\n",
      "   -------- ------------------------------- 0.8/3.8 MB 108.3 kB/s eta 0:00:28\n",
      "   --------- ------------------------------ 0.9/3.8 MB 107.9 kB/s eta 0:00:28\n",
      "   --------- ------------------------------ 0.9/3.8 MB 107.9 kB/s eta 0:00:28\n",
      "   --------- ------------------------------ 0.9/3.8 MB 107.9 kB/s eta 0:00:28\n",
      "   --------- ------------------------------ 0.9/3.8 MB 109.0 kB/s eta 0:00:27\n",
      "   --------- ------------------------------ 0.9/3.8 MB 109.0 kB/s eta 0:00:27\n",
      "   --------- ------------------------------ 0.9/3.8 MB 109.0 kB/s eta 0:00:27\n",
      "   --------- ------------------------------ 0.9/3.8 MB 109.0 kB/s eta 0:00:27\n",
      "   --------- ------------------------------ 0.9/3.8 MB 106.9 kB/s eta 0:00:28\n",
      "   --------- ------------------------------ 0.9/3.8 MB 106.9 kB/s eta 0:00:28\n",
      "   --------- ------------------------------ 0.9/3.8 MB 106.9 kB/s eta 0:00:28\n",
      "   --------- ------------------------------ 0.9/3.8 MB 106.9 kB/s eta 0:00:28\n",
      "   --------- ------------------------------ 0.9/3.8 MB 106.9 kB/s eta 0:00:28\n",
      "   --------- ------------------------------ 0.9/3.8 MB 106.8 kB/s eta 0:00:28\n",
      "   --------- ------------------------------ 0.9/3.8 MB 106.8 kB/s eta 0:00:28\n",
      "   --------- ------------------------------ 0.9/3.8 MB 106.8 kB/s eta 0:00:28\n",
      "   --------- ------------------------------ 0.9/3.8 MB 106.8 kB/s eta 0:00:28\n",
      "   --------- ------------------------------ 0.9/3.8 MB 106.5 kB/s eta 0:00:28\n",
      "   --------- ------------------------------ 0.9/3.8 MB 106.5 kB/s eta 0:00:28\n",
      "   --------- ------------------------------ 0.9/3.8 MB 106.5 kB/s eta 0:00:28\n",
      "   --------- ------------------------------ 0.9/3.8 MB 105.9 kB/s eta 0:00:28\n",
      "   --------- ------------------------------ 0.9/3.8 MB 105.9 kB/s eta 0:00:28\n",
      "   ---------- ----------------------------- 1.0/3.8 MB 107.1 kB/s eta 0:00:27\n",
      "   ---------- ----------------------------- 1.0/3.8 MB 107.1 kB/s eta 0:00:27\n",
      "   ---------- ----------------------------- 1.0/3.8 MB 107.1 kB/s eta 0:00:27\n",
      "   ---------- ----------------------------- 1.0/3.8 MB 106.6 kB/s eta 0:00:27\n",
      "   ---------- ----------------------------- 1.0/3.8 MB 106.6 kB/s eta 0:00:27\n",
      "   ---------- ----------------------------- 1.0/3.8 MB 106.6 kB/s eta 0:00:27\n",
      "   ---------- ----------------------------- 1.0/3.8 MB 106.6 kB/s eta 0:00:27\n",
      "   ---------- ----------------------------- 1.0/3.8 MB 106.6 kB/s eta 0:00:27\n",
      "   ---------- ----------------------------- 1.0/3.8 MB 106.6 kB/s eta 0:00:27\n",
      "   ---------- ----------------------------- 1.0/3.8 MB 106.6 kB/s eta 0:00:27\n",
      "   ---------- ----------------------------- 1.0/3.8 MB 106.6 kB/s eta 0:00:27\n",
      "   ---------- ----------------------------- 1.0/3.8 MB 106.3 kB/s eta 0:00:27\n",
      "   ---------- ----------------------------- 1.0/3.8 MB 106.3 kB/s eta 0:00:27\n",
      "   ---------- ----------------------------- 1.0/3.8 MB 106.3 kB/s eta 0:00:27\n",
      "   ---------- ----------------------------- 1.0/3.8 MB 106.3 kB/s eta 0:00:27\n",
      "   ---------- ----------------------------- 1.0/3.8 MB 105.2 kB/s eta 0:00:27\n",
      "   ---------- ----------------------------- 1.0/3.8 MB 105.2 kB/s eta 0:00:27\n",
      "   ---------- ----------------------------- 1.0/3.8 MB 105.2 kB/s eta 0:00:27\n",
      "   ---------- ----------------------------- 1.0/3.8 MB 106.1 kB/s eta 0:00:27\n",
      "   ---------- ----------------------------- 1.0/3.8 MB 106.1 kB/s eta 0:00:27\n",
      "   ----------- ---------------------------- 1.1/3.8 MB 105.6 kB/s eta 0:00:27\n",
      "   ----------- ---------------------------- 1.1/3.8 MB 105.6 kB/s eta 0:00:27\n",
      "   ----------- ---------------------------- 1.1/3.8 MB 106.7 kB/s eta 0:00:26\n",
      "   ----------- ---------------------------- 1.1/3.8 MB 106.7 kB/s eta 0:00:26\n",
      "   ----------- ---------------------------- 1.1/3.8 MB 106.7 kB/s eta 0:00:26\n",
      "   ----------- ---------------------------- 1.1/3.8 MB 107.4 kB/s eta 0:00:26\n",
      "   ----------- ---------------------------- 1.1/3.8 MB 107.5 kB/s eta 0:00:26\n",
      "   ----------- ---------------------------- 1.1/3.8 MB 107.5 kB/s eta 0:00:26\n",
      "   ----------- ---------------------------- 1.1/3.8 MB 107.5 kB/s eta 0:00:26\n",
      "   ----------- ---------------------------- 1.1/3.8 MB 107.5 kB/s eta 0:00:26\n",
      "   ----------- ---------------------------- 1.1/3.8 MB 107.6 kB/s eta 0:00:25\n",
      "   ----------- ---------------------------- 1.1/3.8 MB 107.6 kB/s eta 0:00:25\n",
      "   ----------- ---------------------------- 1.1/3.8 MB 107.6 kB/s eta 0:00:25\n",
      "   ----------- ---------------------------- 1.1/3.8 MB 107.6 kB/s eta 0:00:25\n",
      "   ----------- ---------------------------- 1.1/3.8 MB 106.6 kB/s eta 0:00:26\n",
      "   ----------- ---------------------------- 1.1/3.8 MB 106.6 kB/s eta 0:00:26\n",
      "   ----------- ---------------------------- 1.1/3.8 MB 106.6 kB/s eta 0:00:26\n",
      "   ----------- ---------------------------- 1.1/3.8 MB 106.6 kB/s eta 0:00:26\n",
      "   ------------ --------------------------- 1.2/3.8 MB 106.8 kB/s eta 0:00:25\n",
      "   ------------ --------------------------- 1.2/3.8 MB 106.8 kB/s eta 0:00:25\n",
      "   ------------ --------------------------- 1.2/3.8 MB 106.8 kB/s eta 0:00:25\n",
      "   ------------ --------------------------- 1.2/3.8 MB 107.2 kB/s eta 0:00:25\n",
      "   ------------ --------------------------- 1.2/3.8 MB 107.2 kB/s eta 0:00:25\n",
      "   ------------ --------------------------- 1.2/3.8 MB 107.2 kB/s eta 0:00:25\n",
      "   ------------ --------------------------- 1.2/3.8 MB 106.7 kB/s eta 0:00:25\n",
      "   ------------ --------------------------- 1.2/3.8 MB 106.7 kB/s eta 0:00:25\n",
      "   ------------ --------------------------- 1.2/3.8 MB 107.7 kB/s eta 0:00:25\n",
      "   ------------ --------------------------- 1.2/3.8 MB 107.7 kB/s eta 0:00:25\n",
      "   ------------ --------------------------- 1.2/3.8 MB 107.7 kB/s eta 0:00:25\n",
      "   ------------ --------------------------- 1.2/3.8 MB 108.6 kB/s eta 0:00:24\n",
      "   ------------ --------------------------- 1.2/3.8 MB 108.6 kB/s eta 0:00:24\n",
      "   ------------- -------------------------- 1.3/3.8 MB 109.8 kB/s eta 0:00:24\n",
      "   ------------- -------------------------- 1.3/3.8 MB 110.0 kB/s eta 0:00:24\n",
      "   ------------- -------------------------- 1.3/3.8 MB 110.0 kB/s eta 0:00:24\n",
      "   ------------- -------------------------- 1.3/3.8 MB 111.0 kB/s eta 0:00:23\n",
      "   ------------- -------------------------- 1.3/3.8 MB 111.0 kB/s eta 0:00:23\n",
      "   ------------- -------------------------- 1.3/3.8 MB 110.7 kB/s eta 0:00:23\n",
      "   ------------- -------------------------- 1.3/3.8 MB 110.7 kB/s eta 0:00:23\n",
      "   ------------- -------------------------- 1.3/3.8 MB 111.5 kB/s eta 0:00:23\n",
      "   ------------- -------------------------- 1.3/3.8 MB 111.5 kB/s eta 0:00:23\n",
      "   ------------- -------------------------- 1.3/3.8 MB 111.5 kB/s eta 0:00:23\n",
      "   -------------- ------------------------- 1.3/3.8 MB 112.1 kB/s eta 0:00:23\n",
      "   -------------- ------------------------- 1.3/3.8 MB 112.1 kB/s eta 0:00:23\n",
      "   -------------- ------------------------- 1.4/3.8 MB 111.9 kB/s eta 0:00:23\n",
      "   -------------- ------------------------- 1.4/3.8 MB 111.9 kB/s eta 0:00:23\n",
      "   -------------- ------------------------- 1.4/3.8 MB 111.9 kB/s eta 0:00:23\n",
      "   -------------- ------------------------- 1.4/3.8 MB 112.3 kB/s eta 0:00:22\n",
      "   -------------- ------------------------- 1.4/3.8 MB 112.4 kB/s eta 0:00:22\n",
      "   -------------- ------------------------- 1.4/3.8 MB 112.4 kB/s eta 0:00:22\n",
      "   -------------- ------------------------- 1.4/3.8 MB 112.4 kB/s eta 0:00:22\n",
      "   -------------- ------------------------- 1.4/3.8 MB 112.4 kB/s eta 0:00:22\n",
      "   -------------- ------------------------- 1.4/3.8 MB 112.4 kB/s eta 0:00:22\n",
      "   -------------- ------------------------- 1.4/3.8 MB 112.4 kB/s eta 0:00:22\n",
      "   -------------- ------------------------- 1.4/3.8 MB 112.4 kB/s eta 0:00:22\n",
      "   -------------- ------------------------- 1.4/3.8 MB 112.8 kB/s eta 0:00:22\n",
      "   -------------- ------------------------- 1.4/3.8 MB 112.8 kB/s eta 0:00:22\n",
      "   -------------- ------------------------- 1.4/3.8 MB 112.8 kB/s eta 0:00:22\n",
      "   --------------- ------------------------ 1.4/3.8 MB 112.6 kB/s eta 0:00:22\n",
      "   --------------- ------------------------ 1.5/3.8 MB 113.4 kB/s eta 0:00:21\n",
      "   --------------- ------------------------ 1.5/3.8 MB 113.4 kB/s eta 0:00:21\n",
      "   --------------- ------------------------ 1.5/3.8 MB 113.5 kB/s eta 0:00:21\n",
      "   --------------- ------------------------ 1.5/3.8 MB 113.5 kB/s eta 0:00:21\n",
      "   --------------- ------------------------ 1.5/3.8 MB 114.2 kB/s eta 0:00:21\n",
      "   --------------- ------------------------ 1.5/3.8 MB 115.1 kB/s eta 0:00:21\n",
      "   --------------- ------------------------ 1.5/3.8 MB 115.1 kB/s eta 0:00:21\n",
      "   --------------- ------------------------ 1.5/3.8 MB 115.1 kB/s eta 0:00:21\n",
      "   --------------- ------------------------ 1.5/3.8 MB 114.8 kB/s eta 0:00:21\n",
      "   --------------- ------------------------ 1.5/3.8 MB 114.8 kB/s eta 0:00:21\n",
      "   ---------------- ----------------------- 1.5/3.8 MB 115.6 kB/s eta 0:00:20\n",
      "   ---------------- ----------------------- 1.5/3.8 MB 115.6 kB/s eta 0:00:20\n",
      "   ---------------- ----------------------- 1.5/3.8 MB 115.6 kB/s eta 0:00:20\n",
      "   ---------------- ----------------------- 1.5/3.8 MB 115.1 kB/s eta 0:00:20\n",
      "   ---------------- ----------------------- 1.5/3.8 MB 115.1 kB/s eta 0:00:20\n",
      "   ---------------- ----------------------- 1.5/3.8 MB 115.1 kB/s eta 0:00:20\n",
      "   ---------------- ----------------------- 1.5/3.8 MB 115.1 kB/s eta 0:00:20\n",
      "   ---------------- ----------------------- 1.5/3.8 MB 115.1 kB/s eta 0:00:20\n",
      "   ---------------- ----------------------- 1.5/3.8 MB 115.1 kB/s eta 0:00:20\n",
      "   ---------------- ----------------------- 1.6/3.8 MB 114.0 kB/s eta 0:00:20\n",
      "   ---------------- ----------------------- 1.6/3.8 MB 114.0 kB/s eta 0:00:20\n",
      "   ---------------- ----------------------- 1.6/3.8 MB 114.0 kB/s eta 0:00:20\n",
      "   ---------------- ----------------------- 1.6/3.8 MB 114.0 kB/s eta 0:00:20\n",
      "   ---------------- ----------------------- 1.6/3.8 MB 114.0 kB/s eta 0:00:20\n",
      "   ---------------- ----------------------- 1.6/3.8 MB 113.4 kB/s eta 0:00:20\n",
      "   ---------------- ----------------------- 1.6/3.8 MB 113.4 kB/s eta 0:00:20\n",
      "   ---------------- ----------------------- 1.6/3.8 MB 113.4 kB/s eta 0:00:20\n",
      "   ---------------- ----------------------- 1.6/3.8 MB 113.0 kB/s eta 0:00:20\n",
      "   ---------------- ----------------------- 1.6/3.8 MB 113.0 kB/s eta 0:00:20\n",
      "   ---------------- ----------------------- 1.6/3.8 MB 113.7 kB/s eta 0:00:20\n",
      "   ---------------- ----------------------- 1.6/3.8 MB 113.7 kB/s eta 0:00:20\n",
      "   ----------------- ---------------------- 1.6/3.8 MB 113.5 kB/s eta 0:00:20\n",
      "   ----------------- ---------------------- 1.6/3.8 MB 113.5 kB/s eta 0:00:20\n",
      "   ----------------- ---------------------- 1.6/3.8 MB 113.5 kB/s eta 0:00:20\n",
      "   ----------------- ---------------------- 1.6/3.8 MB 114.1 kB/s eta 0:00:19\n",
      "   ----------------- ---------------------- 1.6/3.8 MB 114.1 kB/s eta 0:00:19\n",
      "   ----------------- ---------------------- 1.7/3.8 MB 114.7 kB/s eta 0:00:19\n",
      "   ----------------- ---------------------- 1.7/3.8 MB 114.7 kB/s eta 0:00:19\n",
      "   ----------------- ---------------------- 1.7/3.8 MB 114.2 kB/s eta 0:00:19\n",
      "   ----------------- ---------------------- 1.7/3.8 MB 114.2 kB/s eta 0:00:19\n",
      "   ----------------- ---------------------- 1.7/3.8 MB 114.2 kB/s eta 0:00:19\n",
      "   ----------------- ---------------------- 1.7/3.8 MB 114.2 kB/s eta 0:00:19\n",
      "   ----------------- ---------------------- 1.7/3.8 MB 114.4 kB/s eta 0:00:19\n",
      "   ----------------- ---------------------- 1.7/3.8 MB 114.4 kB/s eta 0:00:19\n",
      "   ----------------- ---------------------- 1.7/3.8 MB 114.4 kB/s eta 0:00:19\n",
      "   ----------------- ---------------------- 1.7/3.8 MB 113.9 kB/s eta 0:00:19\n",
      "   ----------------- ---------------------- 1.7/3.8 MB 113.9 kB/s eta 0:00:19\n",
      "   ------------------ --------------------- 1.7/3.8 MB 114.6 kB/s eta 0:00:19\n",
      "   ------------------ --------------------- 1.7/3.8 MB 114.6 kB/s eta 0:00:19\n",
      "   ------------------ --------------------- 1.8/3.8 MB 115.2 kB/s eta 0:00:18\n",
      "   ------------------ --------------------- 1.8/3.8 MB 115.2 kB/s eta 0:00:18\n",
      "   ------------------ --------------------- 1.8/3.8 MB 115.2 kB/s eta 0:00:18\n",
      "   ------------------ --------------------- 1.8/3.8 MB 114.7 kB/s eta 0:00:18\n",
      "   ------------------ --------------------- 1.8/3.8 MB 114.7 kB/s eta 0:00:18\n",
      "   ------------------ --------------------- 1.8/3.8 MB 114.7 kB/s eta 0:00:18\n",
      "   ------------------ --------------------- 1.8/3.8 MB 115.0 kB/s eta 0:00:18\n",
      "   ------------------ --------------------- 1.8/3.8 MB 115.0 kB/s eta 0:00:18\n",
      "   ------------------ --------------------- 1.8/3.8 MB 114.8 kB/s eta 0:00:18\n",
      "   ------------------ --------------------- 1.8/3.8 MB 114.8 kB/s eta 0:00:18\n",
      "   ------------------ --------------------- 1.8/3.8 MB 114.8 kB/s eta 0:00:18\n",
      "   ------------------- -------------------- 1.8/3.8 MB 115.1 kB/s eta 0:00:18\n",
      "   ------------------- -------------------- 1.8/3.8 MB 115.1 kB/s eta 0:00:18\n",
      "   ------------------- -------------------- 1.8/3.8 MB 115.7 kB/s eta 0:00:18\n",
      "   ------------------- -------------------- 1.8/3.8 MB 115.7 kB/s eta 0:00:18\n",
      "   ------------------- -------------------- 1.8/3.8 MB 115.7 kB/s eta 0:00:18\n",
      "   ------------------- -------------------- 1.8/3.8 MB 115.5 kB/s eta 0:00:18\n",
      "   ------------------- -------------------- 1.8/3.8 MB 115.5 kB/s eta 0:00:18\n",
      "   ------------------- -------------------- 1.8/3.8 MB 115.5 kB/s eta 0:00:18\n",
      "   ------------------- -------------------- 1.9/3.8 MB 115.8 kB/s eta 0:00:17\n",
      "   ------------------- -------------------- 1.9/3.8 MB 115.8 kB/s eta 0:00:17\n",
      "   ------------------- -------------------- 1.9/3.8 MB 115.8 kB/s eta 0:00:17\n",
      "   ------------------- -------------------- 1.9/3.8 MB 115.5 kB/s eta 0:00:17\n",
      "   ------------------- -------------------- 1.9/3.8 MB 115.5 kB/s eta 0:00:17\n",
      "   ------------------- -------------------- 1.9/3.8 MB 115.8 kB/s eta 0:00:17\n",
      "   ------------------- -------------------- 1.9/3.8 MB 115.8 kB/s eta 0:00:17\n",
      "   -------------------- ------------------- 1.9/3.8 MB 116.4 kB/s eta 0:00:17\n",
      "   -------------------- ------------------- 1.9/3.8 MB 116.4 kB/s eta 0:00:17\n",
      "   -------------------- ------------------- 1.9/3.8 MB 116.4 kB/s eta 0:00:17\n",
      "   -------------------- ------------------- 1.9/3.8 MB 116.4 kB/s eta 0:00:17\n",
      "   -------------------- ------------------- 1.9/3.8 MB 116.4 kB/s eta 0:00:17\n",
      "   -------------------- ------------------- 1.9/3.8 MB 116.4 kB/s eta 0:00:17\n",
      "   -------------------- ------------------- 1.9/3.8 MB 116.4 kB/s eta 0:00:17\n",
      "   -------------------- ------------------- 1.9/3.8 MB 114.9 kB/s eta 0:00:17\n",
      "   -------------------- ------------------- 1.9/3.8 MB 114.9 kB/s eta 0:00:17\n",
      "   -------------------- ------------------- 1.9/3.8 MB 114.9 kB/s eta 0:00:17\n",
      "   -------------------- ------------------- 1.9/3.8 MB 114.9 kB/s eta 0:00:17\n",
      "   -------------------- ------------------- 1.9/3.8 MB 114.8 kB/s eta 0:00:17\n",
      "   -------------------- ------------------- 1.9/3.8 MB 114.8 kB/s eta 0:00:17\n",
      "   -------------------- ------------------- 2.0/3.8 MB 114.4 kB/s eta 0:00:17\n",
      "   -------------------- ------------------- 2.0/3.8 MB 114.4 kB/s eta 0:00:17\n",
      "   -------------------- ------------------- 2.0/3.8 MB 114.9 kB/s eta 0:00:17\n",
      "   -------------------- ------------------- 2.0/3.8 MB 114.9 kB/s eta 0:00:17\n",
      "   -------------------- ------------------- 2.0/3.8 MB 114.9 kB/s eta 0:00:17\n",
      "   -------------------- ------------------- 2.0/3.8 MB 114.9 kB/s eta 0:00:17\n",
      "   -------------------- ------------------- 2.0/3.8 MB 115.2 kB/s eta 0:00:16\n",
      "   -------------------- ------------------- 2.0/3.8 MB 115.2 kB/s eta 0:00:16\n",
      "   --------------------- ------------------ 2.0/3.8 MB 115.1 kB/s eta 0:00:16\n",
      "   --------------------- ------------------ 2.0/3.8 MB 115.1 kB/s eta 0:00:16\n",
      "   --------------------- ------------------ 2.0/3.8 MB 115.6 kB/s eta 0:00:16\n",
      "   --------------------- ------------------ 2.0/3.8 MB 115.6 kB/s eta 0:00:16\n",
      "   --------------------- ------------------ 2.0/3.8 MB 115.4 kB/s eta 0:00:16\n",
      "   --------------------- ------------------ 2.0/3.8 MB 115.4 kB/s eta 0:00:16\n",
      "   --------------------- ------------------ 2.1/3.8 MB 116.0 kB/s eta 0:00:16\n",
      "   --------------------- ------------------ 2.1/3.8 MB 116.0 kB/s eta 0:00:16\n",
      "   --------------------- ------------------ 2.1/3.8 MB 116.5 kB/s eta 0:00:15\n",
      "   --------------------- ------------------ 2.1/3.8 MB 116.5 kB/s eta 0:00:15\n",
      "   --------------------- ------------------ 2.1/3.8 MB 116.4 kB/s eta 0:00:15\n",
      "   --------------------- ------------------ 2.1/3.8 MB 116.4 kB/s eta 0:00:15\n",
      "   ---------------------- ----------------- 2.1/3.8 MB 117.0 kB/s eta 0:00:15\n",
      "   ---------------------- ----------------- 2.1/3.8 MB 117.0 kB/s eta 0:00:15\n",
      "   ---------------------- ----------------- 2.1/3.8 MB 117.0 kB/s eta 0:00:15\n",
      "   ---------------------- ----------------- 2.1/3.8 MB 117.0 kB/s eta 0:00:15\n",
      "   ---------------------- ----------------- 2.1/3.8 MB 117.5 kB/s eta 0:00:15\n",
      "   ---------------------- ----------------- 2.1/3.8 MB 117.5 kB/s eta 0:00:15\n",
      "   ---------------------- ----------------- 2.2/3.8 MB 117.8 kB/s eta 0:00:15\n",
      "   ---------------------- ----------------- 2.2/3.8 MB 117.8 kB/s eta 0:00:15\n",
      "   ---------------------- ----------------- 2.2/3.8 MB 117.8 kB/s eta 0:00:15\n",
      "   ---------------------- ----------------- 2.2/3.8 MB 117.6 kB/s eta 0:00:14\n",
      "   ---------------------- ----------------- 2.2/3.8 MB 117.6 kB/s eta 0:00:14\n",
      "   ---------------------- ----------------- 2.2/3.8 MB 117.6 kB/s eta 0:00:14\n",
      "   ---------------------- ----------------- 2.2/3.8 MB 117.6 kB/s eta 0:00:14\n",
      "   ---------------------- ----------------- 2.2/3.8 MB 117.3 kB/s eta 0:00:14\n",
      "   ---------------------- ----------------- 2.2/3.8 MB 117.3 kB/s eta 0:00:14\n",
      "   ---------------------- ----------------- 2.2/3.8 MB 117.3 kB/s eta 0:00:14\n",
      "   ---------------------- ----------------- 2.2/3.8 MB 117.3 kB/s eta 0:00:14\n",
      "   ---------------------- ----------------- 2.2/3.8 MB 117.3 kB/s eta 0:00:14\n",
      "   ----------------------- ---------------- 2.2/3.8 MB 116.3 kB/s eta 0:00:14\n",
      "   ----------------------- ---------------- 2.2/3.8 MB 116.3 kB/s eta 0:00:14\n",
      "   ----------------------- ---------------- 2.2/3.8 MB 116.3 kB/s eta 0:00:14\n",
      "   ----------------------- ---------------- 2.2/3.8 MB 116.3 kB/s eta 0:00:14\n",
      "   ----------------------- ---------------- 2.2/3.8 MB 116.3 kB/s eta 0:00:14\n",
      "   ----------------------- ---------------- 2.2/3.8 MB 116.3 kB/s eta 0:00:14\n",
      "   ----------------------- ---------------- 2.2/3.8 MB 115.7 kB/s eta 0:00:14\n",
      "   ----------------------- ---------------- 2.2/3.8 MB 115.7 kB/s eta 0:00:14\n",
      "   ----------------------- ---------------- 2.2/3.8 MB 115.7 kB/s eta 0:00:14\n",
      "   ----------------------- ---------------- 2.2/3.8 MB 115.7 kB/s eta 0:00:14\n",
      "   ----------------------- ---------------- 2.2/3.8 MB 115.7 kB/s eta 0:00:14\n",
      "   ----------------------- ---------------- 2.2/3.8 MB 115.5 kB/s eta 0:00:14\n",
      "   ----------------------- ---------------- 2.2/3.8 MB 115.5 kB/s eta 0:00:14\n",
      "   ----------------------- ---------------- 2.2/3.8 MB 115.5 kB/s eta 0:00:14\n",
      "   ----------------------- ---------------- 2.2/3.8 MB 115.5 kB/s eta 0:00:14\n",
      "   ----------------------- ---------------- 2.2/3.8 MB 115.5 kB/s eta 0:00:14\n",
      "   ----------------------- ---------------- 2.3/3.8 MB 114.5 kB/s eta 0:00:14\n",
      "   ----------------------- ---------------- 2.3/3.8 MB 114.5 kB/s eta 0:00:14\n",
      "   ----------------------- ---------------- 2.3/3.8 MB 114.5 kB/s eta 0:00:14\n",
      "   ----------------------- ---------------- 2.3/3.8 MB 114.5 kB/s eta 0:00:14\n",
      "   ----------------------- ---------------- 2.3/3.8 MB 114.3 kB/s eta 0:00:14\n",
      "   ----------------------- ---------------- 2.3/3.8 MB 114.3 kB/s eta 0:00:14\n",
      "   ----------------------- ---------------- 2.3/3.8 MB 114.3 kB/s eta 0:00:14\n",
      "   ----------------------- ---------------- 2.3/3.8 MB 114.3 kB/s eta 0:00:14\n",
      "   ----------------------- ---------------- 2.3/3.8 MB 114.3 kB/s eta 0:00:14\n",
      "   ----------------------- ---------------- 2.3/3.8 MB 114.3 kB/s eta 0:00:14\n",
      "   ----------------------- ---------------- 2.3/3.8 MB 113.1 kB/s eta 0:00:14\n",
      "   ----------------------- ---------------- 2.3/3.8 MB 113.1 kB/s eta 0:00:14\n",
      "   ----------------------- ---------------- 2.3/3.8 MB 113.1 kB/s eta 0:00:14\n",
      "   ----------------------- ---------------- 2.3/3.8 MB 113.1 kB/s eta 0:00:14\n",
      "   ----------------------- ---------------- 2.3/3.8 MB 113.1 kB/s eta 0:00:14\n",
      "   ----------------------- ---------------- 2.3/3.8 MB 113.1 kB/s eta 0:00:14\n",
      "   ----------------------- ---------------- 2.3/3.8 MB 113.1 kB/s eta 0:00:14\n",
      "   ----------------------- ---------------- 2.3/3.8 MB 113.1 kB/s eta 0:00:14\n",
      "   ----------------------- ---------------- 2.3/3.8 MB 113.1 kB/s eta 0:00:14\n",
      "   ------------------------ --------------- 2.3/3.8 MB 111.8 kB/s eta 0:00:14\n",
      "   ------------------------ --------------- 2.3/3.8 MB 111.8 kB/s eta 0:00:14\n",
      "   ------------------------ --------------- 2.3/3.8 MB 111.8 kB/s eta 0:00:14\n",
      "   ------------------------ --------------- 2.3/3.8 MB 112.0 kB/s eta 0:00:14\n",
      "   ------------------------ --------------- 2.3/3.8 MB 112.0 kB/s eta 0:00:14\n",
      "   ------------------------ --------------- 2.3/3.8 MB 112.0 kB/s eta 0:00:14\n",
      "   ------------------------ --------------- 2.3/3.8 MB 112.0 kB/s eta 0:00:14\n",
      "   ------------------------ --------------- 2.3/3.8 MB 111.4 kB/s eta 0:00:14\n",
      "   ------------------------ --------------- 2.3/3.8 MB 111.4 kB/s eta 0:00:14\n",
      "   ------------------------ --------------- 2.3/3.8 MB 111.4 kB/s eta 0:00:14\n",
      "   ------------------------ --------------- 2.4/3.8 MB 111.6 kB/s eta 0:00:14\n",
      "   ------------------------ --------------- 2.4/3.8 MB 111.6 kB/s eta 0:00:14\n",
      "   ------------------------ --------------- 2.4/3.8 MB 111.6 kB/s eta 0:00:14\n",
      "   ------------------------ --------------- 2.4/3.8 MB 111.3 kB/s eta 0:00:14\n",
      "   ------------------------ --------------- 2.4/3.8 MB 111.3 kB/s eta 0:00:14\n",
      "   ------------------------ --------------- 2.4/3.8 MB 111.3 kB/s eta 0:00:14\n",
      "   ------------------------- -------------- 2.4/3.8 MB 111.6 kB/s eta 0:00:13\n",
      "   ------------------------- -------------- 2.4/3.8 MB 111.6 kB/s eta 0:00:13\n",
      "   ------------------------- -------------- 2.4/3.8 MB 112.1 kB/s eta 0:00:13\n",
      "   ------------------------- -------------- 2.4/3.8 MB 112.2 kB/s eta 0:00:13\n",
      "   ------------------------- -------------- 2.4/3.8 MB 112.2 kB/s eta 0:00:13\n",
      "   ------------------------- -------------- 2.4/3.8 MB 112.7 kB/s eta 0:00:13\n",
      "   ------------------------- -------------- 2.4/3.8 MB 112.7 kB/s eta 0:00:13\n",
      "   ------------------------- -------------- 2.4/3.8 MB 112.7 kB/s eta 0:00:13\n",
      "   ------------------------- -------------- 2.4/3.8 MB 112.7 kB/s eta 0:00:13\n",
      "   ------------------------- -------------- 2.5/3.8 MB 113.2 kB/s eta 0:00:12\n",
      "   ------------------------- -------------- 2.5/3.8 MB 113.2 kB/s eta 0:00:12\n",
      "   -------------------------- ------------- 2.5/3.8 MB 113.7 kB/s eta 0:00:12\n",
      "   -------------------------- ------------- 2.5/3.8 MB 113.7 kB/s eta 0:00:12\n",
      "   -------------------------- ------------- 2.5/3.8 MB 113.8 kB/s eta 0:00:12\n",
      "   -------------------------- ------------- 2.5/3.8 MB 113.8 kB/s eta 0:00:12\n",
      "   -------------------------- ------------- 2.5/3.8 MB 114.1 kB/s eta 0:00:12\n",
      "   -------------------------- ------------- 2.5/3.8 MB 114.3 kB/s eta 0:00:12\n",
      "   -------------------------- ------------- 2.5/3.8 MB 114.3 kB/s eta 0:00:12\n",
      "   -------------------------- ------------- 2.5/3.8 MB 114.7 kB/s eta 0:00:12\n",
      "   -------------------------- ------------- 2.5/3.8 MB 114.7 kB/s eta 0:00:12\n",
      "   -------------------------- ------------- 2.5/3.8 MB 114.7 kB/s eta 0:00:12\n",
      "   -------------------------- ------------- 2.6/3.8 MB 114.8 kB/s eta 0:00:11\n",
      "   -------------------------- ------------- 2.6/3.8 MB 114.8 kB/s eta 0:00:11\n",
      "   --------------------------- ------------ 2.6/3.8 MB 114.9 kB/s eta 0:00:11\n",
      "   --------------------------- ------------ 2.6/3.8 MB 114.9 kB/s eta 0:00:11\n",
      "   --------------------------- ------------ 2.6/3.8 MB 114.9 kB/s eta 0:00:11\n",
      "   --------------------------- ------------ 2.6/3.8 MB 115.1 kB/s eta 0:00:11\n",
      "   --------------------------- ------------ 2.6/3.8 MB 115.1 kB/s eta 0:00:11\n",
      "   --------------------------- ------------ 2.6/3.8 MB 115.1 kB/s eta 0:00:11\n",
      "   --------------------------- ------------ 2.6/3.8 MB 114.7 kB/s eta 0:00:11\n",
      "   --------------------------- ------------ 2.6/3.8 MB 114.7 kB/s eta 0:00:11\n",
      "   --------------------------- ------------ 2.6/3.8 MB 114.7 kB/s eta 0:00:11\n",
      "   --------------------------- ------------ 2.6/3.8 MB 115.1 kB/s eta 0:00:11\n",
      "   --------------------------- ------------ 2.6/3.8 MB 115.1 kB/s eta 0:00:11\n",
      "   --------------------------- ------------ 2.7/3.8 MB 115.4 kB/s eta 0:00:11\n",
      "   --------------------------- ------------ 2.7/3.8 MB 115.4 kB/s eta 0:00:11\n",
      "   --------------------------- ------------ 2.7/3.8 MB 115.4 kB/s eta 0:00:10\n",
      "   --------------------------- ------------ 2.7/3.8 MB 115.4 kB/s eta 0:00:10\n",
      "   --------------------------- ------------ 2.7/3.8 MB 115.4 kB/s eta 0:00:10\n",
      "   ---------------------------- ----------- 2.7/3.8 MB 115.6 kB/s eta 0:00:10\n",
      "   ---------------------------- ----------- 2.7/3.8 MB 115.6 kB/s eta 0:00:10\n",
      "   ---------------------------- ----------- 2.7/3.8 MB 115.4 kB/s eta 0:00:10\n",
      "   ---------------------------- ----------- 2.7/3.8 MB 115.4 kB/s eta 0:00:10\n",
      "   ---------------------------- ----------- 2.7/3.8 MB 115.4 kB/s eta 0:00:10\n",
      "   ---------------------------- ----------- 2.7/3.8 MB 115.7 kB/s eta 0:00:10\n",
      "   ---------------------------- ----------- 2.7/3.8 MB 115.7 kB/s eta 0:00:10\n",
      "   ---------------------------- ----------- 2.7/3.8 MB 116.1 kB/s eta 0:00:10\n",
      "   ---------------------------- ----------- 2.7/3.8 MB 116.1 kB/s eta 0:00:10\n",
      "   ---------------------------- ----------- 2.7/3.8 MB 116.0 kB/s eta 0:00:10\n",
      "   ---------------------------- ----------- 2.7/3.8 MB 116.0 kB/s eta 0:00:10\n",
      "   ---------------------------- ----------- 2.8/3.8 MB 116.4 kB/s eta 0:00:10\n",
      "   ---------------------------- ----------- 2.8/3.8 MB 116.4 kB/s eta 0:00:10\n",
      "   ---------------------------- ----------- 2.8/3.8 MB 116.4 kB/s eta 0:00:10\n",
      "   ----------------------------- ---------- 2.8/3.8 MB 116.3 kB/s eta 0:00:09\n",
      "   ----------------------------- ---------- 2.8/3.8 MB 116.3 kB/s eta 0:00:09\n",
      "   ----------------------------- ---------- 2.8/3.8 MB 116.3 kB/s eta 0:00:09\n",
      "   ----------------------------- ---------- 2.8/3.8 MB 116.4 kB/s eta 0:00:09\n",
      "   ----------------------------- ---------- 2.8/3.8 MB 116.4 kB/s eta 0:00:09\n",
      "   ----------------------------- ---------- 2.8/3.8 MB 116.4 kB/s eta 0:00:09\n",
      "   ----------------------------- ---------- 2.8/3.8 MB 116.4 kB/s eta 0:00:09\n",
      "   ----------------------------- ---------- 2.8/3.8 MB 116.1 kB/s eta 0:00:09\n",
      "   ----------------------------- ---------- 2.8/3.8 MB 116.1 kB/s eta 0:00:09\n",
      "   ----------------------------- ---------- 2.8/3.8 MB 116.1 kB/s eta 0:00:09\n",
      "   ----------------------------- ---------- 2.8/3.8 MB 116.0 kB/s eta 0:00:09\n",
      "   ----------------------------- ---------- 2.8/3.8 MB 116.0 kB/s eta 0:00:09\n",
      "   ----------------------------- ---------- 2.8/3.8 MB 116.0 kB/s eta 0:00:09\n",
      "   ----------------------------- ---------- 2.8/3.8 MB 116.1 kB/s eta 0:00:09\n",
      "   ----------------------------- ---------- 2.8/3.8 MB 116.1 kB/s eta 0:00:09\n",
      "   ----------------------------- ---------- 2.9/3.8 MB 116.0 kB/s eta 0:00:09\n",
      "   ----------------------------- ---------- 2.9/3.8 MB 116.0 kB/s eta 0:00:09\n",
      "   ----------------------------- ---------- 2.9/3.8 MB 116.0 kB/s eta 0:00:09\n",
      "   ------------------------------ --------- 2.9/3.8 MB 116.3 kB/s eta 0:00:09\n",
      "   ------------------------------ --------- 2.9/3.8 MB 116.3 kB/s eta 0:00:09\n",
      "   ------------------------------ --------- 2.9/3.8 MB 116.6 kB/s eta 0:00:08\n",
      "   ------------------------------ --------- 2.9/3.8 MB 116.6 kB/s eta 0:00:08\n",
      "   ------------------------------ --------- 2.9/3.8 MB 116.6 kB/s eta 0:00:08\n",
      "   ------------------------------ --------- 2.9/3.8 MB 116.3 kB/s eta 0:00:08\n",
      "   ------------------------------ --------- 2.9/3.8 MB 116.3 kB/s eta 0:00:08\n",
      "   ------------------------------ --------- 2.9/3.8 MB 116.3 kB/s eta 0:00:08\n",
      "   ------------------------------ --------- 2.9/3.8 MB 116.4 kB/s eta 0:00:08\n",
      "   ------------------------------ --------- 2.9/3.8 MB 116.4 kB/s eta 0:00:08\n",
      "   ------------------------------ --------- 2.9/3.8 MB 116.3 kB/s eta 0:00:08\n",
      "   ------------------------------ --------- 2.9/3.8 MB 116.3 kB/s eta 0:00:08\n",
      "   ------------------------------- -------- 3.0/3.8 MB 116.6 kB/s eta 0:00:08\n",
      "   ------------------------------- -------- 3.0/3.8 MB 116.6 kB/s eta 0:00:08\n",
      "   ------------------------------- -------- 3.0/3.8 MB 116.6 kB/s eta 0:00:08\n",
      "   ------------------------------- -------- 3.0/3.8 MB 116.6 kB/s eta 0:00:08\n",
      "   ------------------------------- -------- 3.0/3.8 MB 116.7 kB/s eta 0:00:08\n",
      "   ------------------------------- -------- 3.0/3.8 MB 116.7 kB/s eta 0:00:08\n",
      "   ------------------------------- -------- 3.0/3.8 MB 116.7 kB/s eta 0:00:08\n",
      "   ------------------------------- -------- 3.0/3.8 MB 116.7 kB/s eta 0:00:08\n",
      "   ------------------------------- -------- 3.0/3.8 MB 116.7 kB/s eta 0:00:08\n",
      "   ------------------------------- -------- 3.0/3.8 MB 116.0 kB/s eta 0:00:08\n",
      "   ------------------------------- -------- 3.0/3.8 MB 116.0 kB/s eta 0:00:08\n",
      "   ------------------------------- -------- 3.0/3.8 MB 116.0 kB/s eta 0:00:08\n",
      "   ------------------------------- -------- 3.0/3.8 MB 116.0 kB/s eta 0:00:08\n",
      "   ------------------------------- -------- 3.0/3.8 MB 116.0 kB/s eta 0:00:08\n",
      "   ------------------------------- -------- 3.0/3.8 MB 116.0 kB/s eta 0:00:08\n",
      "   ------------------------------- -------- 3.0/3.8 MB 115.5 kB/s eta 0:00:07\n",
      "   ------------------------------- -------- 3.0/3.8 MB 115.5 kB/s eta 0:00:07\n",
      "   ------------------------------- -------- 3.0/3.8 MB 115.5 kB/s eta 0:00:07\n",
      "   ------------------------------- -------- 3.0/3.8 MB 115.5 kB/s eta 0:00:07\n",
      "   ------------------------------- -------- 3.0/3.8 MB 115.5 kB/s eta 0:00:07\n",
      "   ------------------------------- -------- 3.0/3.8 MB 115.5 kB/s eta 0:00:07\n",
      "   ------------------------------- -------- 3.0/3.8 MB 114.6 kB/s eta 0:00:07\n",
      "   ------------------------------- -------- 3.0/3.8 MB 114.6 kB/s eta 0:00:07\n",
      "   ------------------------------- -------- 3.0/3.8 MB 114.6 kB/s eta 0:00:07\n",
      "   ------------------------------- -------- 3.0/3.8 MB 114.6 kB/s eta 0:00:07\n",
      "   ------------------------------- -------- 3.0/3.8 MB 114.5 kB/s eta 0:00:07\n",
      "   ------------------------------- -------- 3.0/3.8 MB 114.5 kB/s eta 0:00:07\n",
      "   ------------------------------- -------- 3.0/3.8 MB 114.5 kB/s eta 0:00:07\n",
      "   ------------------------------- -------- 3.0/3.8 MB 114.5 kB/s eta 0:00:07\n",
      "   -------------------------------- ------- 3.1/3.8 MB 114.5 kB/s eta 0:00:07\n",
      "   -------------------------------- ------- 3.1/3.8 MB 114.5 kB/s eta 0:00:07\n",
      "   -------------------------------- ------- 3.1/3.8 MB 114.5 kB/s eta 0:00:07\n",
      "   -------------------------------- ------- 3.1/3.8 MB 114.5 kB/s eta 0:00:07\n",
      "   -------------------------------- ------- 3.1/3.8 MB 114.1 kB/s eta 0:00:07\n",
      "   -------------------------------- ------- 3.1/3.8 MB 114.1 kB/s eta 0:00:07\n",
      "   -------------------------------- ------- 3.1/3.8 MB 114.1 kB/s eta 0:00:07\n",
      "   -------------------------------- ------- 3.1/3.8 MB 114.2 kB/s eta 0:00:07\n",
      "   -------------------------------- ------- 3.1/3.8 MB 114.2 kB/s eta 0:00:07\n",
      "   -------------------------------- ------- 3.1/3.8 MB 114.2 kB/s eta 0:00:07\n",
      "   -------------------------------- ------- 3.1/3.8 MB 114.2 kB/s eta 0:00:07\n",
      "   -------------------------------- ------- 3.1/3.8 MB 114.2 kB/s eta 0:00:07\n",
      "   -------------------------------- ------- 3.1/3.8 MB 114.4 kB/s eta 0:00:07\n",
      "   -------------------------------- ------- 3.1/3.8 MB 114.4 kB/s eta 0:00:07\n",
      "   -------------------------------- ------- 3.1/3.8 MB 114.7 kB/s eta 0:00:06\n",
      "   -------------------------------- ------- 3.1/3.8 MB 114.7 kB/s eta 0:00:06\n",
      "   -------------------------------- ------- 3.1/3.8 MB 114.7 kB/s eta 0:00:06\n",
      "   --------------------------------- ------ 3.2/3.8 MB 114.6 kB/s eta 0:00:06\n",
      "   --------------------------------- ------ 3.2/3.8 MB 114.6 kB/s eta 0:00:06\n",
      "   --------------------------------- ------ 3.2/3.8 MB 114.6 kB/s eta 0:00:06\n",
      "   --------------------------------- ------ 3.2/3.8 MB 114.7 kB/s eta 0:00:06\n",
      "   --------------------------------- ------ 3.2/3.8 MB 114.7 kB/s eta 0:00:06\n",
      "   --------------------------------- ------ 3.2/3.8 MB 114.7 kB/s eta 0:00:06\n",
      "   --------------------------------- ------ 3.2/3.8 MB 114.7 kB/s eta 0:00:06\n",
      "   --------------------------------- ------ 3.2/3.8 MB 114.7 kB/s eta 0:00:06\n",
      "   --------------------------------- ------ 3.2/3.8 MB 114.1 kB/s eta 0:00:06\n",
      "   --------------------------------- ------ 3.2/3.8 MB 114.1 kB/s eta 0:00:06\n",
      "   --------------------------------- ------ 3.2/3.8 MB 114.1 kB/s eta 0:00:06\n",
      "   --------------------------------- ------ 3.2/3.8 MB 114.1 kB/s eta 0:00:06\n",
      "   --------------------------------- ------ 3.2/3.8 MB 114.2 kB/s eta 0:00:06\n",
      "   --------------------------------- ------ 3.2/3.8 MB 114.2 kB/s eta 0:00:06\n",
      "   --------------------------------- ------ 3.2/3.8 MB 114.2 kB/s eta 0:00:06\n",
      "   --------------------------------- ------ 3.2/3.8 MB 114.3 kB/s eta 0:00:06\n",
      "   --------------------------------- ------ 3.2/3.8 MB 114.3 kB/s eta 0:00:06\n",
      "   --------------------------------- ------ 3.2/3.8 MB 114.3 kB/s eta 0:00:06\n",
      "   --------------------------------- ------ 3.2/3.8 MB 114.1 kB/s eta 0:00:06\n",
      "   --------------------------------- ------ 3.2/3.8 MB 114.1 kB/s eta 0:00:06\n",
      "   --------------------------------- ------ 3.2/3.8 MB 114.1 kB/s eta 0:00:06\n",
      "   --------------------------------- ------ 3.2/3.8 MB 114.1 kB/s eta 0:00:06\n",
      "   --------------------------------- ------ 3.2/3.8 MB 114.1 kB/s eta 0:00:06\n",
      "   --------------------------------- ------ 3.2/3.8 MB 114.1 kB/s eta 0:00:06\n",
      "   --------------------------------- ------ 3.2/3.8 MB 114.1 kB/s eta 0:00:06\n",
      "   ---------------------------------- ----- 3.3/3.8 MB 113.4 kB/s eta 0:00:05\n",
      "   ---------------------------------- ----- 3.3/3.8 MB 113.4 kB/s eta 0:00:05\n",
      "   ---------------------------------- ----- 3.3/3.8 MB 113.4 kB/s eta 0:00:05\n",
      "   ---------------------------------- ----- 3.3/3.8 MB 113.4 kB/s eta 0:00:05\n",
      "   ---------------------------------- ----- 3.3/3.8 MB 113.4 kB/s eta 0:00:05\n",
      "   ---------------------------------- ----- 3.3/3.8 MB 113.0 kB/s eta 0:00:05\n",
      "   ---------------------------------- ----- 3.3/3.8 MB 113.0 kB/s eta 0:00:05\n",
      "   ---------------------------------- ----- 3.3/3.8 MB 113.0 kB/s eta 0:00:05\n",
      "   ---------------------------------- ----- 3.3/3.8 MB 113.0 kB/s eta 0:00:05\n",
      "   ---------------------------------- ----- 3.3/3.8 MB 113.0 kB/s eta 0:00:05\n",
      "   ---------------------------------- ----- 3.3/3.8 MB 112.7 kB/s eta 0:00:05\n",
      "   ---------------------------------- ----- 3.3/3.8 MB 112.7 kB/s eta 0:00:05\n",
      "   ---------------------------------- ----- 3.3/3.8 MB 113.0 kB/s eta 0:00:05\n",
      "   ---------------------------------- ----- 3.3/3.8 MB 113.0 kB/s eta 0:00:05\n",
      "   ---------------------------------- ----- 3.3/3.8 MB 113.0 kB/s eta 0:00:05\n",
      "   ---------------------------------- ----- 3.3/3.8 MB 112.7 kB/s eta 0:00:05\n",
      "   ---------------------------------- ----- 3.3/3.8 MB 112.7 kB/s eta 0:00:05\n",
      "   ---------------------------------- ----- 3.3/3.8 MB 112.7 kB/s eta 0:00:05\n",
      "   ---------------------------------- ----- 3.3/3.8 MB 112.7 kB/s eta 0:00:05\n",
      "   ----------------------------------- ---- 3.3/3.8 MB 112.8 kB/s eta 0:00:05\n",
      "   ----------------------------------- ---- 3.3/3.8 MB 112.8 kB/s eta 0:00:05\n",
      "   ----------------------------------- ---- 3.3/3.8 MB 112.8 kB/s eta 0:00:05\n",
      "   ----------------------------------- ---- 3.3/3.8 MB 112.8 kB/s eta 0:00:05\n",
      "   ----------------------------------- ---- 3.3/3.8 MB 112.3 kB/s eta 0:00:05\n",
      "   ----------------------------------- ---- 3.3/3.8 MB 112.3 kB/s eta 0:00:05\n",
      "   ----------------------------------- ---- 3.3/3.8 MB 112.3 kB/s eta 0:00:05\n",
      "   ----------------------------------- ---- 3.3/3.8 MB 112.3 kB/s eta 0:00:05\n",
      "   ----------------------------------- ---- 3.4/3.8 MB 112.4 kB/s eta 0:00:04\n",
      "   ----------------------------------- ---- 3.4/3.8 MB 112.4 kB/s eta 0:00:04\n",
      "   ----------------------------------- ---- 3.4/3.8 MB 112.4 kB/s eta 0:00:04\n",
      "   ----------------------------------- ---- 3.4/3.8 MB 111.8 kB/s eta 0:00:04\n",
      "   ----------------------------------- ---- 3.4/3.8 MB 111.8 kB/s eta 0:00:04\n",
      "   ----------------------------------- ---- 3.4/3.8 MB 111.8 kB/s eta 0:00:04\n",
      "   ----------------------------------- ---- 3.4/3.8 MB 111.8 kB/s eta 0:00:04\n",
      "   ----------------------------------- ---- 3.4/3.8 MB 110.8 kB/s eta 0:00:04\n",
      "   ----------------------------------- ---- 3.4/3.8 MB 110.8 kB/s eta 0:00:04\n",
      "   ----------------------------------- ---- 3.4/3.8 MB 110.4 kB/s eta 0:00:04\n",
      "   ----------------------------------- ---- 3.4/3.8 MB 110.4 kB/s eta 0:00:04\n",
      "   ------------------------------------ --- 3.5/3.8 MB 110.1 kB/s eta 0:00:04\n",
      "   ------------------------------------ --- 3.5/3.8 MB 110.1 kB/s eta 0:00:04\n",
      "   ------------------------------------ --- 3.5/3.8 MB 110.1 kB/s eta 0:00:04\n",
      "   ------------------------------------ --- 3.5/3.8 MB 110.1 kB/s eta 0:00:04\n",
      "   ------------------------------------ --- 3.5/3.8 MB 110.4 kB/s eta 0:00:04\n",
      "   ------------------------------------ --- 3.5/3.8 MB 110.4 kB/s eta 0:00:04\n",
      "   ------------------------------------ --- 3.5/3.8 MB 110.4 kB/s eta 0:00:04\n",
      "   ------------------------------------ --- 3.5/3.8 MB 110.3 kB/s eta 0:00:04\n",
      "   ------------------------------------ --- 3.5/3.8 MB 110.3 kB/s eta 0:00:04\n",
      "   ------------------------------------ --- 3.5/3.8 MB 110.5 kB/s eta 0:00:03\n",
      "   ------------------------------------ --- 3.5/3.8 MB 110.5 kB/s eta 0:00:03\n",
      "   ------------------------------------ --- 3.5/3.8 MB 110.5 kB/s eta 0:00:03\n",
      "   ------------------------------------ --- 3.5/3.8 MB 110.5 kB/s eta 0:00:03\n",
      "   ------------------------------------ --- 3.5/3.8 MB 110.2 kB/s eta 0:00:03\n",
      "   ------------------------------------ --- 3.5/3.8 MB 110.2 kB/s eta 0:00:03\n",
      "   ------------------------------------ --- 3.5/3.8 MB 110.2 kB/s eta 0:00:03\n",
      "   ------------------------------------- -- 3.5/3.8 MB 110.9 kB/s eta 0:00:03\n",
      "   ------------------------------------- -- 3.5/3.8 MB 110.9 kB/s eta 0:00:03\n",
      "   ------------------------------------- -- 3.6/3.8 MB 111.2 kB/s eta 0:00:03\n",
      "   ------------------------------------- -- 3.6/3.8 MB 111.2 kB/s eta 0:00:03\n",
      "   ------------------------------------- -- 3.6/3.8 MB 111.2 kB/s eta 0:00:03\n",
      "   ------------------------------------- -- 3.6/3.8 MB 111.2 kB/s eta 0:00:03\n",
      "   ------------------------------------- -- 3.6/3.8 MB 111.2 kB/s eta 0:00:03\n",
      "   ------------------------------------- -- 3.6/3.8 MB 111.7 kB/s eta 0:00:03\n",
      "   ------------------------------------- -- 3.6/3.8 MB 111.7 kB/s eta 0:00:03\n",
      "   ------------------------------------- -- 3.6/3.8 MB 111.7 kB/s eta 0:00:03\n",
      "   ------------------------------------- -- 3.6/3.8 MB 111.6 kB/s eta 0:00:02\n",
      "   ------------------------------------- -- 3.6/3.8 MB 111.6 kB/s eta 0:00:02\n",
      "   ------------------------------------- -- 3.6/3.8 MB 111.9 kB/s eta 0:00:02\n",
      "   ------------------------------------- -- 3.6/3.8 MB 111.9 kB/s eta 0:00:02\n",
      "   ------------------------------------- -- 3.6/3.8 MB 111.9 kB/s eta 0:00:02\n",
      "   ------------------------------------- -- 3.6/3.8 MB 111.9 kB/s eta 0:00:02\n",
      "   -------------------------------------- - 3.6/3.8 MB 112.1 kB/s eta 0:00:02\n",
      "   -------------------------------------- - 3.6/3.8 MB 112.1 kB/s eta 0:00:02\n",
      "   -------------------------------------- - 3.6/3.8 MB 112.1 kB/s eta 0:00:02\n",
      "   -------------------------------------- - 3.6/3.8 MB 112.0 kB/s eta 0:00:02\n",
      "   -------------------------------------- - 3.6/3.8 MB 112.0 kB/s eta 0:00:02\n",
      "   -------------------------------------- - 3.6/3.8 MB 112.0 kB/s eta 0:00:02\n",
      "   -------------------------------------- - 3.7/3.8 MB 112.5 kB/s eta 0:00:02\n",
      "   -------------------------------------- - 3.7/3.8 MB 112.5 kB/s eta 0:00:02\n",
      "   -------------------------------------- - 3.7/3.8 MB 112.5 kB/s eta 0:00:02\n",
      "   -------------------------------------- - 3.7/3.8 MB 112.0 kB/s eta 0:00:02\n",
      "   -------------------------------------- - 3.7/3.8 MB 112.0 kB/s eta 0:00:02\n",
      "   -------------------------------------- - 3.7/3.8 MB 112.6 kB/s eta 0:00:02\n",
      "   -------------------------------------- - 3.7/3.8 MB 112.6 kB/s eta 0:00:02\n",
      "   -------------------------------------- - 3.7/3.8 MB 113.1 kB/s eta 0:00:01\n",
      "   -------------------------------------- - 3.7/3.8 MB 113.1 kB/s eta 0:00:01\n",
      "   -------------------------------------- - 3.7/3.8 MB 113.1 kB/s eta 0:00:01\n",
      "   ---------------------------------------  3.7/3.8 MB 112.9 kB/s eta 0:00:01\n",
      "   ---------------------------------------  3.7/3.8 MB 112.9 kB/s eta 0:00:01\n",
      "   ---------------------------------------  3.7/3.8 MB 113.2 kB/s eta 0:00:01\n",
      "   ---------------------------------------  3.7/3.8 MB 113.2 kB/s eta 0:00:01\n",
      "   ---------------------------------------  3.7/3.8 MB 113.2 kB/s eta 0:00:01\n",
      "   ---------------------------------------  3.7/3.8 MB 113.2 kB/s eta 0:00:01\n",
      "   ---------------------------------------  3.8/3.8 MB 113.2 kB/s eta 0:00:01\n",
      "   ---------------------------------------  3.8/3.8 MB 113.2 kB/s eta 0:00:01\n",
      "   ---------------------------------------  3.8/3.8 MB 113.2 kB/s eta 0:00:01\n",
      "   ---------------------------------------  3.8/3.8 MB 113.2 kB/s eta 0:00:01\n",
      "   ---------------------------------------  3.8/3.8 MB 113.5 kB/s eta 0:00:01\n",
      "   ---------------------------------------  3.8/3.8 MB 113.5 kB/s eta 0:00:01\n",
      "   ---------------------------------------  3.8/3.8 MB 113.5 kB/s eta 0:00:01\n",
      "   ---------------------------------------  3.8/3.8 MB 113.5 kB/s eta 0:00:01\n",
      "   ---------------------------------------  3.8/3.8 MB 113.5 kB/s eta 0:00:01\n",
      "   ---------------------------------------  3.8/3.8 MB 113.5 kB/s eta 0:00:01\n",
      "   ---------------------------------------  3.8/3.8 MB 114.7 kB/s eta 0:00:01\n",
      "   ---------------------------------------- 3.8/3.8 MB 114.8 kB/s eta 0:00:00\n",
      "Installing collected packages: lxml\n",
      "Successfully installed lxml-5.3.0\n",
      "Note: you may need to restart the kernel to use updated packages.\n"
     ]
    },
    {
     "name": "stderr",
     "output_type": "stream",
     "text": [
      "\n",
      "[notice] A new release of pip is available: 24.0 -> 24.3.1\n",
      "[notice] To update, run: C:\\Users\\1149p\\AppData\\Local\\Microsoft\\WindowsApps\\PythonSoftwareFoundation.Python.3.11_qbz5n2kfra8p0\\python.exe -m pip install --upgrade pip\n"
     ]
    }
   ],
   "source": [
    "pip install lxml"
   ]
  },
  {
   "cell_type": "code",
   "execution_count": 98,
   "metadata": {},
   "outputs": [
    {
     "name": "stdout",
     "output_type": "stream",
     "text": [
      "Collecting html5lib\n",
      "  Downloading html5lib-1.1-py2.py3-none-any.whl.metadata (16 kB)\n",
      "Requirement already satisfied: six>=1.9 in c:\\users\\1149p\\appdata\\local\\packages\\pythonsoftwarefoundation.python.3.11_qbz5n2kfra8p0\\localcache\\local-packages\\python311\\site-packages (from html5lib) (1.17.0)\n",
      "Collecting webencodings (from html5lib)\n",
      "  Downloading webencodings-0.5.1-py2.py3-none-any.whl.metadata (2.1 kB)\n",
      "Downloading html5lib-1.1-py2.py3-none-any.whl (112 kB)\n",
      "   ---------------------------------------- 0.0/112.2 kB ? eta -:--:--\n",
      "   --- ------------------------------------ 10.2/112.2 kB ? eta -:--:--\n",
      "   ------- ------------------------------- 20.5/112.2 kB 217.9 kB/s eta 0:00:01\n",
      "   ---------- ---------------------------- 30.7/112.2 kB 217.9 kB/s eta 0:00:01\n",
      "   ---------------------------- ---------- 81.9/112.2 kB 459.5 kB/s eta 0:00:01\n",
      "   -------------------------------------- 112.2/112.2 kB 502.1 kB/s eta 0:00:00\n",
      "Downloading webencodings-0.5.1-py2.py3-none-any.whl (11 kB)\n",
      "Installing collected packages: webencodings, html5lib\n",
      "Successfully installed html5lib-1.1 webencodings-0.5.1\n",
      "Note: you may need to restart the kernel to use updated packages.\n"
     ]
    },
    {
     "name": "stderr",
     "output_type": "stream",
     "text": [
      "\n",
      "[notice] A new release of pip is available: 24.0 -> 24.3.1\n",
      "[notice] To update, run: C:\\Users\\1149p\\AppData\\Local\\Microsoft\\WindowsApps\\PythonSoftwareFoundation.Python.3.11_qbz5n2kfra8p0\\python.exe -m pip install --upgrade pip\n"
     ]
    }
   ],
   "source": [
    "pip install html5lib"
   ]
  },
  {
   "cell_type": "markdown",
   "metadata": {},
   "source": [
    "**4. Read a `.txt` file**"
   ]
  },
  {
   "cell_type": "code",
   "execution_count": 105,
   "metadata": {},
   "outputs": [
    {
     "data": {
      "text/html": [
       "<div>\n",
       "<style scoped>\n",
       "    .dataframe tbody tr th:only-of-type {\n",
       "        vertical-align: middle;\n",
       "    }\n",
       "\n",
       "    .dataframe tbody tr th {\n",
       "        vertical-align: top;\n",
       "    }\n",
       "\n",
       "    .dataframe thead th {\n",
       "        text-align: right;\n",
       "    }\n",
       "</style>\n",
       "<table border=\"1\" class=\"dataframe\">\n",
       "  <thead>\n",
       "    <tr style=\"text-align: right;\">\n",
       "      <th></th>\n",
       "      <th>hi how are you</th>\n",
       "    </tr>\n",
       "  </thead>\n",
       "  <tbody>\n",
       "  </tbody>\n",
       "</table>\n",
       "</div>"
      ],
      "text/plain": [
       "Empty DataFrame\n",
       "Columns: [hi how are you]\n",
       "Index: []"
      ]
     },
     "execution_count": 105,
     "metadata": {},
     "output_type": "execute_result"
    }
   ],
   "source": [
    "data = pd.read_csv('example.txt', sep=\"\\t\")\n",
    "data.head()"
   ]
  },
  {
   "cell_type": "markdown",
   "metadata": {},
   "source": [
    "**5. Read a `.json` file**"
   ]
  },
  {
   "cell_type": "code",
   "execution_count": 106,
   "metadata": {},
   "outputs": [
    {
     "name": "stdout",
     "output_type": "stream",
     "text": [
      "{\"sepalLength\":5.1,\"sepalWidth\":3.5,\"petalLength\":1.4,\"petalWidth\":0.2,\"species\":\"setosa\"}\n",
      "{\"sepalLength\":4.9,\"sepalWidth\":3.0,\"petalLength\":1.4,\"petalWidth\":0.2,\"species\":\"setosa\"}\n",
      "{\"sepalLength\":4.7,\"sepalWidth\":3.2,\"petalLength\":1.3,\"petalWidth\":0.2,\"species\":\"setosa\"}\n",
      "{\"sepalLength\":4.6,\"sepalWidth\":3.1,\"petalLength\":1.5,\"petalWidth\":0.2,\"species\":\"setosa\"}\n",
      "{\"sepalLength\":5.0,\"sepalWidth\":3.6,\"petalLength\":1.4,\"petalWidth\":0.2,\"species\":\"setosa\"}\n",
      "{\"sepalLength\":6.7,\"sepalWidth\":3.0,\"petalLength\":5.2,\"petalWidth\":2.3,\"species\":\"virginica\"}\n",
      "{\"sepalLength\":6.3,\"sepalWidth\":2.5,\"petalLength\":5.0,\"petalWidth\":1.9,\"species\":\"virginica\"}\n",
      "{\"sepalLength\":6.5,\"sepalWidth\":3.0,\"petalLength\":5.2,\"petalWidth\":2.0,\"species\":\"virginica\"}\n",
      "{\"sepalLength\":6.2,\"sepalWidth\":3.4,\"petalLength\":5.4,\"petalWidth\":2.3,\"species\":\"virginica\"}\n",
      "{\"sepalLength\":5.9,\"sepalWidth\":3.0,\"petalLength\":5.1,\"petalWidth\":1.8,\"species\":\"virginica\"}\n",
      "\n"
     ]
    }
   ],
   "source": [
    "data = {\n",
    "    'sepalLength': [5.1, 4.9, 4.7, 4.6, 5.0, 6.7, 6.3, 6.5, 6.2, 5.9],\n",
    "    'sepalWidth': [3.5, 3.0, 3.2, 3.1, 3.6, 3.0, 2.5, 3.0, 3.4, 3.0],\n",
    "    'petalLength': [1.4, 1.4, 1.3, 1.5, 1.4, 5.2, 5.0, 5.2, 5.4, 5.1],\n",
    "    'petalWidth': [0.2, 0.2, 0.2, 0.2, 0.2, 2.3, 1.9, 2.0, 2.3, 1.8],\n",
    "    'species': ['setosa', 'setosa', 'setosa', 'setosa', 'setosa', 'virginica', 'virginica', 'virginica', 'virginica', 'virginica']\n",
    "}\n",
    "\n",
    "df = pd.DataFrame(data)\n",
    "\n",
    "# Convert the DataFrame to JSON\n",
    "json_data = df.to_json(orient='records', lines=True)\n",
    "\n",
    "# Print the JSON data\n",
    "print(json_data)"
   ]
  },
  {
   "cell_type": "code",
   "execution_count": 107,
   "metadata": {},
   "outputs": [],
   "source": [
    "with open('data.json', 'w') as f:\n",
    "    f.write(json_data)"
   ]
  },
  {
   "cell_type": "code",
   "execution_count": 109,
   "metadata": {},
   "outputs": [
    {
     "data": {
      "text/html": [
       "<div>\n",
       "<style scoped>\n",
       "    .dataframe tbody tr th:only-of-type {\n",
       "        vertical-align: middle;\n",
       "    }\n",
       "\n",
       "    .dataframe tbody tr th {\n",
       "        vertical-align: top;\n",
       "    }\n",
       "\n",
       "    .dataframe thead th {\n",
       "        text-align: right;\n",
       "    }\n",
       "</style>\n",
       "<table border=\"1\" class=\"dataframe\">\n",
       "  <thead>\n",
       "    <tr style=\"text-align: right;\">\n",
       "      <th></th>\n",
       "      <th>sepalLength</th>\n",
       "      <th>sepalWidth</th>\n",
       "      <th>petalLength</th>\n",
       "      <th>petalWidth</th>\n",
       "      <th>species</th>\n",
       "    </tr>\n",
       "  </thead>\n",
       "  <tbody>\n",
       "    <tr>\n",
       "      <th>0</th>\n",
       "      <td>5.1</td>\n",
       "      <td>3.5</td>\n",
       "      <td>1.4</td>\n",
       "      <td>0.2</td>\n",
       "      <td>setosa</td>\n",
       "    </tr>\n",
       "    <tr>\n",
       "      <th>1</th>\n",
       "      <td>4.9</td>\n",
       "      <td>3.0</td>\n",
       "      <td>1.4</td>\n",
       "      <td>0.2</td>\n",
       "      <td>setosa</td>\n",
       "    </tr>\n",
       "    <tr>\n",
       "      <th>2</th>\n",
       "      <td>4.7</td>\n",
       "      <td>3.2</td>\n",
       "      <td>1.3</td>\n",
       "      <td>0.2</td>\n",
       "      <td>setosa</td>\n",
       "    </tr>\n",
       "    <tr>\n",
       "      <th>3</th>\n",
       "      <td>4.6</td>\n",
       "      <td>3.1</td>\n",
       "      <td>1.5</td>\n",
       "      <td>0.2</td>\n",
       "      <td>setosa</td>\n",
       "    </tr>\n",
       "    <tr>\n",
       "      <th>4</th>\n",
       "      <td>5.0</td>\n",
       "      <td>3.6</td>\n",
       "      <td>1.4</td>\n",
       "      <td>0.2</td>\n",
       "      <td>setosa</td>\n",
       "    </tr>\n",
       "    <tr>\n",
       "      <th>5</th>\n",
       "      <td>6.7</td>\n",
       "      <td>3.0</td>\n",
       "      <td>5.2</td>\n",
       "      <td>2.3</td>\n",
       "      <td>virginica</td>\n",
       "    </tr>\n",
       "    <tr>\n",
       "      <th>6</th>\n",
       "      <td>6.3</td>\n",
       "      <td>2.5</td>\n",
       "      <td>5.0</td>\n",
       "      <td>1.9</td>\n",
       "      <td>virginica</td>\n",
       "    </tr>\n",
       "    <tr>\n",
       "      <th>7</th>\n",
       "      <td>6.5</td>\n",
       "      <td>3.0</td>\n",
       "      <td>5.2</td>\n",
       "      <td>2.0</td>\n",
       "      <td>virginica</td>\n",
       "    </tr>\n",
       "    <tr>\n",
       "      <th>8</th>\n",
       "      <td>6.2</td>\n",
       "      <td>3.4</td>\n",
       "      <td>5.4</td>\n",
       "      <td>2.3</td>\n",
       "      <td>virginica</td>\n",
       "    </tr>\n",
       "    <tr>\n",
       "      <th>9</th>\n",
       "      <td>5.9</td>\n",
       "      <td>3.0</td>\n",
       "      <td>5.1</td>\n",
       "      <td>1.8</td>\n",
       "      <td>virginica</td>\n",
       "    </tr>\n",
       "  </tbody>\n",
       "</table>\n",
       "</div>"
      ],
      "text/plain": [
       "   sepalLength  sepalWidth  petalLength  petalWidth    species\n",
       "0          5.1         3.5          1.4         0.2     setosa\n",
       "1          4.9         3.0          1.4         0.2     setosa\n",
       "2          4.7         3.2          1.3         0.2     setosa\n",
       "3          4.6         3.1          1.5         0.2     setosa\n",
       "4          5.0         3.6          1.4         0.2     setosa\n",
       "5          6.7         3.0          5.2         2.3  virginica\n",
       "6          6.3         2.5          5.0         1.9  virginica\n",
       "7          6.5         3.0          5.2         2.0  virginica\n",
       "8          6.2         3.4          5.4         2.3  virginica\n",
       "9          5.9         3.0          5.1         1.8  virginica"
      ]
     },
     "execution_count": 109,
     "metadata": {},
     "output_type": "execute_result"
    }
   ],
   "source": [
    "pd.read_json('data.json')"
   ]
  },
  {
   "cell_type": "markdown",
   "metadata": {},
   "source": [
    "**6. Read a `.xml` file**"
   ]
  },
  {
   "cell_type": "code",
   "execution_count": 115,
   "metadata": {},
   "outputs": [
    {
     "data": {
      "text/html": [
       "<div>\n",
       "<style scoped>\n",
       "    .dataframe tbody tr th:only-of-type {\n",
       "        vertical-align: middle;\n",
       "    }\n",
       "\n",
       "    .dataframe tbody tr th {\n",
       "        vertical-align: top;\n",
       "    }\n",
       "\n",
       "    .dataframe thead th {\n",
       "        text-align: right;\n",
       "    }\n",
       "</style>\n",
       "<table border=\"1\" class=\"dataframe\">\n",
       "  <thead>\n",
       "    <tr style=\"text-align: right;\">\n",
       "      <th></th>\n",
       "      <th>Name</th>\n",
       "      <th>Gender</th>\n",
       "      <th>Marks</th>\n",
       "    </tr>\n",
       "  </thead>\n",
       "  <tbody>\n",
       "    <tr>\n",
       "      <th>0</th>\n",
       "      <td>John</td>\n",
       "      <td>Male</td>\n",
       "      <td>85</td>\n",
       "    </tr>\n",
       "    <tr>\n",
       "      <th>1</th>\n",
       "      <td>Jane</td>\n",
       "      <td>Female</td>\n",
       "      <td>92</td>\n",
       "    </tr>\n",
       "    <tr>\n",
       "      <th>2</th>\n",
       "      <td>Alex</td>\n",
       "      <td>Male</td>\n",
       "      <td>78</td>\n",
       "    </tr>\n",
       "  </tbody>\n",
       "</table>\n",
       "</div>"
      ],
      "text/plain": [
       "   Name  Gender Marks\n",
       "0  John    Male    85\n",
       "1  Jane  Female    92\n",
       "2  Alex    Male    78"
      ]
     },
     "execution_count": 115,
     "metadata": {},
     "output_type": "execute_result"
    }
   ],
   "source": [
    "import xml.etree.ElementTree as ET \n",
    "\n",
    "tree = ET.parse(\"xml_file.xml\")\n",
    "root = tree.getroot() \n",
    "\n",
    "df_col = [\"Name\", \"Gender\", \"Marks\"]\n",
    "rows = []\n",
    "\n",
    "for node in root: \n",
    "    name = node.attrib.get(\"name\")\n",
    "    gender = node.find(\"gender\").text if node is not None else None\n",
    "    marks = node.find(\"marks\").text if node is not None else None\n",
    "    \n",
    "    rows.append({\"Name\": name, \"Gender\": gender, \n",
    "                 \"Marks\": marks})\n",
    "\n",
    "xml_df = pd.DataFrame(rows, columns = df_col)\n",
    "xml_df"
   ]
  },
  {
   "cell_type": "code",
   "execution_count": null,
   "metadata": {},
   "outputs": [],
   "source": []
  },
  {
   "cell_type": "code",
   "execution_count": null,
   "metadata": {},
   "outputs": [],
   "source": []
  }
 ],
 "metadata": {
  "kernelspec": {
   "display_name": "Python 3",
   "language": "python",
   "name": "python3"
  },
  "language_info": {
   "codemirror_mode": {
    "name": "ipython",
    "version": 3
   },
   "file_extension": ".py",
   "mimetype": "text/x-python",
   "name": "python",
   "nbconvert_exporter": "python",
   "pygments_lexer": "ipython3",
   "version": "3.11.9"
  }
 },
 "nbformat": 4,
 "nbformat_minor": 2
}
